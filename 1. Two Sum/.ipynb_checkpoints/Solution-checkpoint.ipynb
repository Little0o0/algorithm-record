{
 "cells": [
  {
   "cell_type": "code",
   "execution_count": 1,
   "id": "87c4c2e4",
   "metadata": {},
   "outputs": [],
   "source": [
    "# Problem\n",
    "# https://leetcode.com/problems/two-sum/"
   ]
  },
  {
   "cell_type": "markdown",
   "id": "98bf11ce",
   "metadata": {},
   "source": [
    "Using hashmap, which can reduce the time complexity from $O(N^2)$ to $O(N)$ "
   ]
  },
  {
   "cell_type": "code",
   "execution_count": 3,
   "id": "bc3f455e",
   "metadata": {},
   "outputs": [],
   "source": [
    "from typing import List\n",
    "class Solution:\n",
    "    def twoSum(self, nums: List[int], target: int) -> List[int]:\n",
    "        Map = {}\n",
    "        for index, num in enumerate(nums):\n",
    "            if target - num not in Map: # Because Map is a hashmap, the time complexity of search is O(1)\n",
    "                Map[num] = index\n",
    "            else:\n",
    "                return [Map[target - num], index]"
   ]
  },
  {
   "cell_type": "code",
   "execution_count": null,
   "id": "fbd54954",
   "metadata": {},
   "outputs": [],
   "source": []
  }
 ],
 "metadata": {
  "kernelspec": {
   "display_name": "Python 3 (ipykernel)",
   "language": "python",
   "name": "python3"
  },
  "language_info": {
   "codemirror_mode": {
    "name": "ipython",
    "version": 3
   },
   "file_extension": ".py",
   "mimetype": "text/x-python",
   "name": "python",
   "nbconvert_exporter": "python",
   "pygments_lexer": "ipython3",
   "version": "3.9.7"
  }
 },
 "nbformat": 4,
 "nbformat_minor": 5
}
