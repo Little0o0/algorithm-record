{
 "cells": [
  {
   "cell_type": "markdown",
   "id": "0ec60cb9",
   "metadata": {},
   "source": [
    "# 1504. Count Submatrices With All Ones\n",
    "\n",
    "Given an `m x n` binary matrix mat, return the number of submatrices that have all ones.\n",
    "\n",
    "```\n",
    "Input: mat = [[1,0,1],\n",
    "            [1,1,0],\n",
    "            [1,1,0]]\n",
    "Output: 13\n",
    "Explanation: \n",
    "There are 6 rectangles of side 1x1.\n",
    "There are 2 rectangles of side 1x2.\n",
    "There are 3 rectangles of side 2x1.\n",
    "There is 1 rectangle of side 2x2. \n",
    "There is 1 rectangle of side 3x1.\n",
    "Total number of rectangles = 6 + 2 + 3 + 1 + 1 = 13.\n",
    "```"
   ]
  },
  {
   "cell_type": "code",
   "execution_count": null,
   "id": "b7209b4e",
   "metadata": {},
   "outputs": [],
   "source": [
    "# Compress\n",
    "class Solution:\n",
    "    def numSubmat(self, mat: List[List[int]]) -> int:\n",
    "        \n",
    "        def countOneRow(row):\n",
    "            out = 0\n",
    "            length = 0\n",
    "            for i in range(len(row)):\n",
    "                length = 0 if row[i] == 0 else length + 1\n",
    "                out += length\n",
    "            return out\n",
    "        \n",
    "        def compress(row1, row2):\n",
    "            return [row1[i] & row2[i] for i in range(len(row1))]\n",
    "        \n",
    "        M = len(mat)\n",
    "        N = len(mat[0])\n",
    "        \n",
    "        out = 0\n",
    "        for i in range(M):\n",
    "            tmpRow = mat[i]\n",
    "            out += countOneRow(tmpRow)\n",
    "            for j in range(i+1, M):\n",
    "                tmpRow = compress(tmpRow, mat[j])\n",
    "                tmpOut = countOneRow(tmpRow)\n",
    "                out += tmpOut\n",
    "                if tmpOut == 0:\n",
    "                    break\n",
    "        return out"
   ]
  }
 ],
 "metadata": {
  "kernelspec": {
   "display_name": "Python 3 (ipykernel)",
   "language": "python",
   "name": "python3"
  },
  "language_info": {
   "codemirror_mode": {
    "name": "ipython",
    "version": 3
   },
   "file_extension": ".py",
   "mimetype": "text/x-python",
   "name": "python",
   "nbconvert_exporter": "python",
   "pygments_lexer": "ipython3",
   "version": "3.9.12"
  }
 },
 "nbformat": 4,
 "nbformat_minor": 5
}
