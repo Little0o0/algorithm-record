{
 "cells": [
  {
   "cell_type": "markdown",
   "id": "c63aa787",
   "metadata": {},
   "source": [
    "https://leetcode.com/problems/combination-sum/submissions/"
   ]
  },
  {
   "cell_type": "code",
   "execution_count": 5,
   "id": "de6085c8",
   "metadata": {},
   "outputs": [],
   "source": [
    "from typing import List"
   ]
  },
  {
   "cell_type": "code",
   "execution_count": 6,
   "id": "3eea153e",
   "metadata": {},
   "outputs": [],
   "source": [
    "# my solution \n",
    "\n",
    "# Bin packing problem \n",
    "class Solution:\n",
    "    def combinationSum(self, candidates: List[int], target: int) -> List[List[int]]:\n",
    "        for index, num in enumerate(candidates):\n",
    "            if target == 0: # if target is empty, return a empty combination\n",
    "                return [[ ]]\n",
    "            elif target < 0: # it means the combination exceeds the target, if will return a false combination\n",
    "                return [] \n",
    "            else:\n",
    "                sub_combaination_list = self.combinationSum( candidates[index:], target - num) \n",
    "                # if contain current candidate\n",
    "                contain_num_list = [ x + [num] for x in  sub_combaination_list]\n",
    "                # does contain current candidate, ** be careful for the last candidate, \n",
    "                # because the last candidate should not be bypass**\n",
    "                if index + 1 != len(candidates):\n",
    "                    not_contain_num_list = self.combinationSum(candidates[index + 1:], target)\n",
    "                else:\n",
    "                    not_contain_num_list = []\n",
    "                return contain_num_list + not_contain_num_list"
   ]
  },
  {
   "cell_type": "code",
   "execution_count": null,
   "id": "6f9a6f5a",
   "metadata": {},
   "outputs": [],
   "source": [
    "# others solution DFS \n",
    "\n",
    "# it can be viewed as a search problem, because the decision can be view as tree(not binary tree)\n",
    "\n",
    "class Solution(object):\n",
    "    def combinationSum(self, candidates, target):\n",
    "        ret = []\n",
    "        \n",
    "        self.dfs(candidates, target, [], ret)\n",
    "        return ret\n",
    "    \n",
    "    def dfs(self, nums, target, path, ret):\n",
    "        if target < 0:\n",
    "            return \n",
    "        if target == 0:\n",
    "            ret.append(path)\n",
    "            return \n",
    "        for i in range(len(nums)):\n",
    "            # **current node contain len(nums) sub-trees**\n",
    "            # ATTENTION! because the candidate can be used more then once, so the sub candidates will be nums[i:] not nums[i+1:]\n",
    "            self.dfs(nums[i:], target-nums[i], path+[nums[i]], ret)"
   ]
  },
  {
   "cell_type": "markdown",
   "id": "77b15e07",
   "metadata": {},
   "source": [
    "The difference between my solution and most-vote sulution is the architecture of the tree. My solution is a binary tree, and the left sub path means contain current num and right sub path means not contain. It will be slower because of the deeper depth. most voted solution is use a general tree, the child paths are the candidates."
   ]
  },
  {
   "cell_type": "code",
   "execution_count": null,
   "id": "78ebb8ec",
   "metadata": {},
   "outputs": [],
   "source": []
  }
 ],
 "metadata": {
  "kernelspec": {
   "display_name": "Python 3 (ipykernel)",
   "language": "python",
   "name": "python3"
  },
  "language_info": {
   "codemirror_mode": {
    "name": "ipython",
    "version": 3
   },
   "file_extension": ".py",
   "mimetype": "text/x-python",
   "name": "python",
   "nbconvert_exporter": "python",
   "pygments_lexer": "ipython3",
   "version": "3.9.7"
  }
 },
 "nbformat": 4,
 "nbformat_minor": 5
}
