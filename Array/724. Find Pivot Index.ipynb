{
 "cells": [
  {
   "cell_type": "markdown",
   "id": "a7bbe146",
   "metadata": {},
   "source": [
    "# 724. Find Pivot Index\n",
    "\n",
    "Given an array of integers nums, calculate the pivot index of this array.\n",
    "\n",
    "The pivot index is the index where the sum of all the numbers strictly to the left of the index is equal to the sum of all the numbers strictly to the index's right.\n",
    "\n",
    "If the index is on the left edge of the array, then the left sum is 0 because there are no elements to the left. This also applies to the right edge of the array.\n",
    "\n",
    "Return the leftmost pivot index. If no such index exists, return -1.\n",
    "\n",
    "\n",
    "https://leetcode.com/problems/find-pivot-index/\n"
   ]
  },
  {
   "cell_type": "code",
   "execution_count": null,
   "id": "3096efd5",
   "metadata": {},
   "outputs": [],
   "source": [
    "class Solution:\n",
    "    def pivotIndex(self, nums: List[int]) -> int:\n",
    "        left, right = 0, sum(nums) - nums[0]\n",
    "        if left == right :\n",
    "            return 0\n",
    "        for idx in range(1, len(nums)):\n",
    "            left += nums[idx-1]\n",
    "            right -= nums[idx]\n",
    "            if left == right:\n",
    "                return idx\n",
    "        return -1"
   ]
  }
 ],
 "metadata": {
  "kernelspec": {
   "display_name": "Python 3 (ipykernel)",
   "language": "python",
   "name": "python3"
  },
  "language_info": {
   "codemirror_mode": {
    "name": "ipython",
    "version": 3
   },
   "file_extension": ".py",
   "mimetype": "text/x-python",
   "name": "python",
   "nbconvert_exporter": "python",
   "pygments_lexer": "ipython3",
   "version": "3.9.12"
  }
 },
 "nbformat": 4,
 "nbformat_minor": 5
}
