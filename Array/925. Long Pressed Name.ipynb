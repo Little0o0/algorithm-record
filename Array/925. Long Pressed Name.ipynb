{
 "cells": [
  {
   "cell_type": "markdown",
   "id": "0804530b",
   "metadata": {},
   "source": [
    "# 925. Long Pressed Name\n",
    "Your friend is typing his name into a keyboard. Sometimes, when typing a character c, the key might get long pressed, and the character will be typed 1 or more times.\n",
    "\n",
    "You examine the typed characters of the keyboard. Return True if it is possible that it was your friends name, with some characters (possibly none) being long pressed."
   ]
  },
  {
   "cell_type": "markdown",
   "id": "27c88b1d",
   "metadata": {},
   "source": [
    "\n",
    "\n",
    "所以模拟同时遍历两个数组，进行对比就可以了。\n",
    "\n",
    "对比的时候需要一下几点：\n",
    "\n",
    "    name[i] 和 typed[j]相同，则i++，j++ （继续向后对比）\n",
    "    name[i] 和 typed[j]不相同\n",
    "        看是不是第一位就不相同了，也就是j如果等于0，那么直接返回false\n",
    "        不是第一位不相同，就让j跨越重复项，移动到重复项之后的位置，再次比较name[i] 和typed[j]\n",
    "            如果 name[i] 和 typed[j]相同，则i++，j++ （继续向后对比）\n",
    "            不相同，返回false\n",
    "    对比完之后有两种情况\n",
    "        name没有匹配完，例如name:\"pyplrzzzzdsfa\" type:\"ppyypllr\"\n",
    "        type没有匹配完，例如name:\"alex\" type:\"alexxrrrrssda\"\n"
   ]
  },
  {
   "cell_type": "code",
   "execution_count": null,
   "id": "ea9f8c64",
   "metadata": {},
   "outputs": [],
   "source": [
    "class Solution:\n",
    "    def isLongPressedName(self, name: str, typed: str) -> bool:\n",
    "        i = j = 0\n",
    "        while(i<len(name) and j<len(typed)):\n",
    "        # If the current letter matches, move as far as possible\n",
    "            if typed[j]==name[i]:\n",
    "                while j+1<len(typed) and typed[j]==typed[j+1]:\n",
    "                    j+=1\n",
    "                    # special case when there are consecutive repeating letters\n",
    "                    if i+1<len(name) and name[i]==name[i+1]:\n",
    "                        i+=1\n",
    "                else:\n",
    "                    j+=1\n",
    "                    i+=1\n",
    "            else:\n",
    "                return False\n",
    "        return i == len(name) and j==len(typed)"
   ]
  }
 ],
 "metadata": {
  "kernelspec": {
   "display_name": "Python 3 (ipykernel)",
   "language": "python",
   "name": "python3"
  },
  "language_info": {
   "codemirror_mode": {
    "name": "ipython",
    "version": 3
   },
   "file_extension": ".py",
   "mimetype": "text/x-python",
   "name": "python",
   "nbconvert_exporter": "python",
   "pygments_lexer": "ipython3",
   "version": "3.9.12"
  }
 },
 "nbformat": 4,
 "nbformat_minor": 5
}
