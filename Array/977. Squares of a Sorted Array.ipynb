{
 "cells": [
  {
   "cell_type": "markdown",
   "id": "100db947",
   "metadata": {},
   "source": [
    "# 977. Squares of a Sorted Array\n",
    "\n",
    "Given an integer array nums sorted in non-decreasing order, return an array of the squares of each number sorted in non-decreasing order."
   ]
  },
  {
   "cell_type": "code",
   "execution_count": null,
   "id": "c6db1225",
   "metadata": {},
   "outputs": [],
   "source": [
    "# brute force O(nlogn)\n",
    "class Solution:\n",
    "    def sortedSquares(self, nums: List[int]) -> List[int]:\n",
    "        nums = sorted(map(lambda x:x**2, nums))\n",
    "        return nums"
   ]
  },
  {
   "cell_type": "code",
   "execution_count": null,
   "id": "806f2631",
   "metadata": {},
   "outputs": [],
   "source": [
    "# the square of nagtive number is decreasing\n",
    "# we just find the index of nagtive number that closest to zero\n",
    "# then revise the first part of list\n",
    "class Solution:\n",
    "    def sortedSquares(self, nums: List[int]) -> List[int]:\n",
    "        nums = sorted(map(lambda x:x**2, nums))\n",
    "        return nums"
   ]
  }
 ],
 "metadata": {
  "kernelspec": {
   "display_name": "Python 3 (ipykernel)",
   "language": "python",
   "name": "python3"
  },
  "language_info": {
   "codemirror_mode": {
    "name": "ipython",
    "version": 3
   },
   "file_extension": ".py",
   "mimetype": "text/x-python",
   "name": "python",
   "nbconvert_exporter": "python",
   "pygments_lexer": "ipython3",
   "version": "3.9.12"
  }
 },
 "nbformat": 4,
 "nbformat_minor": 5
}
