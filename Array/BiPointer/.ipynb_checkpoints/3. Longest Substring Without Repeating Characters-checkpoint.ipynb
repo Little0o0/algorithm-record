{
 "cells": [
  {
   "cell_type": "markdown",
   "id": "7afa2ec6",
   "metadata": {},
   "source": [
    "# 3. Longest Substring Without Repeating Characters\n",
    "Given a string s, find the length of the longest \n",
    "substring\n",
    " without repeating characters."
   ]
  },
  {
   "cell_type": "markdown",
   "id": "2db1153b",
   "metadata": {},
   "source": [
    "https://leetcode.com/problems/longest-substring-without-repeating-characters/"
   ]
  },
  {
   "cell_type": "markdown",
   "id": "c2ecb4b8",
   "metadata": {},
   "source": [
    "Use bi-pointer and hashmap to reduce $O(N^2)$ to $O(N)$"
   ]
  },
  {
   "cell_type": "code",
   "execution_count": 2,
   "id": "5dfcb05c",
   "metadata": {},
   "outputs": [],
   "source": [
    "class Solution:\n",
    "    def lengthOfLongestSubstring(self, s: str) -> int:\n",
    "        used_char = {}\n",
    "        max_length = start = 0\n",
    "        for index, char in enumerate(s):\n",
    "            if char in used_char and used_char[char] > start:\n",
    "                # Attention, \n",
    "                # only when current char is used and index of used char is larger than start,  \n",
    "                # we need not to calculate max_length. When index of used char is smaller than \n",
    "                # start we also need to calculate max_length. considering \"tmmabdt\".\n",
    "                start = used_char[char] + 1\n",
    "            else:\n",
    "                max_length = max(max_length, index - start + 1)\n",
    "            used_char[char] = index\n",
    "        return max_length"
   ]
  },
  {
   "cell_type": "code",
   "execution_count": null,
   "id": "a73138a2",
   "metadata": {},
   "outputs": [],
   "source": []
  }
 ],
 "metadata": {
  "kernelspec": {
   "display_name": "Python 3 (ipykernel)",
   "language": "python",
   "name": "python3"
  },
  "language_info": {
   "codemirror_mode": {
    "name": "ipython",
    "version": 3
   },
   "file_extension": ".py",
   "mimetype": "text/x-python",
   "name": "python",
   "nbconvert_exporter": "python",
   "pygments_lexer": "ipython3",
   "version": "3.9.12"
  }
 },
 "nbformat": 4,
 "nbformat_minor": 5
}
