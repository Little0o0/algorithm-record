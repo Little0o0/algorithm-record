{
 "cells": [
  {
   "cell_type": "markdown",
   "id": "100db947",
   "metadata": {},
   "source": [
    "# 977. Squares of a Sorted Array\n",
    "\n",
    "Given an integer array nums sorted in non-decreasing order, return an array of the squares of each number sorted in non-decreasing order."
   ]
  },
  {
   "cell_type": "code",
   "execution_count": null,
   "id": "c6db1225",
   "metadata": {},
   "outputs": [],
   "source": [
    "# brute force O(nlogn)\n",
    "class Solution:\n",
    "    def sortedSquares(self, nums: List[int]) -> List[int]:\n",
    "        nums = sorted(map(lambda x:x**2, nums))\n",
    "        return nums"
   ]
  },
  {
   "cell_type": "code",
   "execution_count": null,
   "id": "806f2631",
   "metadata": {},
   "outputs": [],
   "source": [
    "# bipointer\n",
    "# O(n) and O(n)\n",
    "# because after square, the left and the right is the maxmum value for positive and nagtive value\n",
    "class Solution:\n",
    "    def sortedSquares(self, nums: List[int]) -> List[int]:\n",
    "        l, r = 0, len(nums)-1\n",
    "        output = []\n",
    "        while l <= r:\n",
    "            if nums[l] ** 2 < nums[r] ** 2 :\n",
    "                output.insert(0, nums[r] ** 2)\n",
    "                r -= 1\n",
    "            else:\n",
    "                output.insert(0, nums[l] ** 2)\n",
    "                l += 1\n",
    "        return output"
   ]
  }
 ],
 "metadata": {
  "kernelspec": {
   "display_name": "Python 3 (ipykernel)",
   "language": "python",
   "name": "python3"
  },
  "language_info": {
   "codemirror_mode": {
    "name": "ipython",
    "version": 3
   },
   "file_extension": ".py",
   "mimetype": "text/x-python",
   "name": "python",
   "nbconvert_exporter": "python",
   "pygments_lexer": "ipython3",
   "version": "3.9.12"
  }
 },
 "nbformat": 4,
 "nbformat_minor": 5
}
