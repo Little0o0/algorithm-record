{
 "cells": [
  {
   "cell_type": "markdown",
   "id": "2a44ba8a",
   "metadata": {},
   "source": [
    "# 922. Sort Array By Parity II\n",
    "\n",
    "Given an array of integers nums, half of the integers in nums are odd, and the other half are even.\n",
    "\n",
    "Sort the array so that whenever nums[i] is odd, i is odd, and whenever nums[i] is even, i is even.\n",
    "\n",
    "Return any answer array that satisfies this condition."
   ]
  },
  {
   "cell_type": "code",
   "execution_count": null,
   "id": "6b375f0d",
   "metadata": {},
   "outputs": [],
   "source": [
    "# My solution\n",
    "\n",
    "class Solution:\n",
    "    def sortArrayByParityII(self, nums: List[int]) -> List[int]:\n",
    "        def swap(a, a_index, b, b_index):\n",
    "            nums[a_index], nums[b_index] = b, a\n",
    "        \n",
    "        odd_stack = []\n",
    "        even_stack = []\n",
    "\n",
    "        for i in range(len(nums)):\n",
    "            if i & 1 == 0 and nums[i] & 1 == 1:\n",
    "                if odd_stack:\n",
    "                    b, b_index = odd_stack.pop()\n",
    "                    swap(nums[i], i, b, b_index)\n",
    "                else:\n",
    "                    even_stack.append((nums[i], i))\n",
    "            elif i & 1 == 1 and nums[i] & 1 == 0:\n",
    "                if even_stack:\n",
    "                    b, b_index = even_stack.pop()\n",
    "                    swap(nums[i], i, b, b_index)\n",
    "                else:\n",
    "                    odd_stack.append((nums[i], i))\n",
    "        return nums\n"
   ]
  },
  {
   "cell_type": "code",
   "execution_count": null,
   "id": "6c11cefc",
   "metadata": {},
   "outputs": [],
   "source": [
    "# O(1) space\n",
    "# odd pointer and even pointer\n",
    "class Solution:\n",
    "    def sortArrayByParityII(self, nums: List[int]) -> List[int]:\n",
    "        oddIndex = 1\n",
    "        for i in range(0,len(nums),2): #步长为2\n",
    "            if nums[i] % 2: #偶数位遇到奇数\n",
    "                while  nums[oddIndex] % 2: #奇数位找偶数\n",
    "                    oddIndex += 2\n",
    "                nums[i], nums[oddIndex] = nums[oddIndex], nums[i]\n",
    "        return nums"
   ]
  }
 ],
 "metadata": {
  "kernelspec": {
   "display_name": "Python 3 (ipykernel)",
   "language": "python",
   "name": "python3"
  },
  "language_info": {
   "codemirror_mode": {
    "name": "ipython",
    "version": 3
   },
   "file_extension": ".py",
   "mimetype": "text/x-python",
   "name": "python",
   "nbconvert_exporter": "python",
   "pygments_lexer": "ipython3",
   "version": "3.9.12"
  }
 },
 "nbformat": 4,
 "nbformat_minor": 5
}
