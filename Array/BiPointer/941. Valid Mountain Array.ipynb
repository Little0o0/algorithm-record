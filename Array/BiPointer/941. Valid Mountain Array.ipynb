{
 "cells": [
  {
   "cell_type": "markdown",
   "id": "f2f4af91",
   "metadata": {},
   "source": [
    "# 941. Valid Mountain Array\n",
    "\n",
    "Given an array of integers arr, return true if and only if it is a valid mountain array.\n",
    "\n",
    "Recall that arr is a mountain array if and only if:\n",
    "```\n",
    "arr.length >= 3\n",
    "There exists some i with 0 < i < arr.length - 1 such that:\n",
    "arr[0] < arr[1] < ... < arr[i - 1] < arr[i] \n",
    "arr[i] > arr[i + 1] > ... > arr[arr.length - 1]\n",
    "```"
   ]
  },
  {
   "cell_type": "markdown",
   "id": "c9824e15",
   "metadata": {},
   "source": [
    "https://leetcode.com/problems/valid-mountain-array/"
   ]
  },
  {
   "cell_type": "code",
   "execution_count": null,
   "id": "a6b4b2ff",
   "metadata": {},
   "outputs": [],
   "source": [
    "class Solution:\n",
    "    def validMountainArray(self, arr: List[int]) -> bool:\n",
    "        left, right = 0, len(arr)-1\n",
    "        \n",
    "        while left < len(arr)-1 and arr[left+1] > arr[left]:\n",
    "            left += 1\n",
    "        \n",
    "        while right > 0 and arr[right-1] > arr[right]:\n",
    "            right -= 1\n",
    "        \n",
    "        return left == right and right != 0 and left != len(arr)-1"
   ]
  }
 ],
 "metadata": {
  "kernelspec": {
   "display_name": "Python 3 (ipykernel)",
   "language": "python",
   "name": "python3"
  },
  "language_info": {
   "codemirror_mode": {
    "name": "ipython",
    "version": 3
   },
   "file_extension": ".py",
   "mimetype": "text/x-python",
   "name": "python",
   "nbconvert_exporter": "python",
   "pygments_lexer": "ipython3",
   "version": "3.9.12"
  }
 },
 "nbformat": 4,
 "nbformat_minor": 5
}
