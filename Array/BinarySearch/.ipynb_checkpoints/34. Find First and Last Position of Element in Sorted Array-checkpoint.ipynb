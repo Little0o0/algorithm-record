{
 "cells": [
  {
   "cell_type": "markdown",
   "id": "1da0b6ad",
   "metadata": {},
   "source": [
    "# 34. Find First and Last Position of Element in Sorted Array\n",
    "\n",
    "Given an array of integers nums sorted in non-decreasing order, find the starting and ending position of a given target value.\n",
    "\n",
    "If target is not found in the array, return [-1, -1].\n",
    "\n",
    "You must write an algorithm with O(log n) runtime complexity.\n",
    "\n",
    "https://leetcode.com/problems/find-first-and-last-position-of-element-in-sorted-array/"
   ]
  },
  {
   "cell_type": "code",
   "execution_count": null,
   "id": "bfb67c3f",
   "metadata": {},
   "outputs": [],
   "source": [
    "# we need 2 times binary search,\n",
    "# first time, find the lowest index for target value\n",
    "# second time, find the highest index for target value\n",
    "# to reuse the code, we change the second time to find the lowest index for target + 1 \n",
    "# Thus we need design a algo that can find the lowest index for target value\n",
    "\n",
    "class Solution:\n",
    "    def searchRange(self, nums: List[int], target: int) -> List[int]:\n",
    "        \n",
    "        def binary_search(target):\n",
    "            l, r = 0, len(nums)\n",
    "            while l < r: # our search space is [l, r)\n",
    "                mid = (l + r) >> 1\n",
    "                if nums[mid] < target:\n",
    "                    l = mid + 1\n",
    "                elif nums[mid] >= target: # here is >=, not >\n",
    "                    r = mid # our search space is [l, r)\n",
    "            return l\n",
    "\n",
    "        low_index = binary_search(target)\n",
    "        high_index = binary_search(target+1)-1\n",
    "\n",
    "        if low_index <= high_index:\n",
    "            return [low_index, high_index]\n",
    "        \n",
    "        return [-1, -1]"
   ]
  },
  {
   "cell_type": "code",
   "execution_count": null,
   "id": "70350c25",
   "metadata": {},
   "outputs": [],
   "source": [
    "class Solution:\n",
    "    def searchRange(self, nums: List[int], target: int) -> List[int]:\n",
    "        \n",
    "        def binary_search(target):\n",
    "            l, r = 0, len(nums)\n",
    "            while l <= r: # our search space is [l, r]\n",
    "                mid = (l + r) >> 1\n",
    "                if nums[mid] < target:\n",
    "                    l = mid + 1\n",
    "                elif nums[mid] >= target: # here is >=, not >\n",
    "                    r = mid - 1# our search space is [l, r]\n",
    "            return l\n",
    "\n",
    "        low_index = binary_search(target)\n",
    "        high_index = binary_search(target+1)-1\n",
    "\n",
    "        if low_index <= high_index:\n",
    "            return [low_index, high_index]\n",
    "        \n",
    "        return [-1, -1]"
   ]
  }
 ],
 "metadata": {
  "kernelspec": {
   "display_name": "Python 3 (ipykernel)",
   "language": "python",
   "name": "python3"
  },
  "language_info": {
   "codemirror_mode": {
    "name": "ipython",
    "version": 3
   },
   "file_extension": ".py",
   "mimetype": "text/x-python",
   "name": "python",
   "nbconvert_exporter": "python",
   "pygments_lexer": "ipython3",
   "version": "3.9.12"
  }
 },
 "nbformat": 4,
 "nbformat_minor": 5
}
