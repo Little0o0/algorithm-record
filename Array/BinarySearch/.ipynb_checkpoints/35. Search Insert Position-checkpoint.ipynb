{
 "cells": [
  {
   "cell_type": "markdown",
   "id": "dc2d49db",
   "metadata": {},
   "source": [
    "# 35. Search Insert Position\n",
    "\n",
    "Given a sorted array of distinct integers and a target value, return the index if the target is found. If not, return the index where it would be if it were inserted in order.\n",
    "\n",
    "You must write an algorithm with O(log n) runtime complexity."
   ]
  },
  {
   "cell_type": "code",
   "execution_count": null,
   "id": "ab112985",
   "metadata": {},
   "outputs": [],
   "source": [
    "# our search space is [l, r], \n",
    "# that means if can not get the target, \n",
    "# final l will equal with r, that means final l will be the insert index\n",
    "\n",
    "class Solution:\n",
    "    def searchInsert(self, nums: List[int], target: int) -> int:\n",
    "        l, r = 0, len(nums)-1\n",
    "        while l <= r:\n",
    "            mid = (l + r) >> 1\n",
    "            if nums[mid] < target:\n",
    "                l = mid + 1\n",
    "            elif nums[mid] >= target:\n",
    "                r = mid - 1\n",
    "        return l"
   ]
  },
  {
   "cell_type": "code",
   "execution_count": null,
   "id": "3b316dea",
   "metadata": {},
   "outputs": [],
   "source": [
    "# our search space is [l, r), \n",
    "# that means if can not get the target, \n",
    "# final l will equal with r, that means final l will be the insert index\n",
    "\n",
    "class Solution:\n",
    "    def searchInsert(self, nums: List[int], target: int) -> int:\n",
    "        l, r = 0, len(nums) # be careful r is len(nums) not len(nums) - 1\n",
    "        while l < r:\n",
    "            mid = (l + r) >> 1\n",
    "            if nums[mid] < target:\n",
    "                l = mid + 1\n",
    "            elif nums[mid] > target:\n",
    "                r = mid\n",
    "            else:\n",
    "                return mid\n",
    "        return l"
   ]
  },
  {
   "cell_type": "code",
   "execution_count": null,
   "id": "417c5e5a",
   "metadata": {},
   "outputs": [],
   "source": []
  }
 ],
 "metadata": {
  "kernelspec": {
   "display_name": "Python 3 (ipykernel)",
   "language": "python",
   "name": "python3"
  },
  "language_info": {
   "codemirror_mode": {
    "name": "ipython",
    "version": 3
   },
   "file_extension": ".py",
   "mimetype": "text/x-python",
   "name": "python",
   "nbconvert_exporter": "python",
   "pygments_lexer": "ipython3",
   "version": "3.7.13"
  }
 },
 "nbformat": 4,
 "nbformat_minor": 5
}
