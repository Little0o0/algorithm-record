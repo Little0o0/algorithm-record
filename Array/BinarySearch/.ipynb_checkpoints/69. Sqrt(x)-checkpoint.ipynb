{
 "cells": [
  {
   "cell_type": "markdown",
   "id": "a5eccb68",
   "metadata": {},
   "source": [
    "# 69. Sqrt(x)\n",
    "\n",
    "Given a non-negative integer x, return the square root of x rounded down to the nearest integer. The returned integer should be non-negative as well.\n",
    "\n",
    "You must not use any built-in exponent function or operator.\n",
    "\n",
    "For example, do not use pow(x, 0.5) in c++ or x ** 0.5 in python.\n"
   ]
  },
  {
   "cell_type": "code",
   "execution_count": null,
   "id": "6cc91131",
   "metadata": {},
   "outputs": [],
   "source": [
    "# this problem is similar with problem 35,\n",
    "# the only difference is this take the left index for target value"
   ]
  },
  {
   "cell_type": "code",
   "execution_count": null,
   "id": "b4917cda",
   "metadata": {},
   "outputs": [],
   "source": [
    "class Solution:\n",
    "    def mySqrt(self, x: int) -> int:\n",
    "        l, r = 0, x\n",
    "        while l <= r:\n",
    "            mid = (l+r) >> 1\n",
    "            if mid * mid < x:\n",
    "                l = mid + 1\n",
    "            elif mid * mid > x:\n",
    "                r = mid - 1\n",
    "            else:\n",
    "                return mid\n",
    "        return r  # must r because final r will lower than l."
   ]
  },
  {
   "cell_type": "code",
   "execution_count": null,
   "id": "ebe87c0b",
   "metadata": {},
   "outputs": [],
   "source": [
    "# be careful for one element!\n",
    "\n",
    "class Solution:\n",
    "    def mySqrt(self, x: int) -> int:\n",
    "        l, r = 0, x\n",
    "        \n",
    "        while l < r:\n",
    "            mid = (l+r) >> 1\n",
    "            if mid * mid < x:\n",
    "                l = mid + 1\n",
    "            elif mid * mid > x:\n",
    "                r = mid\n",
    "            else:\n",
    "                return mid\n",
    "            \n",
    "        if r == 0:  # be careful for one element!\n",
    "            return 0\n",
    "        \n",
    "        return r - 1"
   ]
  }
 ],
 "metadata": {
  "kernelspec": {
   "display_name": "Python 3 (ipykernel)",
   "language": "python",
   "name": "python3"
  },
  "language_info": {
   "codemirror_mode": {
    "name": "ipython",
    "version": 3
   },
   "file_extension": ".py",
   "mimetype": "text/x-python",
   "name": "python",
   "nbconvert_exporter": "python",
   "pygments_lexer": "ipython3",
   "version": "3.7.13"
  }
 },
 "nbformat": 4,
 "nbformat_minor": 5
}
