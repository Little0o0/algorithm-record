{
 "cells": [
  {
   "cell_type": "markdown",
   "id": "37bef525",
   "metadata": {},
   "source": [
    "# 704. Binary Search\n",
    "\n",
    "Given an array of integers nums which is sorted in ascending order, and an integer target, write a function to search target in nums. If target exists, then return its index. Otherwise, return -1.\n",
    "\n",
    "You must write an algorithm with O(log n) runtime complexity."
   ]
  },
  {
   "cell_type": "code",
   "execution_count": null,
   "id": "690bae04",
   "metadata": {},
   "outputs": [],
   "source": [
    "# if we define target in [left, right]\n",
    "# we must use l <= r, because it is a valid value\n",
    "# and we if (nums[middle] > target) right = middle + 1\n",
    "# becuase nums[middle] is not target\n",
    "\n",
    "class Solution:\n",
    "    def search(self, nums: List[int], target: int) -> int:\n",
    "        l, r = 0, len(nums) - 1\n",
    "        while l <= r: # note this must add =\n",
    "            mid = (l + r) >> 1\n",
    "            if nums[mid] == target: \n",
    "                return mid\n",
    "            elif nums[mid] < target: \n",
    "                l = mid + 1 # note this must add 1\n",
    "            else nums[mid] > target: \n",
    "                r = mid - 1 # note this must reduce 1\n",
    "        return -1"
   ]
  },
  {
   "cell_type": "code",
   "execution_count": null,
   "id": "e9d61383",
   "metadata": {},
   "outputs": [],
   "source": [
    "# if we define target in [left, right)\n",
    "# we must use l < r, because when l == r, there is no valid value\n",
    "# if (nums[middle] > target) right = middle\n",
    "# because we have assume value not on right\n",
    "class Solution:\n",
    "    def search(self, nums: List[int], target: int) -> int:\n",
    "        l, r = 0, len(nums) - 1\n",
    "        while l < r:\n",
    "            mid = (l + r) // 2\n",
    "            if nums[mid] < target :\n",
    "                l = mid + 1\n",
    "            elif nums[mid] > target:\n",
    "                r = mid\n",
    "            else:\n",
    "                return mid\n",
    "        return -1 "
   ]
  }
 ],
 "metadata": {
  "kernelspec": {
   "display_name": "Python 3 (ipykernel)",
   "language": "python",
   "name": "python3"
  },
  "language_info": {
   "codemirror_mode": {
    "name": "ipython",
    "version": 3
   },
   "file_extension": ".py",
   "mimetype": "text/x-python",
   "name": "python",
   "nbconvert_exporter": "python",
   "pygments_lexer": "ipython3",
   "version": "3.7.13"
  }
 },
 "nbformat": 4,
 "nbformat_minor": 5
}
