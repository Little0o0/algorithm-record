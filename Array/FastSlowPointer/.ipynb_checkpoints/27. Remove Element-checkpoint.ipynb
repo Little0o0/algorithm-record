{
 "cells": [
  {
   "cell_type": "markdown",
   "id": "f129e70d",
   "metadata": {},
   "source": [
    "# 27. Remove Element\n",
    "\n",
    "Given an integer array nums and an integer val, remove all occurrences of val in nums in-place. The relative order of the elements may be changed.\n",
    "\n",
    "Since it is impossible to change the length of the array in some languages, you must instead have the result be placed in the first part of the array nums. More formally, if there are k elements after removing the duplicates, then the first k elements of nums should hold the final result. It does not matter what you leave beyond the first k elements.\n",
    "\n",
    "Return k after placing the final result in the first k slots of nums.\n",
    "\n"
   ]
  },
  {
   "cell_type": "code",
   "execution_count": null,
   "id": "33665d12",
   "metadata": {},
   "outputs": [],
   "source": [
    "# The time complexity is O(n^2)\n",
    "class Solution:\n",
    "    def removeElement(self, nums: List[int], val: int) -> int:\n",
    "        for i in range(len(nums)-1, -1, -1): # remove element in an reversed order\n",
    "            if nums[i] == val:\n",
    "                nums.pop(i)\n",
    "        return len(nums)\n",
    "    "
   ]
  },
  {
   "cell_type": "code",
   "execution_count": null,
   "id": "de46ec4e",
   "metadata": {},
   "outputs": [],
   "source": [
    "# O(n) method (fast and slow pointer)\n",
    "class Solution:\n",
    "    def removeElement(self, nums: List[int], val: int) -> int:\n",
    "        slow_pointer = 0\n",
    "        for fast_pointer in range(len(nums)):\n",
    "            if nums[fast_pointer] == val:\n",
    "                continue  # if find a value, fast pointer go \n",
    "            elif fast_pointer != slow_pointer:\n",
    "                nums[slow_pointer] = nums[fast_pointer] # if not find a value, replace element\n",
    "            slow_pointer += 1 # note! fast element only bypass the target value !\n",
    "        return slow_pointer"
   ]
  }
 ],
 "metadata": {
  "kernelspec": {
   "display_name": "Python 3 (ipykernel)",
   "language": "python",
   "name": "python3"
  },
  "language_info": {
   "codemirror_mode": {
    "name": "ipython",
    "version": 3
   },
   "file_extension": ".py",
   "mimetype": "text/x-python",
   "name": "python",
   "nbconvert_exporter": "python",
   "pygments_lexer": "ipython3",
   "version": "3.9.12"
  }
 },
 "nbformat": 4,
 "nbformat_minor": 5
}
