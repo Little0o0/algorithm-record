{
 "cells": [
  {
   "cell_type": "markdown",
   "id": "395f029e",
   "metadata": {},
   "source": [
    "# 844. Backspace String Compare\n",
    "\n",
    "Given two strings s and t, return true if they are equal when both are typed into empty text editors. '#' means a backspace character.\n",
    "\n",
    "Note that after backspacing an empty text, the text will continue empty.\n",
    "\n"
   ]
  },
  {
   "cell_type": "code",
   "execution_count": null,
   "id": "06348bae",
   "metadata": {},
   "outputs": [],
   "source": [
    "# use stack to solve \n",
    "\n",
    "class Solution:\n",
    "    def backspaceCompare(self, s: str, t: str) -> bool:\n",
    "\n",
    "        def getFinalStr(backStr):\n",
    "            stack = []\n",
    "            for c in backStr:\n",
    "                if c != \"#\":\n",
    "                    stack.append(c)\n",
    "                elif stack != []: # be careful for \"#w#s\"\n",
    "                    stack.pop()\n",
    "            return \"\".join(stack)\n",
    "        return getFinalStr(s) == getFinalStr(t)"
   ]
  }
 ],
 "metadata": {
  "kernelspec": {
   "display_name": "Python 3 (ipykernel)",
   "language": "python",
   "name": "python3"
  },
  "language_info": {
   "codemirror_mode": {
    "name": "ipython",
    "version": 3
   },
   "file_extension": ".py",
   "mimetype": "text/x-python",
   "name": "python",
   "nbconvert_exporter": "python",
   "pygments_lexer": "ipython3",
   "version": "3.7.13"
  }
 },
 "nbformat": 4,
 "nbformat_minor": 5
}
