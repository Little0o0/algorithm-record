{
 "cells": [
  {
   "cell_type": "markdown",
   "id": "468fe695",
   "metadata": {},
   "source": [
    "# 26. Remove Duplicates from Sorted Array\n",
    "\n",
    "this is similar to problem 27\n"
   ]
  },
  {
   "cell_type": "code",
   "execution_count": null,
   "id": "d49d2d72",
   "metadata": {},
   "outputs": [],
   "source": [
    "class Solution:\n",
    "    def removeDuplicates(self, nums: List[int]) -> int:\n",
    "        slow = 0\n",
    "        for fast in range(len(nums) - 1):\n",
    "            if nums[fast] == nums[fast + 1]:\n",
    "                continue\n",
    "            elif slow != fast:\n",
    "                nums[slow] = nums[fast]\n",
    "            slow += 1\n",
    "\n",
    "        nums[slow] = nums[-1] # be careful to the last element\n",
    "        return slow + 1"
   ]
  },
  {
   "cell_type": "code",
   "execution_count": null,
   "id": "fdd3d6a8",
   "metadata": {},
   "outputs": [],
   "source": []
  }
 ],
 "metadata": {
  "kernelspec": {
   "display_name": "Python 3 (ipykernel)",
   "language": "python",
   "name": "python3"
  },
  "language_info": {
   "codemirror_mode": {
    "name": "ipython",
    "version": 3
   },
   "file_extension": ".py",
   "mimetype": "text/x-python",
   "name": "python",
   "nbconvert_exporter": "python",
   "pygments_lexer": "ipython3",
   "version": "3.7.13"
  }
 },
 "nbformat": 4,
 "nbformat_minor": 5
}
