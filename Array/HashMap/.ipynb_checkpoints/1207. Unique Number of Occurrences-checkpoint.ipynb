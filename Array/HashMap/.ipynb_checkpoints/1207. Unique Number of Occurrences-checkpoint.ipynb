{
 "cells": [
  {
   "cell_type": "markdown",
   "id": "70d68ed0",
   "metadata": {},
   "source": [
    "# 1207. Unique Number of Occurrences\n",
    "\n",
    "Given an array of integers arr, return true if the number of occurrences of each value in the array is unique or false otherwise."
   ]
  },
  {
   "cell_type": "code",
   "execution_count": null,
   "id": "c7bf5897",
   "metadata": {},
   "outputs": [],
   "source": [
    "class Solution(object):\n",
    "    def uniqueOccurrences(self, arr):\n",
    "        \"\"\"\n",
    "        :type arr: List[int]\n",
    "        :rtype: bool\n",
    "        \"\"\"\n",
    "        hashMap = {}\n",
    "        for i in arr:\n",
    "            hashMap[i] = hashMap.get(i, 0) + 1\n",
    "        return len(hashMap) == len(set(hashMap.values()))\n",
    "        "
   ]
  },
  {
   "cell_type": "code",
   "execution_count": null,
   "id": "df65b642",
   "metadata": {},
   "outputs": [],
   "source": [
    "#Standard hash map\n",
    "class Solution:\n",
    "    def uniqueOccurrences(self, arr: List[int]) -> bool:\n",
    "        count = [0] * 2002\n",
    "        for i in range(len(arr)):\n",
    "            count[arr[i] + 1000] += 1 # 防止负数作为下标\n",
    "        freq = [False] * 1002 # 标记相同频率是否重复出现\n",
    "        for i in range(2001):\n",
    "            if count[i] > 0:\n",
    "                if freq[count[i]] == False:\n",
    "                    freq[count[i]] = True\n",
    "                else:\n",
    "                    return False\n",
    "        return True"
   ]
  },
  {
   "cell_type": "code",
   "execution_count": null,
   "id": "ca5e99b9",
   "metadata": {},
   "outputs": [],
   "source": []
  }
 ],
 "metadata": {
  "kernelspec": {
   "display_name": "Python 3 (ipykernel)",
   "language": "python",
   "name": "python3"
  },
  "language_info": {
   "codemirror_mode": {
    "name": "ipython",
    "version": 3
   },
   "file_extension": ".py",
   "mimetype": "text/x-python",
   "name": "python",
   "nbconvert_exporter": "python",
   "pygments_lexer": "ipython3",
   "version": "3.9.12"
  }
 },
 "nbformat": 4,
 "nbformat_minor": 5
}
