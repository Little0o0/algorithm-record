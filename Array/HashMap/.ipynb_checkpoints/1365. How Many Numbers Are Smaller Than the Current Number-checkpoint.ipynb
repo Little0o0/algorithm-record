{
 "cells": [
  {
   "cell_type": "markdown",
   "id": "e4b10919",
   "metadata": {},
   "source": [
    "# 1365. How Many Numbers Are Smaller Than the Current Number\n",
    "Given the array nums, for each nums[i] find out how many numbers in the array are smaller than it. That is, for each nums[i] you have to count the number of valid j's such that j != i and nums[j] < nums[i].\n",
    "\n",
    "Return the answer in an array."
   ]
  },
  {
   "cell_type": "markdown",
   "id": "e0d14609",
   "metadata": {},
   "source": [
    "https://leetcode.com/problems/how-many-numbers-are-smaller-than-the-current-number/"
   ]
  },
  {
   "cell_type": "code",
   "execution_count": null,
   "id": "2e8b607c",
   "metadata": {},
   "outputs": [],
   "source": [
    "# brute force\n",
    "class Solution:\n",
    "    def smallerNumbersThanCurrent(self, nums: List[int]) -> List[int]:\n",
    "        res = [0] * len(nums)\n",
    "        for i in range(len(nums)):\n",
    "            for j in range(len(nums)):\n",
    "                if i != j and nums[i] > nums[j]:\n",
    "                    res[i] += 1\n",
    "        return res"
   ]
  },
  {
   "cell_type": "markdown",
   "id": "c4b5e494",
   "metadata": {},
   "source": [
    "首先要找小于当前数字的数字，那么从小到大排序之后，该数字之前的数字就都是比它小的了。\n",
    "\n",
    "所以可以定义一个新数组，将数组排个序。\n",
    "\n",
    "排序之后，其实每一个数值的下标就代表这前面有几个比它小的了。\n",
    "\n",
    "用一个哈希表hash（本题可以就用一个数组）来做数值和下标的映射。这样就可以通过数值快速知道下标（也就是前面有几个比它小的）。\n",
    "\n",
    "此时有一个情况，就是数值相同怎么办？\n",
    "\n",
    "例如，数组：1 2 3 4 4 4 ，第一个数值4的下标是3，第二个数值4的下标是4了。\n",
    "\n",
    "这里就需要一个技巧了，在构造数组hash的时候，从后向前遍历，这样hash里存放的就是相同元素最左面的数值和下标了。 代码如下："
   ]
  },
  {
   "cell_type": "code",
   "execution_count": null,
   "id": "14f4f610",
   "metadata": {},
   "outputs": [],
   "source": [
    "class Solution:\n",
    "    def smallerNumbersThanCurrent(self, nums: List[int]) -> List[int]:\n",
    "        res = nums[:]\n",
    "        hash = dict()\n",
    "        res.sort() # 从小到大排序之后，元素下标就是小于当前数字的数字\n",
    "        for i, num in enumerate(res):\n",
    "            if num  not in hash.keys(): # 遇到了相同的数字，那么不需要更新该 number 的情况\n",
    "                hash[num] = i       \n",
    "        for i, num in enumerate(nums):\n",
    "            res[i] = hash[num]\n",
    "        return res"
   ]
  }
 ],
 "metadata": {
  "kernelspec": {
   "display_name": "Python 3 (ipykernel)",
   "language": "python",
   "name": "python3"
  },
  "language_info": {
   "codemirror_mode": {
    "name": "ipython",
    "version": 3
   },
   "file_extension": ".py",
   "mimetype": "text/x-python",
   "name": "python",
   "nbconvert_exporter": "python",
   "pygments_lexer": "ipython3",
   "version": "3.9.12"
  }
 },
 "nbformat": 4,
 "nbformat_minor": 5
}
