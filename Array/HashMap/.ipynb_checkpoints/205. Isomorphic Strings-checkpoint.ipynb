{
 "cells": [
  {
   "cell_type": "markdown",
   "id": "42d909e3",
   "metadata": {},
   "source": [
    "# 205. Isomorphic Strings\n",
    "\n",
    "Given two strings s and t, determine if they are isomorphic.\n",
    "\n",
    "Two strings s and t are isomorphic if the characters in s can be replaced to get t.\n",
    "\n",
    "All occurrences of a character must be replaced with another character while preserving the order of characters. No two characters may map to the same character, but a character may map to itself.\n"
   ]
  },
  {
   "cell_type": "markdown",
   "id": "c43572f3",
   "metadata": {},
   "source": [
    "https://leetcode.com/problems/isomorphic-strings/"
   ]
  },
  {
   "cell_type": "code",
   "execution_count": null,
   "id": "7168e54e",
   "metadata": {},
   "outputs": [],
   "source": [
    "# my solution\n",
    "class Solution:\n",
    "    def isIsomorphic(self, s: str, t: str) -> bool:\n",
    "        if len(set(s)) != len(set(t)):\n",
    "            return False\n",
    "\n",
    "        mapDict = {}\n",
    "        for c1, c2 in zip(s, t):\n",
    "            if c1 in mapDict and c2 != mapDict[c1]:\n",
    "                return False\n",
    "            mapDict[c1] = c2\n",
    "        return True"
   ]
  },
  {
   "cell_type": "code",
   "execution_count": null,
   "id": "7c050567",
   "metadata": {},
   "outputs": [],
   "source": [
    "# In fact we do not need two dict\n",
    "class Solution:\n",
    "    def isIsomorphic(self, s: str, t: str) -> bool:\n",
    "        default_dict1 = defaultdict(str)\n",
    "        default_dict2 = defaultdict(str)\n",
    "    \n",
    "        if len(s) != len(t): return false\n",
    "\n",
    "        for i in range(len(s)):\n",
    "            if not default_dict1[s[i]]:\n",
    "                default_dict1[s[i]] = t[i]\n",
    "            \n",
    "            if not default_dict2[t[i]]:\n",
    "                default_dict2[t[i]] = s[i]\n",
    "\n",
    "            if default_dict1[s[i]] != t[i] or default_dict2[t[i]] != s[i]:\n",
    "                return False\n",
    "            \n",
    "        return True"
   ]
  }
 ],
 "metadata": {
  "kernelspec": {
   "display_name": "Python 3 (ipykernel)",
   "language": "python",
   "name": "python3"
  },
  "language_info": {
   "codemirror_mode": {
    "name": "ipython",
    "version": 3
   },
   "file_extension": ".py",
   "mimetype": "text/x-python",
   "name": "python",
   "nbconvert_exporter": "python",
   "pygments_lexer": "ipython3",
   "version": "3.9.12"
  }
 },
 "nbformat": 4,
 "nbformat_minor": 5
}
