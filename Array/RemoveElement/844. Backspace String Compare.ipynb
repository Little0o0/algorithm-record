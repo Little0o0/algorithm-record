{
 "cells": [
  {
   "cell_type": "markdown",
   "id": "8339b35b",
   "metadata": {},
   "source": [
    "# 844. Backspace String Compare\n",
    "\n",
    "Given two strings s and t, return true if they are equal when both are typed into empty text editors. '#' means a backspace character.\n",
    "\n",
    "Note that after backspacing an empty text, the text will continue empty.\n",
    "\n"
   ]
  },
  {
   "cell_type": "code",
   "execution_count": null,
   "id": "cc025b58",
   "metadata": {},
   "outputs": [],
   "source": [
    "# use stack to solve \n",
    "\n",
    "class Solution:\n",
    "    def backspaceCompare(self, s: str, t: str) -> bool:\n",
    "\n",
    "        def getFinalStr(backStr):\n",
    "            stack = []\n",
    "            for c in backStr:\n",
    "                if c != \"#\":\n",
    "                    stack.append(c)\n",
    "                elif stack != []: # be careful for \"#w#s\"\n",
    "                    stack.pop()\n",
    "            return \"\".join(stack)\n",
    "        return getFinalStr(s) == getFinalStr(t)"
   ]
  },
  {
   "cell_type": "code",
   "execution_count": null,
   "id": "44e07c44",
   "metadata": {},
   "outputs": [],
   "source": [
    "# O(1) space complexity\n",
    "\n",
    "def backspaceCompare(self, s, t):\n",
    "    i, j = len(s) - 1, len(t) - 1\n",
    "    backS = backT = 0\n",
    "    while True:\n",
    "        while i >= 0 and (backS or s[i] == '#'):\n",
    "            backS += 1 if s[i] == '#' else -1\n",
    "            i -= 1\n",
    "        while j >= 0 and (backT or t[j] == '#'):\n",
    "            backT += 1 if t[j] == '#' else -1\n",
    "            j -= 1\n",
    "        if not (i >= 0 and j >= 0 and s[i] == t[j]):\n",
    "            return i == j == -1\n",
    "        i, j = i - 1, j - 1"
   ]
  }
 ],
 "metadata": {
  "kernelspec": {
   "display_name": "Python 3 (ipykernel)",
   "language": "python",
   "name": "python3"
  },
  "language_info": {
   "codemirror_mode": {
    "name": "ipython",
    "version": 3
   },
   "file_extension": ".py",
   "mimetype": "text/x-python",
   "name": "python",
   "nbconvert_exporter": "python",
   "pygments_lexer": "ipython3",
   "version": "3.7.13"
  }
 },
 "nbformat": 4,
 "nbformat_minor": 5
}
