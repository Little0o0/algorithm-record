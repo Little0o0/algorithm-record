{
 "cells": [
  {
   "cell_type": "markdown",
   "id": "3fa64cc7",
   "metadata": {},
   "source": [
    "# 904. Fruit Into Baskets\n",
    "\n",
    "You are visiting a farm that has a single row of fruit trees arranged from left to right. The trees are represented by an integer array fruits where fruits[i] is the type of fruit the ith tree produces.\n",
    "\n",
    "You want to collect as much fruit as possible. However, the owner has some strict rules that you must follow:\n",
    "\n",
    "You only have two baskets, and each basket can only hold a single type of fruit. There is no limit on the amount of fruit each basket can hold.\n",
    "Starting from any tree of your choice, you must pick exactly one fruit from every tree (including the start tree) while moving to the right. The picked fruits must fit in one of your baskets.\n",
    "Once you reach a tree with fruit that cannot fit in your baskets, you must stop.\n",
    "Given the integer array fruits, return the maximum number of fruits you can pick.\n",
    "\n",
    " \n",
    "```\n",
    "Example 1:\n",
    "\n",
    "Input: fruits = [1,2,1]\n",
    "Output: 3\n",
    "Explanation: We can pick from all 3 trees.\n",
    "```"
   ]
  },
  {
   "cell_type": "code",
   "execution_count": null,
   "id": "da81c7f9",
   "metadata": {},
   "outputs": [],
   "source": [
    "# the key is how to maintain the maximum windows\n",
    "# Note! it is only suitable for maximum windows! not minimun windows !\n",
    "class Solution:\n",
    "    def totalFruit(self, fruits: List[int]) -> int:\n",
    "        count, slow = {}, 0\n",
    "        for fast, v in enumerate(fruits):\n",
    "            count[v] = count.get(v, 0) + 1 # good method !\n",
    "            if len(count) > 2: # when len(count) < 2, slow pointer do not need to move \n",
    "                count[fruits[slow]] -= 1 \n",
    "                if count[fruits[slow]] == 0: \n",
    "                    del count[fruits[slow]]\n",
    "                slow += 1 # we just need to maintain the maximum windows, so slow += 1 \n",
    "        return fast - slow + 1"
   ]
  }
 ],
 "metadata": {
  "kernelspec": {
   "display_name": "Python 3 (ipykernel)",
   "language": "python",
   "name": "python3"
  },
  "language_info": {
   "codemirror_mode": {
    "name": "ipython",
    "version": 3
   },
   "file_extension": ".py",
   "mimetype": "text/x-python",
   "name": "python",
   "nbconvert_exporter": "python",
   "pygments_lexer": "ipython3",
   "version": "3.9.12"
  }
 },
 "nbformat": 4,
 "nbformat_minor": 5
}
