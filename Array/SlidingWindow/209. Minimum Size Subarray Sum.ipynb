{
 "cells": [
  {
   "cell_type": "markdown",
   "id": "86d7e5d4",
   "metadata": {},
   "source": [
    "# 209. Minimum Size Subarray Sum\n",
    "\n",
    "Given an array of positive integers nums and a positive integer target, return the minimal length of a \n",
    "subarray\n",
    " whose sum is greater than or equal to target. If there is no such subarray, return 0 instead.\n",
    "\n",
    " \n",
    "```\n",
    "Example 1:\n",
    "\n",
    "Input: target = 7, nums = [2,3,1,2,4,3]\n",
    "Output: 2\n",
    "Explanation: The subarray [4,3] has the minimal length under the problem constraint.\n",
    "```"
   ]
  },
  {
   "cell_type": "code",
   "execution_count": null,
   "id": "551f1ce1",
   "metadata": {},
   "outputs": [],
   "source": [
    "class Solution:\n",
    "    def minSubArrayLen(self, target: int, nums: List[int]) -> int:\n",
    "        slow = 0\n",
    "        output = len(nums) + 1\n",
    "        tmp = 0\n",
    "        for fast in range(len(nums)):\n",
    "            tmp += nums[fast] # to avoid the computation of sum\n",
    "            while  tmp >= target:\n",
    "                if fast - slow + 1 < output:\n",
    "                    output = fast - slow + 1\n",
    "                tmp -= nums[slow]\n",
    "                slow += 1\n",
    "\n",
    "        if output == len(nums) + 1:\n",
    "            return 0\n",
    "        else:\n",
    "            return output"
   ]
  }
 ],
 "metadata": {
  "kernelspec": {
   "display_name": "Python 3 (ipykernel)",
   "language": "python",
   "name": "python3"
  },
  "language_info": {
   "codemirror_mode": {
    "name": "ipython",
    "version": 3
   },
   "file_extension": ".py",
   "mimetype": "text/x-python",
   "name": "python",
   "nbconvert_exporter": "python",
   "pygments_lexer": "ipython3",
   "version": "3.9.12"
  }
 },
 "nbformat": 4,
 "nbformat_minor": 5
}
