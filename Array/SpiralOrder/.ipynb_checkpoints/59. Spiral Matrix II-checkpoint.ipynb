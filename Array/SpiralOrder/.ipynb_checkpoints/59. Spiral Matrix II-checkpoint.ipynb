{
 "cells": [
  {
   "cell_type": "markdown",
   "id": "44c3bcde",
   "metadata": {},
   "source": [
    "# 59. Spiral Matrix II\n",
    "\n",
    "Given a positive integer n, generate an n x n matrix filled with elements from 1 to n^2 in spiral order.\n",
    "\n",
    "```\n",
    "Input: n = 3\n",
    "Output: [[1,2,3],[8,9,4],[7,6,5]]\n",
    "\n",
    "Input: n = 1\n",
    "Output: [[1]]\n",
    "```"
   ]
  },
  {
   "cell_type": "code",
   "execution_count": null,
   "id": "c8116f1e",
   "metadata": {},
   "outputs": [],
   "source": [
    "class Solution:\n",
    "    def generateMatrix(self, n: int) -> List[List[int]]:\n",
    "        matrix = [ [0]* n for _ in range(n)]\n",
    "        dim = n // 2 \n",
    "        v = 1\n",
    "        for i in range(dim):\n",
    "            # top \n",
    "            for j in range(i, n - i -1):\n",
    "                matrix[i][j] = v\n",
    "                v += 1\n",
    "            \n",
    "            # right\n",
    "            for j in range(i, n - i - 1):\n",
    "                matrix[j][n - i- 1] = v\n",
    "                v += 1\n",
    "            \n",
    "            # bottom\n",
    "            for j in range(n - i- 1, i, -1):\n",
    "                matrix[n - i- 1][j] = v\n",
    "                v += 1\n",
    "            \n",
    "            # left\n",
    "            for j in range(n - i- 1, i, -1):\n",
    "                matrix[j][i] = v\n",
    "                v += 1\n",
    "\n",
    "        if n % 2 == 1:\n",
    "            matrix[n // 2][n // 2] = v\n",
    "        return matrix"
   ]
  },
  {
   "cell_type": "code",
   "execution_count": null,
   "id": "9992fa04",
   "metadata": {},
   "outputs": [],
   "source": [
    " def generateMatrix(self, n: int) -> List[List[int]]:\n",
    "        nums = [[0] * n for _ in range(n)]\n",
    "        startx, starty = 0, 0               # 起始点\n",
    "        loop, mid = n // 2, n // 2          # 迭代次数、n为奇数时，矩阵的中心点\n",
    "        count = 1                           # 计数\n",
    "\n",
    "        for offset in range(1, loop + 1) :      # 每循环一层偏移量加1，偏移量从1开始\n",
    "            for i in range(starty, n - offset) :    # 从左至右，左闭右开\n",
    "                nums[startx][i] = count\n",
    "                count += 1\n",
    "            for i in range(startx, n - offset) :    # 从上至下\n",
    "                nums[i][n - offset] = count\n",
    "                count += 1\n",
    "            for i in range(n - offset, starty, -1) : # 从右至左\n",
    "                nums[n - offset][i] = count\n",
    "                count += 1\n",
    "            for i in range(n - offset, startx, -1) : # 从下至上\n",
    "                nums[i][starty] = count\n",
    "                count += 1                \n",
    "            startx += 1         # 更新起始点\n",
    "            starty += 1\n",
    "\n",
    "        if n % 2 != 0 : # n为奇数时，填充中心点\n",
    "            nums[mid][mid] = count \n",
    "        return nums"
   ]
  }
 ],
 "metadata": {
  "kernelspec": {
   "display_name": "Python 3 (ipykernel)",
   "language": "python",
   "name": "python3"
  },
  "language_info": {
   "codemirror_mode": {
    "name": "ipython",
    "version": 3
   },
   "file_extension": ".py",
   "mimetype": "text/x-python",
   "name": "python",
   "nbconvert_exporter": "python",
   "pygments_lexer": "ipython3",
   "version": "3.9.12"
  }
 },
 "nbformat": 4,
 "nbformat_minor": 5
}
