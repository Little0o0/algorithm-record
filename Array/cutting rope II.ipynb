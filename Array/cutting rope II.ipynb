{
 "cells": [
  {
   "cell_type": "markdown",
   "id": "28d06f14",
   "metadata": {},
   "source": [
    "# 剑指 Offer 14- II. 剪绳子 II"
   ]
  },
  {
   "cell_type": "markdown",
   "id": "ab404f22",
   "metadata": {},
   "source": [
    "给你一根长度为 n 的绳子，请把绳子剪成整数长度的 m 段（m、n都是整数，n>1并且m>1），每段绳子的长度记为 k[0],k[1]...k[m - 1] 。请问 k[0]*k[1]*...*k[m - 1] 可能的最大乘积是多少？例如，当绳子的长度是8时，我们把它剪成长度分别为2、3、3的三段，此时得到的最大乘积是18。\n",
    "\n",
    "答案需要取模 1e9+7（1000000007），如计算初始结果为：1000000008，请返回 1。"
   ]
  },
  {
   "cell_type": "markdown",
   "id": "0ef8cd59",
   "metadata": {},
   "source": [
    "## 解题思路：\n",
    "\n",
    "设将长度为 $n$ 的绳子切为 $a$ 段， 可以转为约束问题:\n",
    "\n",
    "$$argmax (n_1 *n_2 * \\dots * n_a) \\quad s.t.\\quad  n = n_1 + n_2 + \\dots + n_a$$\n"
   ]
  },
  {
   "cell_type": "markdown",
   "id": "f941762f",
   "metadata": {},
   "source": [
    "###分割思路\n",
    "(1)\n",
    "因为 \n",
    "\n",
    "$$n_1 * n_2 \\dots * n_a \\le (\\frac{n_1 + n_1 +\\dots+n_a}{a})^a =  (\\frac{n}{a})^a$$\n",
    "\n",
    "当且仅当\n",
    "\n",
    "$$n_1 = n_2 \\dots = n_a$$\n",
    "\n",
    "等式成立，因此 分割成相同长度的绳子时得到的结果最大"
   ]
  },
  {
   "cell_type": "markdown",
   "id": "ef8cfa31",
   "metadata": {},
   "source": [
    "(2)当绳子被分割成$a$份长度为$x$ 的绳子时， 即 $n = ax$，我们希望计算 $argmax(x^a) = argmax(x)^{\\frac{n}{x}}$\n",
    "\n",
    "令 $f = x^{\\frac{1}{x}}$，求对数 $ ln f = \\frac{1}{x}lnx $ 求导$\\frac{1}{f}f' = \\frac{1-ln x}{x^2}$\n",
    "\n",
    "即:\n",
    "\n",
    "$$f' = \\frac{(1-lnx)lnx}{x^3}$$\n",
    "\n",
    "求极值点:\n",
    "\n",
    "$$f'(a) = 0 \\rightarrow \\frac{(1-lnx)lnx}{x^3} = 0 \\rightarrow x = e$$\n",
    "\n"
   ]
  },
  {
   "cell_type": "markdown",
   "id": "dea5a9a1",
   "metadata": {},
   "source": [
    "由于切分必须是整数， 把 $x = 2$ 和 $x=3$ 带入发现当$x=3$时$f$最大(口算对比方法：给两数字同时取 6 次方，再对比。)"
   ]
  },
  {
   "cell_type": "markdown",
   "id": "044ea352",
   "metadata": {},
   "source": [
    "### 大数求余解法：\n",
    "\n",
    "大数越界： 当 $a$ 增大时，最后返回的 $3^a$ 大小以指数级别增长，可能超出 int32 甚至 int64 的取值范围，导致返回值错误。\n",
    "\n",
    "大数求余问题： 在仅使用 int32 类型存储的前提下，正确计算 $x^a$ 对 p 求余\n",
    "\n",
    "解决方案： 循环求余 、 快速幂求余 ，其中后者的时间复杂度更低，两种方法均基于以下求余运算规则推出：\n",
    "$$xy\\mod p = [(x\\mod p)(y\\mod p)]\\mod p$$"
   ]
  },
  {
   "cell_type": "markdown",
   "id": "b0f1db9b",
   "metadata": {},
   "source": [
    "#### 1. 循环求余：\n",
    "\n",
    "$$x^a \\mod p = [(x^{a-1}\\mod p)(x\\mod p)]\\mod p$$"
   ]
  },
  {
   "cell_type": "markdown",
   "id": "f566e1e5",
   "metadata": {},
   "source": [
    "#### 2. 快速幂求余"
   ]
  },
  {
   "cell_type": "markdown",
   "id": "d744b7cc",
   "metadata": {},
   "source": [
    "思路是如果n 是偶数就拆分为两个 $\\frac{n}{2}$， 如果是奇数就拆分为$n-1, 1$"
   ]
  },
  {
   "cell_type": "code",
   "execution_count": null,
   "id": "1568f205",
   "metadata": {},
   "outputs": [],
   "source": [
    "class Solution:\n",
    "    def cuttingRope(self, n: int) -> int:\n",
    "        if n <= 3: return n - 1\n",
    "        a, b, p = n // 3, n % 3, 1000000007\n",
    "        if b == 0: return 3 ** a %  \n",
    "        if b == 1: return 3 ** (a - 1) * 4 % p\n",
    "        return 3 ** a * 2 % p"
   ]
  }
 ],
 "metadata": {
  "kernelspec": {
   "display_name": "Python 3 (ipykernel)",
   "language": "python",
   "name": "python3"
  },
  "language_info": {
   "codemirror_mode": {
    "name": "ipython",
    "version": 3
   },
   "file_extension": ".py",
   "mimetype": "text/x-python",
   "name": "python",
   "nbconvert_exporter": "python",
   "pygments_lexer": "ipython3",
   "version": "3.9.12"
  }
 },
 "nbformat": 4,
 "nbformat_minor": 5
}
