{
 "cells": [
  {
   "cell_type": "markdown",
   "id": "2e1478cb",
   "metadata": {},
   "source": [
    "# 102. Binary Tree Level Order Traversal\n",
    "\n",
    "Given the root of a binary tree, return the level order traversal of its nodes' values. (i.e., from left to right, level by level)."
   ]
  },
  {
   "cell_type": "code",
   "execution_count": null,
   "id": "10da53ac",
   "metadata": {},
   "outputs": [],
   "source": [
    "# my solution: convert pre-order to level order\n",
    "class Solution:\n",
    "    def levelOrder(self, root: Optional[TreeNode]) -> List[List[int]]:\n",
    "        if root is None:\n",
    "            return []\n",
    "        \n",
    "        stack = [(root, 0)]\n",
    "        result = []\n",
    "        max_height = 0\n",
    "        while stack:\n",
    "            node, height = stack.pop()\n",
    "            if max_height < height:\n",
    "                max_height = height\n",
    "            result.append((node.val, height))\n",
    "            if node.right:\n",
    "                stack.append((node.right, height+1))\n",
    "            if node.left:\n",
    "                stack.append((node.left, height+1))\n",
    "        output = [[] for _ in range(max_height+1)]\n",
    "        for val, height in result:\n",
    "            output[height].append(val)\n",
    "        return output"
   ]
  },
  {
   "cell_type": "code",
   "execution_count": null,
   "id": "64c57fc3",
   "metadata": {},
   "outputs": [],
   "source": [
    "# standart solution: use queue store the node in one level\n",
    "class Solution:\n",
    "    def levelOrder(self, root: Optional[TreeNode]) -> List[List[int]]:\n",
    "        if root is None:\n",
    "            return []\n",
    "        \n",
    "        from collections import deque\n",
    "        que = deque([root])\n",
    "        result = []\n",
    "        while que:\n",
    "            size = len(que)\n",
    "            if size:\n",
    "                result.append([])\n",
    "            for _ in range(size):\n",
    "                node = que.popleft()\n",
    "                result[-1].append(node.val)\n",
    "                if node.left:\n",
    "                    que.append(node.left)\n",
    "                if node.right:\n",
    "                    que.append(node.right)\n",
    "            \n",
    "        return result"
   ]
  }
 ],
 "metadata": {
  "kernelspec": {
   "display_name": "Python 3 (ipykernel)",
   "language": "python",
   "name": "python3"
  },
  "language_info": {
   "codemirror_mode": {
    "name": "ipython",
    "version": 3
   },
   "file_extension": ".py",
   "mimetype": "text/x-python",
   "name": "python",
   "nbconvert_exporter": "python",
   "pygments_lexer": "ipython3",
   "version": "3.9.12"
  }
 },
 "nbformat": 4,
 "nbformat_minor": 5
}
