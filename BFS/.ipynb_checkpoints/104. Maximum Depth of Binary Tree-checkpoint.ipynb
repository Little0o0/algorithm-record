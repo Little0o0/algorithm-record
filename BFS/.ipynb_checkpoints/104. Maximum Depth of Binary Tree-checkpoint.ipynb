{
 "cells": [
  {
   "cell_type": "markdown",
   "id": "513fff6f",
   "metadata": {},
   "source": [
    "# 104. Maximum Depth of Binary Tree\n",
    "\n",
    "Given the root of a binary tree, return its maximum depth.\n",
    "\n",
    "A binary tree's maximum depth is the number of nodes along the longest path from the root node down to the farthest leaf node.\n",
    "\n",
    "https://leetcode.com/problems/maximum-depth-of-binary-tree/description/"
   ]
  },
  {
   "cell_type": "code",
   "execution_count": null,
   "id": "2a298c39",
   "metadata": {},
   "outputs": [],
   "source": [
    "# BFS\n",
    "class Solution:\n",
    "    def maxDepth(self, root: Optional[TreeNode]) -> int:\n",
    "        if root is None:\n",
    "            return 0\n",
    "        from collections import deque\n",
    "        queue = deque([root])\n",
    "        height = 0\n",
    "        while queue:\n",
    "            height += 1\n",
    "            size = len(queue)\n",
    "            for _ in range(size):\n",
    "                node = queue.popleft()\n",
    "                if node.left:\n",
    "                    queue.append(node.left)\n",
    "                if node.right:\n",
    "                    queue.append(node.right)\n",
    "        return height\n"
   ]
  },
  {
   "cell_type": "code",
   "execution_count": null,
   "id": "1fcb2896",
   "metadata": {},
   "outputs": [],
   "source": [
    "# DFS\n",
    "class Solution:\n",
    "    def maxDepth(self, root: Optional[TreeNode]) -> int:\n",
    "        max_height = 0\n",
    "        slack = []\n",
    "        pointer, height = root, 1\n",
    "        while slack or pointer:\n",
    "            if pointer:\n",
    "                slack.append((pointer, height))\n",
    "                pointer = pointer.left\n",
    "                height += 1\n",
    "            else:\n",
    "                tmpNode, height = slack.pop()\n",
    "                if height > max_height:\n",
    "                    max_height = height\n",
    "                pointer = tmpNode.right\n",
    "                height += 1\n",
    "        return max_height"
   ]
  }
 ],
 "metadata": {
  "kernelspec": {
   "display_name": "Python 3 (ipykernel)",
   "language": "python",
   "name": "python3"
  },
  "language_info": {
   "codemirror_mode": {
    "name": "ipython",
    "version": 3
   },
   "file_extension": ".py",
   "mimetype": "text/x-python",
   "name": "python",
   "nbconvert_exporter": "python",
   "pygments_lexer": "ipython3",
   "version": "3.9.12"
  }
 },
 "nbformat": 4,
 "nbformat_minor": 5
}
