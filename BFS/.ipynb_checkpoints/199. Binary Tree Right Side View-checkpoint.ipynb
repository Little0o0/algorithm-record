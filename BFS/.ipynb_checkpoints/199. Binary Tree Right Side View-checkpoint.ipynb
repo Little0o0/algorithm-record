{
 "cells": [
  {
   "cell_type": "markdown",
   "id": "2082ce71",
   "metadata": {},
   "source": [
    "# 199. Binary Tree Right Side View\n",
    "\n",
    "Given the root of a binary tree, imagine yourself standing on the right side of it, return the values of the nodes you can see ordered from top to bottom."
   ]
  },
  {
   "cell_type": "code",
   "execution_count": null,
   "id": "a8ee87e3",
   "metadata": {},
   "outputs": [],
   "source": [
    "# my solution: BFS (from right to left)\n",
    "class Solution:\n",
    "    def rightSideView(self, root: Optional[TreeNode]) -> List[int]:\n",
    "        if root is None:\n",
    "            return []\n",
    "        \n",
    "        from collections import deque\n",
    "        queue = deque([root])\n",
    "        result = []\n",
    "        while queue:\n",
    "            size = len(queue)\n",
    "            for i in range(size):\n",
    "                node = queue.popleft()\n",
    "                if i == 0:\n",
    "                    result.append(node.val)\n",
    "                if node.right:\n",
    "                    queue.append(node.right)\n",
    "                if node.left:\n",
    "                    queue.append(node.left)\n",
    "        return result"
   ]
  },
  {
   "cell_type": "code",
   "execution_count": null,
   "id": "5b337797",
   "metadata": {},
   "outputs": [],
   "source": [
    "# standard BFS, each layer select the last node\n",
    "class Solution:\n",
    "    def rightSideView(self, root: TreeNode) -> List[int]:\n",
    "        if not root:\n",
    "            return []\n",
    "        \n",
    "        # deque来自collections模块，不在力扣平台时，需要手动写入\n",
    "        # 'from collections import deque' 导入\n",
    "        # deque相比list的好处是，list的pop(0)是O(n)复杂度，deque的popleft()是O(1)复杂度\n",
    "        from collections import deque\n",
    "        queue = deque([root])\n",
    "        out_list = []\n",
    "\n",
    "        while quene:\n",
    "            # 每次都取最后一个node就可以了\n",
    "            node = queue[-1]\n",
    "            out_list.append(node.val)\n",
    "\n",
    "            # 执行这个遍历的目的是获取下一层所有的node\n",
    "            for _ in range(len(queue)):\n",
    "                node = queue.popleft()\n",
    "                if node.left:\n",
    "                    queue.append(node.left)\n",
    "                if node.right:\n",
    "                    queue.append(node.right)\n",
    "        \n",
    "        return out_list"
   ]
  }
 ],
 "metadata": {
  "kernelspec": {
   "display_name": "Python 3 (ipykernel)",
   "language": "python",
   "name": "python3"
  },
  "language_info": {
   "codemirror_mode": {
    "name": "ipython",
    "version": 3
   },
   "file_extension": ".py",
   "mimetype": "text/x-python",
   "name": "python",
   "nbconvert_exporter": "python",
   "pygments_lexer": "ipython3",
   "version": "3.9.12"
  }
 },
 "nbformat": 4,
 "nbformat_minor": 5
}
