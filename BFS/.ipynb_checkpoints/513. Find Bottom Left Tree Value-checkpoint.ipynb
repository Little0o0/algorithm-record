{
 "cells": [
  {
   "cell_type": "markdown",
   "id": "c5132e8a",
   "metadata": {},
   "source": [
    "# 513. Find Bottom Left Tree Value\n",
    "Given the root of a binary tree, return the leftmost value in the last row of the tree."
   ]
  },
  {
   "cell_type": "code",
   "execution_count": null,
   "id": "d224e0ea",
   "metadata": {},
   "outputs": [],
   "source": [
    "# Definition for a binary tree node.\n",
    "# class TreeNode:\n",
    "#     def __init__(self, val=0, left=None, right=None):\n",
    "#         self.val = val\n",
    "#         self.left = left\n",
    "#         self.right = right\n",
    "class Solution:\n",
    "    def findBottomLeftValue(self, root: Optional[TreeNode]) -> int:\n",
    "        from collections import deque\n",
    "        queue = deque([root])\n",
    "        pointer = None\n",
    "        left_most = 0\n",
    "        while queue: \n",
    "            n = len(queue)\n",
    "            for i in range(n):\n",
    "                node = queue.popleft()\n",
    "                if node.left:\n",
    "                    queue.append(node.left)\n",
    "                \n",
    "                if node.right:\n",
    "                    queue.append(node.right)\n",
    "                if i == 0:\n",
    "                    left_most = node.val\n",
    "        return left_most\n"
   ]
  }
 ],
 "metadata": {
  "kernelspec": {
   "display_name": "Python 3 (ipykernel)",
   "language": "python",
   "name": "python3"
  },
  "language_info": {
   "codemirror_mode": {
    "name": "ipython",
    "version": 3
   },
   "file_extension": ".py",
   "mimetype": "text/x-python",
   "name": "python",
   "nbconvert_exporter": "python",
   "pygments_lexer": "ipython3",
   "version": "3.9.12"
  }
 },
 "nbformat": 4,
 "nbformat_minor": 5
}
