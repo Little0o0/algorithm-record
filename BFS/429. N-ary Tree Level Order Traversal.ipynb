{
 "cells": [
  {
   "cell_type": "markdown",
   "id": "aa00a251",
   "metadata": {},
   "source": [
    "# 429. N-ary Tree Level Order Traversal\n",
    "\n",
    "Given an n-ary tree, return the level order traversal of its nodes' values.\n",
    "\n",
    "Nary-Tree input serialization is represented in their level order traversal, each group of children is separated by the null value (See examples)\n",
    "\n",
    "https://leetcode.com/problems/n-ary-tree-level-order-traversal/description/"
   ]
  },
  {
   "cell_type": "code",
   "execution_count": null,
   "id": "8c191522",
   "metadata": {},
   "outputs": [],
   "source": [
    "# my solution: standard BFS\n",
    "class Solution:\n",
    "    def levelOrder(self, root: 'Node') -> List[List[int]]:\n",
    "        if root is None:\n",
    "            return []\n",
    "        from collections import deque\n",
    "        queue = deque([root])\n",
    "        result = []\n",
    "        while queue:\n",
    "            size = len(queue)\n",
    "            result.append([])\n",
    "            for _ in range(size):\n",
    "                node = queue.popleft()\n",
    "                result[-1].append(node.val)\n",
    "                for child in node.children:\n",
    "                    queue.append(child)\n",
    "        return result"
   ]
  }
 ],
 "metadata": {
  "kernelspec": {
   "display_name": "Python 3 (ipykernel)",
   "language": "python",
   "name": "python3"
  },
  "language_info": {
   "codemirror_mode": {
    "name": "ipython",
    "version": 3
   },
   "file_extension": ".py",
   "mimetype": "text/x-python",
   "name": "python",
   "nbconvert_exporter": "python",
   "pygments_lexer": "ipython3",
   "version": "3.9.12"
  }
 },
 "nbformat": 4,
 "nbformat_minor": 5
}
