{
 "cells": [
  {
   "cell_type": "markdown",
   "id": "4f6d344a",
   "metadata": {},
   "source": [
    "# 637. Average of Levels in Binary Tree\n",
    "Given the root of a binary tree, return the average value of the nodes on each level in the form of an array. Answers within 10-5 of the actual answer will be accepted.\n",
    "\n",
    "https://leetcode.com/problems/average-of-levels-in-binary-tree/description/"
   ]
  },
  {
   "cell_type": "code",
   "execution_count": null,
   "id": "6bf958d9",
   "metadata": {},
   "outputs": [],
   "source": [
    "# my solution: BFS\n",
    "class Solution:\n",
    "    def averageOfLevels(self, root: Optional[TreeNode]) -> List[float]:\n",
    "        from collections import deque\n",
    "        queue = deque([root])\n",
    "        result = []\n",
    "        while queue:\n",
    "            size = len(queue)\n",
    "            value_list = []\n",
    "            for _ in range(size):\n",
    "                node = queue.popleft()\n",
    "                value_list.append(node.val)\n",
    "                if node.left:\n",
    "                    queue.append(node.left)\n",
    "                if node.right:\n",
    "                    queue.append(node.right)\n",
    "            result.append(mean(value_list))\n",
    "        return result\n"
   ]
  }
 ],
 "metadata": {
  "kernelspec": {
   "display_name": "Python 3 (ipykernel)",
   "language": "python",
   "name": "python3"
  },
  "language_info": {
   "codemirror_mode": {
    "name": "ipython",
    "version": 3
   },
   "file_extension": ".py",
   "mimetype": "text/x-python",
   "name": "python",
   "nbconvert_exporter": "python",
   "pygments_lexer": "ipython3",
   "version": "3.9.12"
  }
 },
 "nbformat": 4,
 "nbformat_minor": 5
}
