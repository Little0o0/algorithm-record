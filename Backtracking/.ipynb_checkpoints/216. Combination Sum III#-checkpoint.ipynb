{
 "cells": [
  {
   "cell_type": "markdown",
   "id": "2ec5cd4b",
   "metadata": {},
   "source": [
    "# 216. Combination Sum III\n",
    "Find all valid combinations of k numbers that sum up to n such that the following conditions are true:\n",
    "\n",
    "Only numbers 1 through 9 are used.\n",
    "Each number is used at most once.\n",
    "Return a list of all possible valid combinations. The list must not contain the same combination twice, and the combinations may be returned in any order.\n",
    "\n"
   ]
  },
  {
   "cell_type": "code",
   "execution_count": null,
   "id": "94c42a16",
   "metadata": {},
   "outputs": [],
   "source": [
    "class Solution:\n",
    "    def combinationSum3(self, k: int, n: int) -> List[List[int]]:\n",
    "        path = []\n",
    "        output = []\n",
    "        def backtracking(k, n, begin):\n",
    "            if k == 0 and n == 0:\n",
    "                output.append(path[:])\n",
    "                return\n",
    "            elif n < 0 or k == 0:\n",
    "                return\n",
    "            \n",
    "            for i in range(begin, 10):\n",
    "                if i <= n:\n",
    "                    path.append(i)\n",
    "                    backtracking(k-1, n-i, i+1)\n",
    "                    path.pop()\n",
    "        backtracking(k, n, 1)\n",
    "        return output\n"
   ]
  },
  {
   "cell_type": "code",
   "execution_count": null,
   "id": "f93a5b00",
   "metadata": {},
   "outputs": [],
   "source": [
    "# notice! this will make wrong result.\n",
    "class Solution:\n",
    "    output = [] # in multitesting, output only initialized one time!\n",
    "    path = []\n",
    "    def combinationSum3(self, k: int, n: int) -> List[List[int]]:\n",
    "#         self.output = [] # solve by these two line\n",
    "#         self.path = []\n",
    "        self.backtracking(k, n, 1)\n",
    "        return self.output\n",
    "\n",
    "    def backtracking(self, k, n, begin):\n",
    "        if k == 0 and n == 0:\n",
    "            self.output.append(self.path[:])\n",
    "            return\n",
    "        elif n < 0 or k == 0:\n",
    "            return\n",
    "        \n",
    "        for i in range(begin, 10):\n",
    "            if i <= n:\n",
    "                self.path.append(i)\n",
    "                self.backtracking(k-1, n-i, i+1)\n",
    "                self.path.pop()"
   ]
  }
 ],
 "metadata": {
  "kernelspec": {
   "display_name": "Python 3 (ipykernel)",
   "language": "python",
   "name": "python3"
  },
  "language_info": {
   "codemirror_mode": {
    "name": "ipython",
    "version": 3
   },
   "file_extension": ".py",
   "mimetype": "text/x-python",
   "name": "python",
   "nbconvert_exporter": "python",
   "pygments_lexer": "ipython3",
   "version": "3.9.12"
  }
 },
 "nbformat": 4,
 "nbformat_minor": 5
}
