{
 "cells": [
  {
   "cell_type": "markdown",
   "id": "a99cf935",
   "metadata": {},
   "source": [
    "# 77. Combinations\n",
    "\n",
    "Given two integers n and k, return all possible combinations of k numbers chosen from the range [1, n].\n",
    "\n",
    "You may return the answer in any order."
   ]
  },
  {
   "attachments": {},
   "cell_type": "markdown",
   "id": "dc279970",
   "metadata": {},
   "source": [
    "![](combination.png)"
   ]
  },
  {
   "cell_type": "code",
   "execution_count": null,
   "id": "d56d6346",
   "metadata": {},
   "outputs": [],
   "source": [
    "class Solution(object):\n",
    "    def combine(self, n, k):\n",
    "        \"\"\"\n",
    "        :type n: int\n",
    "        :type k: int\n",
    "        :rtype: List[List[int]]\n",
    "        \"\"\"\n",
    "        result = []\n",
    "        path = []\n",
    "        def backtracking(n, k, startidx):\n",
    "            if len(path) == k:\n",
    "                result.append(path[:])\n",
    "                return\n",
    "\n",
    "            for x in range(startidx, n+1):\n",
    "                path.append(x)\n",
    "                backtracking(n, k, x + 1)  # 递归\n",
    "                path.pop()  # 回溯\n",
    "\n",
    "        backtracking(n, k, 1)\n",
    "        return result"
   ]
  }
 ],
 "metadata": {
  "kernelspec": {
   "display_name": "Python 3 (ipykernel)",
   "language": "python",
   "name": "python3"
  },
  "language_info": {
   "codemirror_mode": {
    "name": "ipython",
    "version": 3
   },
   "file_extension": ".py",
   "mimetype": "text/x-python",
   "name": "python",
   "nbconvert_exporter": "python",
   "pygments_lexer": "ipython3",
   "version": "3.9.12"
  }
 },
 "nbformat": 4,
 "nbformat_minor": 5
}
