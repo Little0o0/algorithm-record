{
 "cells": [
  {
   "cell_type": "markdown",
   "id": "0aa704c1",
   "metadata": {},
   "source": [
    "# 131. Palindrome Partitioning\n",
    "Given a string s, partition s such that every \n",
    "substring\n",
    " of the partition is a \n",
    "palindrome\n",
    ". Return all possible palindrome partitioning of s."
   ]
  },
  {
   "cell_type": "markdown",
   "id": "354c541f",
   "metadata": {},
   "source": [
    "https://leetcode.com/problems/palindrome-partitioning/"
   ]
  },
  {
   "cell_type": "code",
   "execution_count": null,
   "id": "80277b84",
   "metadata": {},
   "outputs": [],
   "source": [
    "class Solution:\n",
    "    def partition(self, s: str) -> List[List[str]]:\n",
    "        path = []\n",
    "        output = []\n",
    "        def isValid(s):\n",
    "            return s == s[::-1]\n",
    "        \n",
    "        def backtracking(start):\n",
    "            if start == len(s):\n",
    "                output.append(path[:])\n",
    "                return \n",
    "            \n",
    "            for end in range(start+1, len(s)+1):\n",
    "                if isValid(s[start:end]):\n",
    "                    path.append(s[start:end])\n",
    "                    backtracking(end)\n",
    "                    path.pop()\n",
    "        \n",
    "        backtracking(0)\n",
    "        return output"
   ]
  }
 ],
 "metadata": {
  "kernelspec": {
   "display_name": "Python 3 (ipykernel)",
   "language": "python",
   "name": "python3"
  },
  "language_info": {
   "codemirror_mode": {
    "name": "ipython",
    "version": 3
   },
   "file_extension": ".py",
   "mimetype": "text/x-python",
   "name": "python",
   "nbconvert_exporter": "python",
   "pygments_lexer": "ipython3",
   "version": "3.9.12"
  }
 },
 "nbformat": 4,
 "nbformat_minor": 5
}
