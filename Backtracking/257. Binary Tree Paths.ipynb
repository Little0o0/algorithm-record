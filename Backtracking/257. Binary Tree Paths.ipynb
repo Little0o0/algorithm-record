{
 "cells": [
  {
   "cell_type": "markdown",
   "id": "4422e6e0",
   "metadata": {},
   "source": [
    "# 257. Binary Tree Paths\n",
    "\n",
    "Given the root of a binary tree, return all root-to-leaf paths in any order.\n",
    "\n",
    "A leaf is a node with no children.\n"
   ]
  },
  {
   "cell_type": "code",
   "execution_count": null,
   "id": "f6daa5f3",
   "metadata": {},
   "outputs": [],
   "source": [
    "# Definition for a binary tree node.\n",
    "# class TreeNode:\n",
    "#     def __init__(self, val=0, left=None, right=None):\n",
    "#         self.val = val\n",
    "#         self.left = left\n",
    "#         self.right = right\n",
    "class Solution:\n",
    "    def binaryTreePaths(self, root: Optional[TreeNode]) -> List[str]:\n",
    "        output = []\n",
    "        path = []\n",
    "\n",
    "        def backtracking(node):\n",
    "            path.append(str(node.val))\n",
    "            if not node.left and not node.right:\n",
    "                output.append(path[:])\n",
    "                path.pop()\n",
    "                return\n",
    "\n",
    "            if node.left:\n",
    "                backtracking(node.left)\n",
    "            if node.right:\n",
    "                backtracking(node.right)\n",
    "            path.pop()\n",
    "        backtracking(root)\n",
    "        output = [\"->\".join(x) for x in output]\n",
    "        return output\n"
   ]
  }
 ],
 "metadata": {
  "kernelspec": {
   "display_name": "Python 3 (ipykernel)",
   "language": "python",
   "name": "python3"
  },
  "language_info": {
   "codemirror_mode": {
    "name": "ipython",
    "version": 3
   },
   "file_extension": ".py",
   "mimetype": "text/x-python",
   "name": "python",
   "nbconvert_exporter": "python",
   "pygments_lexer": "ipython3",
   "version": "3.9.12"
  }
 },
 "nbformat": 4,
 "nbformat_minor": 5
}
