{
 "cells": [
  {
   "cell_type": "markdown",
   "id": "83bfe702",
   "metadata": {},
   "source": [
    "https://leetcode.com/problems/combination-sum/submissions/"
   ]
  },
  {
   "cell_type": "code",
   "execution_count": 1,
   "id": "2655299c",
   "metadata": {},
   "outputs": [],
   "source": [
    "from typing import List"
   ]
  },
  {
   "cell_type": "code",
   "execution_count": 2,
   "id": "ed7a6e4b",
   "metadata": {},
   "outputs": [],
   "source": [
    "# my solution \n",
    "\n",
    "# Time Limit Exceeded.\n",
    "# the key problem is how to clear the duplicated combination\n",
    "# and my solution is clearing this term after get all combinations,\n",
    "# but it will cause time limit exceed, when \n",
    "# [1,1,1,1,1,1,1,1,1,1,1,1,1,1,1,1,1,1,1,1,1,1,1,1,1]\n",
    "# 27\n",
    "class Solution:\n",
    "    def combinationSum2(self, candidates: List[int], target: int) -> List[List[int]]:\n",
    "        sub_candidates = sorted(candidates)\n",
    "        sol = []\n",
    "        self.dfs(sub_candidates, target, [], sol)\n",
    "        unique_sol_set = set([tuple(x) for x in sol])\n",
    "        return [list(x) for x in unique_sol_set]\n",
    "        \n",
    "        \n",
    "    def dfs(self, nums, target, path, sol):\n",
    "        if target < 0:\n",
    "            return\n",
    "        elif target == 0:\n",
    "            sol.append(path)\n",
    "            return \n",
    "        else:\n",
    "            for i in range(len(nums)):\n",
    "                self.dfs(nums[i+1:],  target-nums[i], path+[nums[i]], sol)"
   ]
  },
  {
   "cell_type": "code",
   "execution_count": 4,
   "id": "d4bedc56",
   "metadata": {},
   "outputs": [],
   "source": [
    "class Solution:\n",
    "    def combinationSum2(self, candidates: List[int], target: int) -> List[List[int]]:\n",
    "        sol = []\n",
    "        self.dfs(sub_candidates, target, [], sol)\n",
    "        return sol\n",
    "        \n",
    "        \n",
    "    def dfs(self, nums, target, index, path, sol):\n",
    "        # it need index to clear duplicated solution\n",
    "        if target < 0:\n",
    "            return\n",
    "        elif target == 0:\n",
    "            sol.append(path)\n",
    "            return \n",
    "        else:\n",
    "            for i in range(index, len(nums)):\n",
    "                if i > index and nums[i] == nums[i - 1]:\n",
    "                    continue\n",
    "                if nums[i] > target:\n",
    "                    break\n",
    "                self.dfs(nums, target - nums[i], i + 1, path + [nums[i]], sol)"
   ]
  },
  {
   "cell_type": "code",
   "execution_count": null,
   "id": "80ec4518",
   "metadata": {},
   "outputs": [],
   "source": []
  }
 ],
 "metadata": {
  "kernelspec": {
   "display_name": "Python 3 (ipykernel)",
   "language": "python",
   "name": "python3"
  },
  "language_info": {
   "codemirror_mode": {
    "name": "ipython",
    "version": 3
   },
   "file_extension": ".py",
   "mimetype": "text/x-python",
   "name": "python",
   "nbconvert_exporter": "python",
   "pygments_lexer": "ipython3",
   "version": "3.9.7"
  }
 },
 "nbformat": 4,
 "nbformat_minor": 5
}
