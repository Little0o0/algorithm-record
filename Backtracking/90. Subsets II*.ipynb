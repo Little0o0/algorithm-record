{
 "cells": [
  {
   "cell_type": "markdown",
   "id": "1bd77dba",
   "metadata": {},
   "source": [
    "# 90. Subsets II\n",
    "Given an integer array nums that may contain duplicates, return all possible \n",
    "subsets\n",
    " (the power set).\n",
    "\n",
    "The solution set must not contain duplicate subsets. Return the solution in any order.\n",
    "\n",
    "https://leetcode.com/problems/subsets-ii/"
   ]
  },
  {
   "cell_type": "code",
   "execution_count": null,
   "id": "44a0c1c9",
   "metadata": {},
   "outputs": [],
   "source": [
    "class Solution:\n",
    "    def subsetsWithDup(self, nums: List[int]) -> List[List[int]]:\n",
    "        res = []\n",
    "        path = []\n",
    "        nums.sort() # 去重需要先对数组进行排序\n",
    "\n",
    "        def backtracking(nums, startIndex):\n",
    "            # 终止条件\n",
    "            res.append(path[:])\n",
    "            if startIndex == len(nums):\n",
    "                return\n",
    "            \n",
    "            # for循环\n",
    "            for i in range(startIndex, len(nums)):\n",
    "                # 数层去重\n",
    "                if i > startIndex and nums[i] == nums[i-1]: # 去重\n",
    "                    continue\n",
    "                path.append(nums[i])\n",
    "                backtracking(nums, i+1)\n",
    "                path.pop()\n",
    "        \n",
    "        backtracking(nums, 0)\n",
    "        return res"
   ]
  }
 ],
 "metadata": {
  "kernelspec": {
   "display_name": "Python 3 (ipykernel)",
   "language": "python",
   "name": "python3"
  },
  "language_info": {
   "codemirror_mode": {
    "name": "ipython",
    "version": 3
   },
   "file_extension": ".py",
   "mimetype": "text/x-python",
   "name": "python",
   "nbconvert_exporter": "python",
   "pygments_lexer": "ipython3",
   "version": "3.9.12"
  }
 },
 "nbformat": 4,
 "nbformat_minor": 5
}
