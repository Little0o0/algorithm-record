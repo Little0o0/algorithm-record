{
 "cells": [
  {
   "cell_type": "markdown",
   "id": "16b2f775",
   "metadata": {},
   "source": [
    "# 93. Restore IP Addresses\n",
    "A valid IP address consists of exactly four integers separated by single dots. Each integer is between 0 and 255 (inclusive) and cannot have leading zeros.\n",
    "\n",
    "For example, \"0.1.2.201\" and \"192.168.1.1\" are valid IP addresses, but \"0.011.255.245\", \"192.168.1.312\" and \"192.168@1.1\" are invalid IP addresses.\n",
    "Given a string s containing only digits, return all possible valid IP addresses that can be formed by inserting dots into s. You are not allowed to reorder or remove any digits in s. You may return the valid IP addresses in any order.\n",
    "\n"
   ]
  },
  {
   "cell_type": "code",
   "execution_count": null,
   "id": "f6f7d33f",
   "metadata": {},
   "outputs": [],
   "source": [
    "class Solution:\n",
    "    def restoreIpAddresses(self, s: str) -> List[str]:\n",
    "        path = []\n",
    "        output = []\n",
    "\n",
    "        def isVaild(s):\n",
    "            if s[0] == \"0\" and len(s) > 1:\n",
    "                return False\n",
    "            if int(s) > 255:\n",
    "                return False\n",
    "            return True\n",
    "\n",
    "        def backtracking(k, start):\n",
    "            if k == 0 and start == len(s):\n",
    "                output.append(path[:])\n",
    "                return\n",
    "            \n",
    "            if k == 0 or start == len(s):\n",
    "                return\n",
    "            \n",
    "            for end in range(start+1, len(s)+1):\n",
    "                if isVaild(s[start:end]):\n",
    "                    path.append(s[start:end])\n",
    "                    backtracking(k-1, end)\n",
    "                    path.pop()\n",
    "\n",
    "        backtracking(4, 0)\n",
    "        output = [\".\".join(x) for x in output]\n",
    "        return output"
   ]
  }
 ],
 "metadata": {
  "kernelspec": {
   "display_name": "Python 3 (ipykernel)",
   "language": "python",
   "name": "python3"
  },
  "language_info": {
   "codemirror_mode": {
    "name": "ipython",
    "version": 3
   },
   "file_extension": ".py",
   "mimetype": "text/x-python",
   "name": "python",
   "nbconvert_exporter": "python",
   "pygments_lexer": "ipython3",
   "version": "3.9.12"
  }
 },
 "nbformat": 4,
 "nbformat_minor": 5
}
