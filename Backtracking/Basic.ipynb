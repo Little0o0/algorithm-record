{
 "cells": [
  {
   "cell_type": "markdown",
   "id": "52ca3b53",
   "metadata": {},
   "source": [
    "回溯法，一般可以解决如下几种问题：\n",
    "\n",
    "组合问题：N个数里面按一定规则找出k个数的集合\n",
    "\n",
    "切割问题：一个字符串按一定规则有几种切割方式\n",
    "\n",
    "子集问题：一个N个数的集合里有多少符合条件的子集\n",
    "\n",
    "排列问题：N个数按一定规则全排列，有几种排列方式\n",
    "\n",
    "棋盘问题：N皇后，解数独等等"
   ]
  },
  {
   "cell_type": "markdown",
   "id": "64080877",
   "metadata": {},
   "source": [
    "分析完过程，回溯算法模板框架如下：\n",
    "```\n",
    "void backtracking(参数) {\n",
    "    if (终止条件) {\n",
    "        存放结果;\n",
    "        return;\n",
    "    }\n",
    "\n",
    "    for (选择：本层集合中元素（树中节点孩子的数量就是集合的大小）) {\n",
    "        处理节点;\n",
    "        backtracking(路径，选择列表); // 递归\n",
    "        回溯，撤销处理结果\n",
    "    }\n",
    "}\n",
    "```\n"
   ]
  },
  {
   "cell_type": "code",
   "execution_count": null,
   "id": "7e7ed8ea",
   "metadata": {},
   "outputs": [],
   "source": []
  }
 ],
 "metadata": {
  "kernelspec": {
   "display_name": "Python 3 (ipykernel)",
   "language": "python",
   "name": "python3"
  },
  "language_info": {
   "codemirror_mode": {
    "name": "ipython",
    "version": 3
   },
   "file_extension": ".py",
   "mimetype": "text/x-python",
   "name": "python",
   "nbconvert_exporter": "python",
   "pygments_lexer": "ipython3",
   "version": "3.9.12"
  }
 },
 "nbformat": 4,
 "nbformat_minor": 5
}
