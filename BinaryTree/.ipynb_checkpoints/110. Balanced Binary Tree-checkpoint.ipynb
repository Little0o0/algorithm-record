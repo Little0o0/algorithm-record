{
 "cells": [
  {
   "cell_type": "markdown",
   "id": "acbc9ab9",
   "metadata": {},
   "source": [
    "# 110. Balanced Binary Tree\n",
    "Given a binary tree, determine if it is height-balanced."
   ]
  },
  {
   "cell_type": "code",
   "execution_count": null,
   "id": "26c37818",
   "metadata": {},
   "outputs": [],
   "source": [
    "# Definition for a binary tree node.\n",
    "# class TreeNode:\n",
    "#     def __init__(self, val=0, left=None, right=None):\n",
    "#         self.val = val\n",
    "#         self.left = left\n",
    "#         self.right = right\n",
    "class Solution:\n",
    "    def isBalanced(self, root: Optional[TreeNode]) -> bool:\n",
    "        if not root:\n",
    "            return True\n",
    "        \n",
    "        def get_height(root):\n",
    "            if not root:\n",
    "                return 0\n",
    "            \n",
    "            left_height = get_height(root.left)\n",
    "            if left_height == -1:\n",
    "                return -1\n",
    "            \n",
    "            right_height = get_height(root.right)\n",
    "            if right_height == -1:\n",
    "                return -1\n",
    "\n",
    "            if abs(left_height-right_height) > 1:\n",
    "                return -1\n",
    "\n",
    "            return  1 + max(left_height, right_height)\n",
    "\n",
    "        height = get_height(root)\n",
    "        if height == -1:\n",
    "            return False\n",
    "        else:\n",
    "            return True"
   ]
  }
 ],
 "metadata": {
  "kernelspec": {
   "display_name": "Python 3 (ipykernel)",
   "language": "python",
   "name": "python3"
  },
  "language_info": {
   "codemirror_mode": {
    "name": "ipython",
    "version": 3
   },
   "file_extension": ".py",
   "mimetype": "text/x-python",
   "name": "python",
   "nbconvert_exporter": "python",
   "pygments_lexer": "ipython3",
   "version": "3.9.12"
  }
 },
 "nbformat": 4,
 "nbformat_minor": 5
}
