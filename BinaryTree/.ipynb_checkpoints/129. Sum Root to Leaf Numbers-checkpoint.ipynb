{
 "cells": [
  {
   "cell_type": "markdown",
   "id": "3e7b962e",
   "metadata": {},
   "source": [
    "# 129. Sum Root to Leaf Numbers\n",
    "\n",
    "You are given the root of a binary tree containing digits from 0 to 9 only.\n",
    "\n",
    "Each root-to-leaf path in the tree represents a number.\n",
    "\n",
    "For example, the root-to-leaf path 1 -> 2 -> 3 represents the number 123.\n",
    "\n",
    "Return the total sum of all root-to-leaf numbers. Test cases are generated so that the answer will fit in a 32-bit integer.\n",
    "\n",
    "A leaf node is a node with no children."
   ]
  },
  {
   "cell_type": "code",
   "execution_count": null,
   "id": "42bbc82d",
   "metadata": {},
   "outputs": [],
   "source": [
    "# my solution \n",
    "# Definition for a binary tree node.\n",
    "# class TreeNode:\n",
    "#     def __init__(self, val=0, left=None, right=None):\n",
    "#         self.val = val\n",
    "#         self.left = left\n",
    "#         self.right = right\n",
    "class Solution:\n",
    "    def sumNumbers(self, root: Optional[TreeNode]) -> int:\n",
    "        path = []\n",
    "        output = []\n",
    "\n",
    "        def dfs(node):\n",
    "            path.append(str(node.val))\n",
    "            if not node.left and not node.right:\n",
    "                output.append(int(\"\".join(path)))\n",
    "                path.pop()\n",
    "                return\n",
    "\n",
    "            if node.left:\n",
    "                dfs(node.left)\n",
    "            if node.right:\n",
    "                dfs(node.right)\n",
    "            path.pop()\n",
    "            return \n",
    "        dfs(root)\n",
    "        return sum(output)"
   ]
  },
  {
   "cell_type": "code",
   "execution_count": null,
   "id": "297725ba",
   "metadata": {},
   "outputs": [],
   "source": [
    "class Solution:\n",
    "    def sumNumbers(self, root: TreeNode) -> int:\n",
    "        res = 0\n",
    "        path = []\n",
    "        def backtrace(root):\n",
    "            nonlocal res\n",
    "            if not root: return # 节点空则返回\n",
    "            path.append(root.val)\n",
    "            if not root.left and not root.right: # 遇到了叶子节点\n",
    "                res += get_sum(path)\n",
    "            if root.left: # 左子树不空\n",
    "                backtrace(root.left)\n",
    "            if root.right: # 右子树不空\n",
    "                backtrace(root.right)\n",
    "            path.pop()\n",
    "\n",
    "        def get_sum(arr):\n",
    "            s = 0\n",
    "            for i in range(len(arr)):\n",
    "                s = s * 10 + arr[i]\n",
    "            return s\n",
    "\n",
    "        backtrace(root)\n",
    "        return res"
   ]
  }
 ],
 "metadata": {
  "kernelspec": {
   "display_name": "Python 3 (ipykernel)",
   "language": "python",
   "name": "python3"
  },
  "language_info": {
   "codemirror_mode": {
    "name": "ipython",
    "version": 3
   },
   "file_extension": ".py",
   "mimetype": "text/x-python",
   "name": "python",
   "nbconvert_exporter": "python",
   "pygments_lexer": "ipython3",
   "version": "3.9.12"
  }
 },
 "nbformat": 4,
 "nbformat_minor": 5
}
