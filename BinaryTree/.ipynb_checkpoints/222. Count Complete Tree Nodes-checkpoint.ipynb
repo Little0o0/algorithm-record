{
 "cells": [
  {
   "cell_type": "markdown",
   "id": "b4226c87",
   "metadata": {},
   "source": [
    "# 222. Count Complete Tree Nodes\n",
    "Given the root of a complete binary tree, return the number of the nodes in the tree.\n",
    "\n",
    "According to Wikipedia, every level, except possibly the last, is completely filled in a complete binary tree, and all nodes in the last level are as far left as possible. It can have between 1 and 2h nodes inclusive at the last level h.\n",
    "\n",
    "Design an algorithm that runs in less than O(n) time complexity.\n",
    "\n",
    "https://leetcode.com/problems/count-complete-tree-nodes/description/"
   ]
  },
  {
   "cell_type": "code",
   "execution_count": null,
   "id": "a0eaa468",
   "metadata": {},
   "outputs": [],
   "source": [
    "''' \n",
    "Only traversing along the left and right boundary. \n",
    "If both left and right height are equal then\n",
    "the bottom level would be full from left to right and total no. of nodes in that subtree\n",
    "is 2^h - 1. \n",
    "\n",
    "If left and right height are not equal then add +1 for current root and go to left child \n",
    "and right child. \n",
    "'''\n",
    "\n",
    "class Solution:\n",
    "    def countNodes(self, root: Optional[TreeNode]) -> int:\n",
    "        if not root: \n",
    "            return 0\n",
    "        \n",
    "        leftHeight = self.getLeftHeight(root)\n",
    "        rightHeight = self.getRightHeight(root)\n",
    "        \n",
    "        if leftHeight == rightHeight: \n",
    "            return 2 ** leftHeight - 1\n",
    "        else:\n",
    "            return 1 + self.countNodes(root.left) + self.countNodes(root.right)         \n",
    "        \n",
    "    \n",
    "    def getLeftHeight(self, node):\n",
    "        height = 0\n",
    "        while node:\n",
    "            height += 1\n",
    "            node = node.left\n",
    "        return height\n",
    "    \n",
    "    def getRightHeight(self, node):\n",
    "        height = 0\n",
    "        while node:\n",
    "            height += 1\n",
    "            node = node.right\n",
    "        return height\n",
    "    \n",
    "# Height = H = log(n) where n = total number of nodes\n",
    "# Time: O(H * H) = O(log(n)^2) = O(Log^2 n)\n",
    "# Auxiliary Space: O(H) = O(log(n))"
   ]
  },
  {
   "cell_type": "code",
   "execution_count": null,
   "id": "0e94397b",
   "metadata": {},
   "outputs": [],
   "source": []
  }
 ],
 "metadata": {
  "kernelspec": {
   "display_name": "Python 3 (ipykernel)",
   "language": "python",
   "name": "python3"
  },
  "language_info": {
   "codemirror_mode": {
    "name": "ipython",
    "version": 3
   },
   "file_extension": ".py",
   "mimetype": "text/x-python",
   "name": "python",
   "nbconvert_exporter": "python",
   "pygments_lexer": "ipython3",
   "version": "3.9.12"
  }
 },
 "nbformat": 4,
 "nbformat_minor": 5
}
