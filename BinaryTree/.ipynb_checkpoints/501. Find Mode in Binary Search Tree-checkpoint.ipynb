{
 "cells": [
  {
   "cell_type": "markdown",
   "id": "f92364dd",
   "metadata": {},
   "source": [
    "# 501. Find Mode in Binary Search Tree\n",
    "\n",
    "Given the root of a binary search tree (BST) with duplicates, return all the mode(s) (i.e., the most frequently occurred element) in it.\n",
    "\n",
    "If the tree has more than one mode, return them in any order.\n",
    "\n",
    "Assume a BST is defined as follows:\n",
    "\n",
    "The left subtree of a node contains only nodes with keys less than or equal to the node's key.\n",
    "The right subtree of a node contains only nodes with keys greater than or equal to the node's key.\n",
    "Both the left and right subtrees must also be binary search trees.\n"
   ]
  },
  {
   "cell_type": "code",
   "execution_count": null,
   "id": "5fd09fba",
   "metadata": {},
   "outputs": [],
   "source": [
    "# in-order count \n",
    "class Solution:\n",
    "    def findMode(self, root: TreeNode) -> List[int]:\n",
    "        stack = []\n",
    "        cur = root\n",
    "        pre = None\n",
    "        maxCount, count = 0, 0\n",
    "        res = []\n",
    "        while cur or stack:\n",
    "            if cur:  # 指针来访问节点，访问到最底层\n",
    "                stack.append(cur)\n",
    "                cur = cur.left\n",
    "            else:  # 逐一处理节点\n",
    "                cur = stack.pop()\n",
    "                if pre == None:  # 第一个节点\n",
    "                    count = 1\n",
    "                elif pre.val == cur.val:  # 与前一个节点数值相同\n",
    "                    count += 1\n",
    "                else:\n",
    "                    count = 1\n",
    "                if count == maxCount:\n",
    "                    res.append(cur.val)\n",
    "                if count > maxCount:\n",
    "                    maxCount = count\n",
    "                    res.clear()\n",
    "                    res.append(cur.val)\n",
    "\n",
    "                pre = cur\n",
    "                cur = cur.right\n",
    "        return res\t"
   ]
  }
 ],
 "metadata": {
  "kernelspec": {
   "display_name": "Python 3 (ipykernel)",
   "language": "python",
   "name": "python3"
  },
  "language_info": {
   "codemirror_mode": {
    "name": "ipython",
    "version": 3
   },
   "file_extension": ".py",
   "mimetype": "text/x-python",
   "name": "python",
   "nbconvert_exporter": "python",
   "pygments_lexer": "ipython3",
   "version": "3.9.12"
  }
 },
 "nbformat": 4,
 "nbformat_minor": 5
}
