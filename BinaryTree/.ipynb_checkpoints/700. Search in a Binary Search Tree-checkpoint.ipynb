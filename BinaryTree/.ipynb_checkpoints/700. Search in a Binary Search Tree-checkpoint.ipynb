{
 "cells": [
  {
   "cell_type": "markdown",
   "id": "2edc4d5c",
   "metadata": {},
   "source": [
    "# 700. Search in a Binary Search Tree\n",
    "\n",
    "You are given the root of a binary search tree (BST) and an integer val.\n",
    "\n",
    "Find the node in the BST that the node's value equals val and return the subtree rooted with that node. If such a node does not exist, return null.\n",
    "\n"
   ]
  },
  {
   "cell_type": "code",
   "execution_count": null,
   "id": "42d5d57d",
   "metadata": {},
   "outputs": [],
   "source": [
    "class Solution:\n",
    "    def searchBST(self, root: TreeNode, val: int) -> TreeNode:\n",
    "        while root is not None:\n",
    "            if val < root.val: root = root.left\n",
    "            elif val > root.val: root = root.right\n",
    "            else: return root\n",
    "        return None"
   ]
  }
 ],
 "metadata": {
  "kernelspec": {
   "display_name": "Python 3 (ipykernel)",
   "language": "python",
   "name": "python3"
  },
  "language_info": {
   "codemirror_mode": {
    "name": "ipython",
    "version": 3
   },
   "file_extension": ".py",
   "mimetype": "text/x-python",
   "name": "python",
   "nbconvert_exporter": "python",
   "pygments_lexer": "ipython3",
   "version": "3.9.12"
  }
 },
 "nbformat": 4,
 "nbformat_minor": 5
}
