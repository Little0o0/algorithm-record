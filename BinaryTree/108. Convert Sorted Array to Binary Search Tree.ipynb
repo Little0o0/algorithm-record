{
 "cells": [
  {
   "cell_type": "markdown",
   "id": "632b32f0",
   "metadata": {},
   "source": [
    "# 108. Convert Sorted Array to Binary Search Tree\n",
    "Given an integer array nums where the elements are sorted in ascending order, convert it to a \n",
    "height-balanced binary search tree."
   ]
  },
  {
   "cell_type": "code",
   "execution_count": null,
   "id": "65319185",
   "metadata": {},
   "outputs": [],
   "source": [
    "# Definition for a binary tree node.\n",
    "# class TreeNode:\n",
    "#     def __init__(self, val=0, left=None, right=None):\n",
    "#         self.val = val\n",
    "#         self.left = left\n",
    "#         self.right = right\n",
    "class Solution:\n",
    "    def sortedArrayToBST(self, nums: List[int]) -> Optional[TreeNode]:\n",
    "        if not nums:\n",
    "            return None\n",
    "        mid = len(nums) // 2\n",
    "        head = TreeNode(val = nums[mid])\n",
    "        head.left = self.sortedArrayToBST(nums[:mid])\n",
    "        head.right = self.sortedArrayToBST(nums[mid+1:])\n",
    "        return head"
   ]
  }
 ],
 "metadata": {
  "kernelspec": {
   "display_name": "Python 3 (ipykernel)",
   "language": "python",
   "name": "python3"
  },
  "language_info": {
   "codemirror_mode": {
    "name": "ipython",
    "version": 3
   },
   "file_extension": ".py",
   "mimetype": "text/x-python",
   "name": "python",
   "nbconvert_exporter": "python",
   "pygments_lexer": "ipython3",
   "version": "3.9.12"
  }
 },
 "nbformat": 4,
 "nbformat_minor": 5
}
