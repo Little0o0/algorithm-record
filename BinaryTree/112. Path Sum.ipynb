{
 "cells": [
  {
   "cell_type": "markdown",
   "id": "c112f32a",
   "metadata": {},
   "source": [
    "# 112. Path Sum\n"
   ]
  },
  {
   "cell_type": "code",
   "execution_count": null,
   "id": "e21d3d2c",
   "metadata": {},
   "outputs": [],
   "source": [
    "# my solution\n",
    "# Definition for a binary tree node.\n",
    "# class TreeNode:\n",
    "#     def __init__(self, val=0, left=None, right=None):\n",
    "#         self.val = val\n",
    "#         self.left = left\n",
    "#         self.right = right\n",
    "class Solution:\n",
    "    def hasPathSum(self, root: Optional[TreeNode], targetSum: int) -> bool:\n",
    "\n",
    "        if root is None:\n",
    "            return False\n",
    "\n",
    "        def backtracking(node, target):\n",
    "            if node.left is None and node.right is None:\n",
    "                if node.val == target:\n",
    "                    return True \n",
    "                else:\n",
    "                    return False\n",
    "\n",
    "            target = target - node.val\n",
    "            if node.left:\n",
    "                left_flag = backtracking(node.left, target)\n",
    "            else:\n",
    "                left_flag = False\n",
    "            \n",
    "            if node.right:\n",
    "                right_flag = backtracking(node.right, target)\n",
    "            else:\n",
    "                right_flag = False\n",
    "\n",
    "            return left_flag or right_flag\n",
    "\n",
    "        return backtracking(root, targetSum)"
   ]
  },
  {
   "cell_type": "code",
   "execution_count": null,
   "id": "751cdefc",
   "metadata": {},
   "outputs": [],
   "source": []
  }
 ],
 "metadata": {
  "kernelspec": {
   "display_name": "Python 3 (ipykernel)",
   "language": "python",
   "name": "python3"
  },
  "language_info": {
   "codemirror_mode": {
    "name": "ipython",
    "version": 3
   },
   "file_extension": ".py",
   "mimetype": "text/x-python",
   "name": "python",
   "nbconvert_exporter": "python",
   "pygments_lexer": "ipython3",
   "version": "3.9.12"
  }
 },
 "nbformat": 4,
 "nbformat_minor": 5
}
