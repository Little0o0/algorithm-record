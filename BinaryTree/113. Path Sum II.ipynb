{
 "cells": [
  {
   "cell_type": "markdown",
   "id": "702cb5cd",
   "metadata": {},
   "source": [
    "# 113. Path Sum II\n",
    "\n",
    "Given the root of a binary tree and an integer targetSum, return all root-to-leaf paths where the sum of the node values in the path equals targetSum. Each path should be returned as a list of the node values, not node references.\n",
    "\n",
    "A root-to-leaf path is a path starting from the root and ending at any leaf node. A leaf is a node with no children."
   ]
  },
  {
   "cell_type": "code",
   "execution_count": null,
   "id": "7ceb30b1",
   "metadata": {},
   "outputs": [],
   "source": [
    "# Definition for a binary tree node.\n",
    "# class TreeNode:\n",
    "#     def __init__(self, val=0, left=None, right=None):\n",
    "#         self.val = val\n",
    "#         self.left = left\n",
    "#         self.right = right\n",
    "class Solution:\n",
    "    def pathSum(self, root: Optional[TreeNode], targetSum: int) -> List[List[int]]:\n",
    "        path = []\n",
    "        output = []\n",
    "\n",
    "        if root is None:\n",
    "            return []\n",
    "\n",
    "        def backtracking(node, target):\n",
    "            path.append(node.val)\n",
    "            target -= node.val\n",
    "            if node.left is None and node.right is None and target == 0:\n",
    "                output.append(path[:])\n",
    "                path.pop()\n",
    "                return\n",
    "            \n",
    "            if node.left:\n",
    "                backtracking(node.left, target)\n",
    "            \n",
    "            if node.right:\n",
    "                backtracking(node.right, target)\n",
    "\n",
    "            path.pop()\n",
    "            return \n",
    "        \n",
    "        backtracking(root, targetSum)\n",
    "        return output"
   ]
  }
 ],
 "metadata": {
  "kernelspec": {
   "display_name": "Python 3 (ipykernel)",
   "language": "python",
   "name": "python3"
  },
  "language_info": {
   "codemirror_mode": {
    "name": "ipython",
    "version": 3
   },
   "file_extension": ".py",
   "mimetype": "text/x-python",
   "name": "python",
   "nbconvert_exporter": "python",
   "pygments_lexer": "ipython3",
   "version": "3.9.12"
  }
 },
 "nbformat": 4,
 "nbformat_minor": 5
}
