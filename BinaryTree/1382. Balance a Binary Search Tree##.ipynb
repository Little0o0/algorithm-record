{
 "cells": [
  {
   "cell_type": "markdown",
   "id": "6a30a133",
   "metadata": {},
   "source": [
    "# 1382. Balance a Binary Search Tree\n",
    "\n",
    "Given the root of a binary search tree, return a balanced binary search tree with the same node values. If there is more than one answer, return any of them.\n",
    "\n",
    "A binary search tree is balanced if the depth of the two subtrees of every node never differs by more than 1."
   ]
  },
  {
   "cell_type": "markdown",
   "id": "eb49f52d",
   "metadata": {},
   "source": [
    "https://leetcode.com/problems/balance-a-binary-search-tree/"
   ]
  },
  {
   "cell_type": "markdown",
   "id": "3acf6cd5",
   "metadata": {},
   "source": [
    "这道题目，可以中序遍历把二叉树转变为有序数组，然后在根据有序数组构造平衡二叉搜索树。"
   ]
  },
  {
   "cell_type": "code",
   "execution_count": null,
   "id": "b711729c",
   "metadata": {},
   "outputs": [],
   "source": [
    "# Definition for a binary tree node.\n",
    "# class TreeNode:\n",
    "#     def __init__(self, val=0, left=None, right=None):\n",
    "#         self.val = val\n",
    "#         self.left = left\n",
    "#         self.right = right\n",
    "class Solution:\n",
    "    def balanceBST(self, root: TreeNode) -> TreeNode:\n",
    "        res = []\n",
    "        # 有序树转成有序数组\n",
    "        def traversal(cur: TreeNode):\n",
    "            if not cur: return\n",
    "            traversal(cur.left)\n",
    "            res.append(cur.val)\n",
    "            traversal(cur.right)\n",
    "        # 有序数组转成平衡二叉树\n",
    "        def getTree(nums: List, left, right):\n",
    "            if left > right: return \n",
    "            mid = left + (right -left) // 2\n",
    "            root = TreeNode(nums[mid])\n",
    "            root.left = getTree(nums, left, mid - 1)\n",
    "            root.right = getTree(nums, mid + 1, right)\n",
    "            return root\n",
    "        traversal(root)\n",
    "        return getTree(res, 0, len(res) - 1)"
   ]
  }
 ],
 "metadata": {
  "kernelspec": {
   "display_name": "Python 3 (ipykernel)",
   "language": "python",
   "name": "python3"
  },
  "language_info": {
   "codemirror_mode": {
    "name": "ipython",
    "version": 3
   },
   "file_extension": ".py",
   "mimetype": "text/x-python",
   "name": "python",
   "nbconvert_exporter": "python",
   "pygments_lexer": "ipython3",
   "version": "3.9.12"
  }
 },
 "nbformat": 4,
 "nbformat_minor": 5
}
