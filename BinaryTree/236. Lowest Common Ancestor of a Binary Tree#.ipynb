{
 "cells": [
  {
   "cell_type": "markdown",
   "id": "2e32efd6",
   "metadata": {},
   "source": [
    "# 236. Lowest Common Ancestor of a Binary Tree\n",
    "\n",
    "Given a binary tree, find the lowest common ancestor (LCA) of two given nodes in the tree.\n",
    "\n",
    "According to the definition of LCA on Wikipedia: “The lowest common ancestor is defined between two nodes p and q as the lowest node in T that has both p and q as descendants (where we allow a node to be a descendant of itself).”"
   ]
  },
  {
   "cell_type": "code",
   "execution_count": null,
   "id": "8f52662c",
   "metadata": {},
   "outputs": [],
   "source": [
    "# my method, backtracking\n",
    "# Definition for a binary tree node.\n",
    "# class TreeNode:\n",
    "#     def __init__(self, x):\n",
    "#         self.val = x\n",
    "#         self.left = None\n",
    "#         self.right = None\n",
    "\n",
    "class Solution:\n",
    "    def lowestCommonAncestor(self, root: 'TreeNode', p: 'TreeNode', q: 'TreeNode') -> 'TreeNode':\n",
    "        if root == p or root == q:\n",
    "            return root\n",
    "        \n",
    "        path = []\n",
    "        output = []\n",
    "        def backtracking(node, targeta, targetb):\n",
    "            path.append(node)\n",
    "            if node == targeta or node == targetb:\n",
    "                output.append(path[:])\n",
    "\n",
    "            if node.left:\n",
    "                backtracking(node.left, targeta, targetb)\n",
    "            if node.right:\n",
    "                backtracking(node.right, targeta, targetb)\n",
    "            path.pop()\n",
    "        \n",
    "        backtracking(root, p, q)\n",
    "        path1, path2 = output\n",
    "        for i in range(min(len(path1), len(path2))):\n",
    "            if path1[i] != path2[i]:\n",
    "                return path1[i-1]\n",
    "        return path1[min(len(path1), len(path2))-1]"
   ]
  },
  {
   "cell_type": "code",
   "execution_count": null,
   "id": "7efbf107",
   "metadata": {},
   "outputs": [],
   "source": [
    "class Solution:\n",
    "    \"\"\"二叉树的最近公共祖先 递归法\"\"\"\n",
    "\n",
    "    def lowestCommonAncestor(self, root: 'TreeNode', p: 'TreeNode', q: 'TreeNode') -> 'TreeNode':\n",
    "        if not root or root == p or root == q:\n",
    "            return root\n",
    "        \n",
    "        left = self.lowestCommonAncestor(root.left, p, q)\n",
    "        right = self.lowestCommonAncestor(root.right, p, q)\n",
    "        \n",
    "        if left and right:\n",
    "            return root\n",
    "        if left:\n",
    "            return left\n",
    "        return right"
   ]
  }
 ],
 "metadata": {
  "kernelspec": {
   "display_name": "Python 3 (ipykernel)",
   "language": "python",
   "name": "python3"
  },
  "language_info": {
   "codemirror_mode": {
    "name": "ipython",
    "version": 3
   },
   "file_extension": ".py",
   "mimetype": "text/x-python",
   "name": "python",
   "nbconvert_exporter": "python",
   "pygments_lexer": "ipython3",
   "version": "3.9.12"
  }
 },
 "nbformat": 4,
 "nbformat_minor": 5
}
