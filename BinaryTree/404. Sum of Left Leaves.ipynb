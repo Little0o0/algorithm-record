{
 "cells": [
  {
   "cell_type": "markdown",
   "id": "a4904bc3",
   "metadata": {},
   "source": [
    "# 404. Sum of Left Leaves\n",
    "Given the root of a binary tree, return the sum of all left leaves.\n",
    "\n",
    "A leaf is a node with no children. A left leaf is a leaf that is the left child of another node."
   ]
  },
  {
   "cell_type": "code",
   "execution_count": null,
   "id": "515aff14",
   "metadata": {},
   "outputs": [],
   "source": [
    "# recursion\n",
    "class Solution:\n",
    "    def sumOfLeftLeaves(self, root: TreeNode) -> int:\n",
    "        if not root: \n",
    "            return 0\n",
    "        \n",
    "        left_left_leaves_sum = self.sumOfLeftLeaves(root.left)  # 左\n",
    "        right_left_leaves_sum = self.sumOfLeftLeaves(root.right) # 右\n",
    "        \n",
    "        cur_left_leaf_val = 0\n",
    "        if root.left and not root.left.left and not root.left.right: \n",
    "            cur_left_leaf_val = root.left.val \n",
    "            \n",
    "        return cur_left_leaf_val + left_left_leaves_sum + right_left_leaves_sum # 中"
   ]
  },
  {
   "cell_type": "code",
   "execution_count": null,
   "id": "d0c07a0f",
   "metadata": {},
   "outputs": [],
   "source": [
    "# BFS\n",
    "\n",
    "# Definition for a binary tree node.\n",
    "# class TreeNode:\n",
    "#     def __init__(self, val=0, left=None, right=None):\n",
    "#         self.val = val\n",
    "#         self.left = left\n",
    "#         self.right = right\n",
    "import collections\n",
    "class Solution:\n",
    "    def sumOfLeftLeaves(self, root: Optional[TreeNode]) -> int:\n",
    "        queue = collections.deque([(root, 0)])\n",
    "        pointer = None\n",
    "        output = 0\n",
    "        while queue:\n",
    "            pointer, flag = queue.popleft()\n",
    "            if pointer.left is None and pointer.right is None and flag:\n",
    "                output += pointer.val\n",
    "\n",
    "            if pointer.left:\n",
    "                queue.append((pointer.left, 1))\n",
    "\n",
    "            if pointer.right:\n",
    "                queue.append((pointer.right, 0))\n",
    "        return output"
   ]
  }
 ],
 "metadata": {
  "kernelspec": {
   "display_name": "Python 3 (ipykernel)",
   "language": "python",
   "name": "python3"
  },
  "language_info": {
   "codemirror_mode": {
    "name": "ipython",
    "version": 3
   },
   "file_extension": ".py",
   "mimetype": "text/x-python",
   "name": "python",
   "nbconvert_exporter": "python",
   "pygments_lexer": "ipython3",
   "version": "3.9.12"
  }
 },
 "nbformat": 4,
 "nbformat_minor": 5
}
