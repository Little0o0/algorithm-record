{
 "cells": [
  {
   "cell_type": "markdown",
   "id": "f65b1902",
   "metadata": {},
   "source": [
    "#450. Delete Node in a BST\n",
    "Given a root node reference of a BST and a key, delete the node with the given key in the BST. Return the root node reference (possibly updated) of the BST.\n",
    "\n",
    "Basically, the deletion can be divided into two stages:\n",
    "\n",
    "Search for a node to remove.\n",
    "If the node is found, delete the node.\n"
   ]
  },
  {
   "cell_type": "code",
   "execution_count": null,
   "id": "c9bda20a",
   "metadata": {},
   "outputs": [],
   "source": [
    "class Solution:\n",
    "    def deleteNode(self, root: Optional[TreeNode], key: int) -> Optional[TreeNode]:\n",
    "        if not root : return  None # 节点为空，返回\n",
    "        if root.val < key :\n",
    "            root.right = self.deleteNode(root.right, key)\n",
    "        elif root.val > key :\n",
    "            root.left = self.deleteNode(root.left, key)\n",
    "        else:\n",
    "            # 当前节点的左子树为空，返回当前的右子树\n",
    "            if not root.left : return root.right\n",
    "            # 当前节点的右子树为空，返回当前的左子树\n",
    "            if not root.right: return root.left\n",
    "            # 左右子树都不为空，找到右孩子的最左节点 记为p\n",
    "            node = root.right\n",
    "            while node.left :\n",
    "                node = node.left\n",
    "            # 将当前节点的左子树挂在p的左孩子上\n",
    "            node.left = root.left\n",
    "            # 当前节点的右子树替换掉当前节点，完成当前节点的删除\n",
    "            root = root.right\n",
    "        return root"
   ]
  },
  {
   "cell_type": "code",
   "execution_count": null,
   "id": "647197cf",
   "metadata": {},
   "outputs": [],
   "source": [
    "class Solution:\n",
    "    def deleteNode(self, root: Optional[TreeNode], key: int) -> Optional[TreeNode]:\n",
    "        # 找到节点后分两步，1. 把节点的左子树和右子树连起来，2. 把右子树跟父节点连起来\n",
    "        # root is None\n",
    "        if not root: return root\n",
    "        p = root\n",
    "        last = None\n",
    "        while p:\n",
    "            if p.val==key:\n",
    "                # 1. connect left to right\n",
    "                # right is not None -> left is None | left is not None\n",
    "                if p.right:\n",
    "                    if p.left:\n",
    "                        node = p.right\n",
    "                        while node.left:\n",
    "                            node = node.left\n",
    "                        node.left = p.left\n",
    "                    right = p.right\n",
    "                else:\n",
    "                # right is None -> right=left\n",
    "                    right = p.left\n",
    "                # 2. connect right to last\n",
    "                if last==None:\n",
    "                    root = right\n",
    "                elif last.val>key:\n",
    "                    last.left = right\n",
    "                else:\n",
    "                    last.right = right\n",
    "                # 3. return\n",
    "                break\n",
    "            else:\n",
    "                # Update last and continue\n",
    "                last = p\n",
    "                if p.val>key:\n",
    "                    p = p.left\n",
    "                else:\n",
    "                    p = p.right\n",
    "        return root"
   ]
  }
 ],
 "metadata": {
  "kernelspec": {
   "display_name": "Python 3 (ipykernel)",
   "language": "python",
   "name": "python3"
  },
  "language_info": {
   "codemirror_mode": {
    "name": "ipython",
    "version": 3
   },
   "file_extension": ".py",
   "mimetype": "text/x-python",
   "name": "python",
   "nbconvert_exporter": "python",
   "pygments_lexer": "ipython3",
   "version": "3.9.12"
  }
 },
 "nbformat": 4,
 "nbformat_minor": 5
}
