{
 "cells": [
  {
   "cell_type": "markdown",
   "id": "d9368d1c",
   "metadata": {},
   "source": [
    "# 530. Minimum Absolute Difference in BST\n",
    "Given the root of a Binary Search Tree (BST), return the minimum absolute difference between the values of any two different nodes in the tree."
   ]
  },
  {
   "cell_type": "code",
   "execution_count": null,
   "id": "fd9cc99b",
   "metadata": {},
   "outputs": [],
   "source": [
    "# inorder traverval\n",
    "class Solution:\n",
    "    def getMinimumDifference(self, root: TreeNode) -> int:\n",
    "        stack = []\n",
    "        cur = root\n",
    "        pre = None\n",
    "        result = float('inf')\n",
    "        while cur or stack:\n",
    "            if cur: # 指针来访问节点，访问到最底层\n",
    "                stack.append(cur)\n",
    "                cur = cur.left\n",
    "            else: # 逐一处理节点\n",
    "                cur = stack.pop()\n",
    "                if pre: # 当前节点和前节点的值的差值\n",
    "                    result = min(result, abs(cur.val - pre.val))\n",
    "                pre = cur\n",
    "                cur = cur.right\n",
    "        return result"
   ]
  }
 ],
 "metadata": {
  "kernelspec": {
   "display_name": "Python 3 (ipykernel)",
   "language": "python",
   "name": "python3"
  },
  "language_info": {
   "codemirror_mode": {
    "name": "ipython",
    "version": 3
   },
   "file_extension": ".py",
   "mimetype": "text/x-python",
   "name": "python",
   "nbconvert_exporter": "python",
   "pygments_lexer": "ipython3",
   "version": "3.9.12"
  }
 },
 "nbformat": 4,
 "nbformat_minor": 5
}
