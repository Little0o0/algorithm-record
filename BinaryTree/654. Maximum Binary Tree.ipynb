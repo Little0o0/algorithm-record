{
 "cells": [
  {
   "cell_type": "markdown",
   "id": "87f6df3e",
   "metadata": {},
   "source": [
    "# 654. Maximum Binary Tree\n",
    "You are given an integer array nums with no duplicates. A maximum binary tree can be built recursively from nums using the following algorithm:\n",
    "\n",
    "Create a root node whose value is the maximum value in nums.\n",
    "Recursively build the left subtree on the subarray prefix to the left of the maximum value.\n",
    "Recursively build the right subtree on the subarray suffix to the right of the maximum value.\n",
    "Return the maximum binary tree built from nums.\n",
    "\n"
   ]
  },
  {
   "cell_type": "code",
   "execution_count": null,
   "id": "b0cc456a",
   "metadata": {},
   "outputs": [],
   "source": [
    "# Definition for a binary tree node.\n",
    "# class TreeNode:\n",
    "#     def __init__(self, val=0, left=None, right=None):\n",
    "#         self.val = val\n",
    "#         self.left = left\n",
    "#         self.right = right\n",
    "class Solution:\n",
    "    def constructMaximumBinaryTree(self, nums: List[int]) -> Optional[TreeNode]:\n",
    "        if nums == []:\n",
    "            return None\n",
    "        max_val = max(nums)\n",
    "        head = TreeNode(val = max_val)\n",
    "        idx = nums.index(max_val)\n",
    "        head.left = self.constructMaximumBinaryTree(nums[:idx])\n",
    "        head.right = self.constructMaximumBinaryTree(nums[idx+1:])\n",
    "        return head"
   ]
  }
 ],
 "metadata": {
  "kernelspec": {
   "display_name": "Python 3 (ipykernel)",
   "language": "python",
   "name": "python3"
  },
  "language_info": {
   "codemirror_mode": {
    "name": "ipython",
    "version": 3
   },
   "file_extension": ".py",
   "mimetype": "text/x-python",
   "name": "python",
   "nbconvert_exporter": "python",
   "pygments_lexer": "ipython3",
   "version": "3.9.12"
  }
 },
 "nbformat": 4,
 "nbformat_minor": 5
}
