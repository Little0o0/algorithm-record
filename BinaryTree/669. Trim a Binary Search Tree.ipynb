{
 "cells": [
  {
   "cell_type": "code",
   "execution_count": null,
   "id": "24d6974b",
   "metadata": {},
   "outputs": [],
   "source": [
    "# 669. Trim a Binary Search Tree\n",
    "Given the root of a binary search tree and the lowest and highest boundaries as low and high, trim the tree so that all its elements lies in [low, high]. Trimming the tree should not change the relative structure of the elements that will remain in the tree (i.e., any node's descendant should remain a descendant). It can be proven that there is a unique answer.\n",
    "\n",
    "Return the root of the trimmed binary search tree. Note that the root may change depending on the given bounds.\n",
    "\n"
   ]
  },
  {
   "cell_type": "code",
   "execution_count": null,
   "id": "9107d999",
   "metadata": {},
   "outputs": [],
   "source": [
    "# Definition for a binary tree node.\n",
    "# class TreeNode:\n",
    "#     def __init__(self, val=0, left=None, right=None):\n",
    "#         self.val = val\n",
    "#         self.left = left\n",
    "#         self.right = right\n",
    "class Solution:\n",
    "    def trimBST(self, root: Optional[TreeNode], low: int, high: int) -> Optional[TreeNode]:\n",
    "        if not root:\n",
    "            return None\n",
    "\n",
    "        if root.val >= low and root.val <= high:\n",
    "            root.left = self.trimBST(root.left, low, high)\n",
    "            root.right = self.trimBST(root.right, low, high)\n",
    "        elif root.val < low:\n",
    "            return self.trimBST(root.right, low, high)\n",
    "        elif root.val > high:\n",
    "            return self.trimBST(root.left, low, high)\n",
    "            \n",
    "        return root"
   ]
  }
 ],
 "metadata": {
  "kernelspec": {
   "display_name": "Python 3 (ipykernel)",
   "language": "python",
   "name": "python3"
  },
  "language_info": {
   "codemirror_mode": {
    "name": "ipython",
    "version": 3
   },
   "file_extension": ".py",
   "mimetype": "text/x-python",
   "name": "python",
   "nbconvert_exporter": "python",
   "pygments_lexer": "ipython3",
   "version": "3.9.12"
  }
 },
 "nbformat": 4,
 "nbformat_minor": 5
}
