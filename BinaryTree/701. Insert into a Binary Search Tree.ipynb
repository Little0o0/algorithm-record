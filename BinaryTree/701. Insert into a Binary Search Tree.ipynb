{
 "cells": [
  {
   "cell_type": "markdown",
   "id": "8d7e2604",
   "metadata": {},
   "source": [
    "# 701. Insert into a Binary Search Tree\n",
    "You are given the root node of a binary search tree (BST) and a value to insert into the tree. Return the root node of the BST after the insertion. It is guaranteed that the new value does not exist in the original BST.\n",
    "\n",
    "Notice that there may exist multiple valid ways for the insertion, as long as the tree remains a BST after insertion. You can return any of them.\n",
    "\n"
   ]
  },
  {
   "cell_type": "code",
   "execution_count": null,
   "id": "f1ed49ee",
   "metadata": {},
   "outputs": [],
   "source": [
    "# Definition for a binary tree node.\n",
    "# class TreeNode:\n",
    "#     def __init__(self, val=0, left=None, right=None):\n",
    "#         self.val = val\n",
    "#         self.left = left\n",
    "#         self.right = right\n",
    "class Solution:\n",
    "    def insertIntoBST(self, root: Optional[TreeNode], val: int) -> Optional[TreeNode]:\n",
    "        if root is None:\n",
    "            return TreeNode(val)\n",
    "        \n",
    "        if val > root.val:\n",
    "            root.right = self.insertIntoBST(root.right, val)\n",
    "        else:\n",
    "            root.left = self.insertIntoBST(root.left,val)\n",
    "            \n",
    "        return root"
   ]
  },
  {
   "cell_type": "code",
   "execution_count": null,
   "id": "f7fb6cf0",
   "metadata": {},
   "outputs": [],
   "source": [
    "class Solution:\n",
    "    def insertIntoBST(self, root: TreeNode, val: int) -> TreeNode:\n",
    "        if not root: \n",
    "            return TreeNode(val)\n",
    "        parent = None # 此步可以省略\n",
    "        cur = root\n",
    "\n",
    "        # 用while循环不断地找新节点的parent\n",
    "        while cur: \n",
    "            parent = cur  # 首先保存当前非空节点作为下一次迭代的父节点\n",
    "            if cur.val < val: \n",
    "                cur = cur.right\n",
    "            elif cur.val > val: \n",
    "                cur = cur.left\n",
    "\n",
    "        # 运行到这意味着已经跳出上面的while循环, \n",
    "        # 同时意味着新节点的parent已经被找到.\n",
    "        # parent已被找到, 新节点已经ready. 把两个节点黏在一起就好了. \n",
    "        if parent.val > val: \n",
    "            parent.left = TreeNode(val)\n",
    "        else: \n",
    "            parent.right = TreeNode(val)\n",
    "        \n",
    "        return root"
   ]
  }
 ],
 "metadata": {
  "kernelspec": {
   "display_name": "Python 3 (ipykernel)",
   "language": "python",
   "name": "python3"
  },
  "language_info": {
   "codemirror_mode": {
    "name": "ipython",
    "version": 3
   },
   "file_extension": ".py",
   "mimetype": "text/x-python",
   "name": "python",
   "nbconvert_exporter": "python",
   "pygments_lexer": "ipython3",
   "version": "3.9.12"
  }
 },
 "nbformat": 4,
 "nbformat_minor": 5
}
