{
 "cells": [
  {
   "cell_type": "markdown",
   "id": "010794d5",
   "metadata": {},
   "source": [
    "# 341. Flatten Nested List Iterator\n",
    "\n",
    "https://leetcode.com/problems/flatten-nested-list-iterator/\n",
    "\n",
    "You are given a nested list of integers nestedList. Each element is either an integer or a list whose elements may also be integers or other lists. Implement an iterator to flatten it.\n",
    "\n",
    "Implement the NestedIterator class:\n",
    "\n",
    "NestedIterator(List<NestedInteger> nestedList) Initializes the iterator with the nested list nestedList.\n",
    "    \n",
    "int next() Returns the next integer in the nested list.\n",
    "    \n",
    "boolean hasNext() Returns true if there are still some integers in the nested list and false otherwise.\n",
    "    \n",
    "    \n",
    "Your code will be tested with the following pseudocode:\n",
    "\n",
    "```\n",
    "initialize iterator with nestedList\n",
    "res = []\n",
    "while iterator.hasNext()\n",
    "append iterator.next() to the end of res\n",
    "return res\n",
    "```\n",
    "    \n",
    "If res matches the expected flattened list, then your code will be judged as correct.\n",
    "    \n",
    "Example 1:\n",
    "```\n",
    "Input: nestedList = [[1,1],2,[1,1]]\n",
    "Output: [1,1,2,1,1]\n",
    "Explanation: By calling next repeatedly until hasNext returns false, the order of elements returned by next should be: [1,1,2,1,1].\n",
    "```\n",
    "    \n",
    "Example 2:\n",
    "```\n",
    "Input: nestedList = [1,[4,[6]]]\n",
    "Output: [1,4,6]\n",
    "Explanation: By calling next repeatedly until hasNext returns false, the order of elements returned by next should be: [1,4,6].\n",
    "```"
   ]
  },
  {
   "cell_type": "code",
   "execution_count": 2,
   "id": "b3ab3049",
   "metadata": {},
   "outputs": [
    {
     "data": {
      "text/plain": [
       "[[4, 2, [6]], 1]"
      ]
     },
     "execution_count": 2,
     "metadata": {},
     "output_type": "execute_result"
    }
   ],
   "source": [
    "a = [1,[4, 2,[6]]]\n",
    "a[::-1] # reverse "
   ]
  },
  {
   "cell_type": "code",
   "execution_count": null,
   "id": "868b1c0b",
   "metadata": {},
   "outputs": [],
   "source": [
    "# solution 1\n",
    "class NestedIterator:\n",
    "    def __init__(self, nestedList: [NestedInteger]):\n",
    "        self.stack = nestedList[::-1] # reverse as a stack\n",
    "    \n",
    "    def next(self) -> int:\n",
    "        return self.stack.pop().getInteger()\n",
    "\n",
    "    def hasNext(self) -> bool:\n",
    "        while self.stack:\n",
    "            top = self.stack[-1]\n",
    "            if top.isInteger():\n",
    "                return True\n",
    "            self.stack = self.stack[:-1] + top.getList()[::-1] # pop out the last element\n",
    "        return False"
   ]
  },
  {
   "cell_type": "code",
   "execution_count": null,
   "id": "2dcb0e3d",
   "metadata": {},
   "outputs": [],
   "source": [
    "# solution 2\n",
    "class NestedIterator:\n",
    "    def __init__(self, nestedList: [NestedInteger]):\n",
    "        self.stack = [[nestedList, 0]]\n",
    "    \n",
    "    def next(self) -> int:\n",
    "        self.hasNext()\n",
    "        nestedList, i = self.stack[-1]\n",
    "        self.stack[-1][1] += 1\n",
    "        return nestedList[i].getInteger()\n",
    "\n",
    "    def hasNext(self) -> bool:\n",
    "        s = self.stack\n",
    "        while s:\n",
    "            nestedList, i = s[-1]\n",
    "            if i == len(nestedList):\n",
    "                s.pop()\n",
    "            else:\n",
    "                x = nestedList[i]\n",
    "                if x.isInteger():\n",
    "                    return True\n",
    "                s[-1][1] += 1\n",
    "                s.append([x.getList(), 0])\n",
    "        return False"
   ]
  }
 ],
 "metadata": {
  "kernelspec": {
   "display_name": "Python 3 (ipykernel)",
   "language": "python",
   "name": "python3"
  },
  "language_info": {
   "codemirror_mode": {
    "name": "ipython",
    "version": 3
   },
   "file_extension": ".py",
   "mimetype": "text/x-python",
   "name": "python",
   "nbconvert_exporter": "python",
   "pygments_lexer": "ipython3",
   "version": "3.9.12"
  }
 },
 "nbformat": 4,
 "nbformat_minor": 5
}
