{
 "cells": [
  {
   "cell_type": "markdown",
   "id": "4009dcbb",
   "metadata": {},
   "source": [
    "# 394. Decode String\n",
    "\n",
    "https://leetcode.com/problems/decode-string/\n",
    "\n",
    "Given an encoded string, return its decoded string.\n",
    "\n",
    "The encoding rule is: k[encoded_string], where the encoded_string inside the square brackets is being repeated exactly k times. Note that k is guaranteed to be a positive integer.\n",
    "\n",
    "You may assume that the input string is always valid; there are no extra white spaces, square brackets are well-formed, etc. Furthermore, you may assume that the original data does not contain any digits and that digits are only for those repeat numbers, k. For example, there will not be input like 3a or 2[4].\n",
    "\n",
    "The test cases are generated so that the length of the output will never exceed $10^5$.\n",
    "\n",
    "Example 1:\n",
    "```\n",
    "Input: s = \"3[a]2[bc]\"\n",
    "Output: \"aaabcbc\"\n",
    "```\n",
    "Example 2:\n",
    "```\n",
    "Input: s = \"3[a2[c]]\"\n",
    "Output: \"accaccacc\"\n",
    "```\n",
    "Example 3:\n",
    "```\n",
    "Input: s = \"2[abc]3[cd]ef\"\n",
    "Output: \"abcabccdcdcdef\"\n",
    "```"
   ]
  },
  {
   "cell_type": "code",
   "execution_count": null,
   "id": "8ccd5e73",
   "metadata": {},
   "outputs": [],
   "source": [
    "# My solution \n",
    "class Solution:\n",
    "    def decodeString(self, s: str) -> str:\n",
    "        stack = []\n",
    "        num_str_list = [str(i) for i in range(10)]\n",
    "        num_str = \"\"\n",
    "        for idx, c in enumerate(s):\n",
    "            if c in num_str_list:\n",
    "                num_str += c\n",
    "                if s[idx+1] not in num_str_list:\n",
    "                    stack.append(int(num_str))\n",
    "                    num_str = \"\"\n",
    "            elif c == \"[\":\n",
    "                stack.append(\"\")\n",
    "            elif c == \"]\":\n",
    "                decoder_str = stack.pop()\n",
    "                num = stack.pop()\n",
    "                if stack == [] or isinstance(stack[-1], int):\n",
    "                    stack.append(num* decoder_str)\n",
    "                else:\n",
    "                    stack[-1] += num* decoder_str\n",
    "            elif len(stack) == 0:\n",
    "                stack.append(c)\n",
    "            else:\n",
    "                stack[-1] = stack[-1] + c\n",
    "        return \"\".join(stack)"
   ]
  },
  {
   "cell_type": "code",
   "execution_count": null,
   "id": "7d8aa260",
   "metadata": {},
   "outputs": [],
   "source": [
    "# Others solution\n",
    "class Solution:\n",
    "    def countOfAtoms(self, formula):\n",
    "        dic, coeff, stack, elem, cnt, i = collections.defaultdict(int), 1, [], \"\", 0, 0  \n",
    "        for c in formula[::-1]:\n",
    "            if c.isdigit():\n",
    "                cnt += int(c) * (10 ** i)\n",
    "                i += 1\n",
    "            elif c == \")\":\n",
    "                stack.append(cnt)\n",
    "                coeff *= cnt\n",
    "                i = cnt = 0\n",
    "            elif c == \"(\":\n",
    "                coeff //= stack.pop()\n",
    "                i = cnt = 0\n",
    "            elif c.isupper():\n",
    "                elem += c\n",
    "                dic[elem[::-1]] += (cnt or 1) * coeff\n",
    "                elem = \"\"\n",
    "                i = cnt = 0\n",
    "            elif c.islower():\n",
    "                elem += c\n",
    "        return \"\".join(k + str(v > 1 and v or \"\") for k, v in sorted(dic.items()))"
   ]
  }
 ],
 "metadata": {
  "kernelspec": {
   "display_name": "Python 3 (ipykernel)",
   "language": "python",
   "name": "python3"
  },
  "language_info": {
   "codemirror_mode": {
    "name": "ipython",
    "version": 3
   },
   "file_extension": ".py",
   "mimetype": "text/x-python",
   "name": "python",
   "nbconvert_exporter": "python",
   "pygments_lexer": "ipython3",
   "version": "3.9.12"
  }
 },
 "nbformat": 4,
 "nbformat_minor": 5
}
