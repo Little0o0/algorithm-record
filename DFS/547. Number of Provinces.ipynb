{
 "cells": [
  {
   "cell_type": "markdown",
   "id": "bb48f366",
   "metadata": {},
   "source": [
    "# 547. Number of Provinces\n",
    "There are n cities. Some of them are connected, while some are not. If city a is connected directly with city b, and city b is connected directly with city c, then city a is connected indirectly with city c.\n",
    "\n",
    "A province is a group of directly or indirectly connected cities and no other cities outside of the group.\n",
    "\n",
    "You are given an n x n matrix isConnected where isConnected[i][j] = 1 if the ith city and the jth city are directly connected, and isConnected[i][j] = 0 otherwise.\n",
    "\n",
    "Return the total number of provinces."
   ]
  },
  {
   "cell_type": "code",
   "execution_count": null,
   "id": "1eef5571",
   "metadata": {},
   "outputs": [],
   "source": [
    "class Solution:\n",
    "    def findCircleNum(self, M: List[List[int]]) -> int:\n",
    "       \n",
    "        if not M:\n",
    "            return 0\n",
    "        \n",
    "        n = len(M)\n",
    "        visit = [False]*n\n",
    "        \n",
    "        def dfs(u):\n",
    "            for v in range(n):\n",
    "                if M[u][v] ==1 and visit[v] == False:\n",
    "                    visit[v] = True\n",
    "                    dfs(v)\n",
    "        \n",
    "        count = 0\n",
    "        for i in range(n):\n",
    "            if visit[i] == False:\n",
    "                count += 1\n",
    "                visit[i] = True\n",
    "                dfs(i)\n",
    "        \n",
    "        return count"
   ]
  }
 ],
 "metadata": {
  "kernelspec": {
   "display_name": "Python 3 (ipykernel)",
   "language": "python",
   "name": "python3"
  },
  "language_info": {
   "codemirror_mode": {
    "name": "ipython",
    "version": 3
   },
   "file_extension": ".py",
   "mimetype": "text/x-python",
   "name": "python",
   "nbconvert_exporter": "python",
   "pygments_lexer": "ipython3",
   "version": "3.9.12"
  }
 },
 "nbformat": 4,
 "nbformat_minor": 5
}
