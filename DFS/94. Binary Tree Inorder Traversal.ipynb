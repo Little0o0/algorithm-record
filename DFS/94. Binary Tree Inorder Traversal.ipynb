{
 "cells": [
  {
   "cell_type": "markdown",
   "id": "5aea3245",
   "metadata": {},
   "source": [
    "# 94. Binary Tree Inorder Traversal\n",
    "\n",
    "https://leetcode.com/problems/binary-tree-inorder-traversal/\n",
    "\n",
    "Given the root of a binary tree, return the inorder traversal of its nodes' values."
   ]
  },
  {
   "cell_type": "code",
   "execution_count": null,
   "id": "1b9c94e7",
   "metadata": {},
   "outputs": [],
   "source": [
    "# Definition for a binary tree node.\n",
    "# class TreeNode:\n",
    "#     def __init__(self, val=0, left=None, right=None):\n",
    "#         self.val = val\n",
    "#         self.left = left\n",
    "#         self.right = right"
   ]
  },
  {
   "cell_type": "code",
   "execution_count": null,
   "id": "af3a7903",
   "metadata": {},
   "outputs": [],
   "source": [
    "# My solution \n",
    "\n",
    "class Solution:\n",
    "    def inorderTraversal(self, root: Optional[TreeNode]) -> List[int]:\n",
    "        stack = [];  pointer = root \n",
    "        ## Attention! \n",
    "        ## stack = [root];  pointer = None will meet error when input tree is empty, i.e., []\n",
    "        ## where the length of initial stack is 1\n",
    "        ## and stack is not empty \n",
    "        output = [];\n",
    "        while len(stack) != 0 or pointer:\n",
    "            if pointer is None :\n",
    "                pointer = stack.pop()\n",
    "                output.append(pointer.val) # pointer is None when stack = [root];  pointer = None \n",
    "                pointer = pointer.right\n",
    "            else:\n",
    "                stack.append(pointer)\n",
    "                pointer = pointer.left\n",
    "        return output"
   ]
  },
  {
   "cell_type": "code",
   "execution_count": 2,
   "id": "6fe2f917",
   "metadata": {},
   "outputs": [
    {
     "name": "stdout",
     "output_type": "stream",
     "text": [
      "1\n",
      "False\n"
     ]
    }
   ],
   "source": [
    "a = [None]\n",
    "print(len(a))\n",
    "print(a == [])"
   ]
  },
  {
   "cell_type": "code",
   "execution_count": null,
   "id": "1a22df41",
   "metadata": {},
   "outputs": [],
   "source": [
    "# iterative version \n",
    "# the core is push all nodes into stack in a in-order, the last node in stack it have explore its left node !\n",
    "# when meet node has no **left** child node, output value and go to the right node\n",
    "class Solution:\n",
    "    def inorderTraversal(self, root: Optional[TreeNode]) -> List[int]:\n",
    "        output = []; pointer = root \n",
    "        stack = []\n",
    "        while stack or pointer:\n",
    "            if pointer: \n",
    "                stack.append(pointer)\n",
    "                pointer = pointer.left \n",
    "            else:\n",
    "                tmpNode = stack.pop()\n",
    "                output.append(tmpNode.val)\n",
    "                pointer = tmpNode.right\n",
    "            \n",
    "        return output"
   ]
  },
  {
   "cell_type": "code",
   "execution_count": null,
   "id": "f7a85979",
   "metadata": {},
   "outputs": [],
   "source": [
    "# iterative version 2\n",
    "class Solution:\n",
    "    def inorderTraversal(self, root: Optional[TreeNode]) -> List[int]:\n",
    "        res, stack = [], []\n",
    "        while True:\n",
    "            while root:\n",
    "                stack.append(root)\n",
    "                root = root.left\n",
    "            if not stack:\n",
    "                return res\n",
    "            node = stack.pop()\n",
    "            res.append(node.val)\n",
    "            root = node.right"
   ]
  },
  {
   "cell_type": "code",
   "execution_count": null,
   "id": "8bfd2efd",
   "metadata": {},
   "outputs": [],
   "source": [
    "# recursively version\n",
    "class Solution:\n",
    "    def inorderTraversal(self, root: Optional[TreeNode]) -> List[int]:\n",
    "        res = []\n",
    "        self.helper(root, res)\n",
    "        return res\n",
    "\n",
    "    def helper(self, root, res):\n",
    "        if root:\n",
    "            self.helper(root.left, res)\n",
    "            res.append(root.val)\n",
    "            self.helper(root.right, res)\n",
    "\n"
   ]
  }
 ],
 "metadata": {
  "kernelspec": {
   "display_name": "Python 3 (ipykernel)",
   "language": "python",
   "name": "python3"
  },
  "language_info": {
   "codemirror_mode": {
    "name": "ipython",
    "version": 3
   },
   "file_extension": ".py",
   "mimetype": "text/x-python",
   "name": "python",
   "nbconvert_exporter": "python",
   "pygments_lexer": "ipython3",
   "version": "3.9.12"
  }
 },
 "nbformat": 4,
 "nbformat_minor": 5
}
