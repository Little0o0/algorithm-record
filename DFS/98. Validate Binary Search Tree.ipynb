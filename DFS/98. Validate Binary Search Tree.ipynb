{
 "cells": [
  {
   "cell_type": "markdown",
   "id": "58ef0a02",
   "metadata": {},
   "source": [
    "# 98. Validate Binary Search Tree\n",
    "\n",
    "Given the root of a binary tree, determine if it is a valid binary search tree (BST).\n",
    "\n",
    "A valid BST is defined as follows:\n",
    "\n",
    "The left subtree of a node contains only nodes with keys less than the node's key.\n",
    "The right subtree of a node contains only nodes with keys greater than the node's key.\n",
    "Both the left and right subtrees must also be binary search trees.\n",
    "\n",
    "Example\n",
    "```\n",
    "Input: [5,1,6,null,null,3,7]\n",
    "Output: False # becuase 3 need larger than 5\n",
    "```"
   ]
  },
  {
   "cell_type": "code",
   "execution_count": null,
   "id": "653a0fd4",
   "metadata": {},
   "outputs": [],
   "source": [
    "# Definition for a binary tree node.\n",
    "# class TreeNode:\n",
    "#     def __init__(self, val=0, left=None, right=None):\n",
    "#         self.val = val\n",
    "#         self.left = left\n",
    "#         self.right = right"
   ]
  },
  {
   "cell_type": "code",
   "execution_count": null,
   "id": "9e21c354",
   "metadata": {},
   "outputs": [],
   "source": [
    "# My solution \n",
    "# The result of in-order search in Binary Search Tree is in an increasing order. \n",
    "# so we just need to check if its inorder traversal is incearsing\n",
    "class Solution:\n",
    "    def isValidBST(self, root: Optional[TreeNode]) -> bool:\n",
    "        stack = []; pointer = root;sorted_list = []\n",
    "        while stack or pointer:\n",
    "            if pointer:\n",
    "                stack.append(pointer)\n",
    "                pointer = pointer.left\n",
    "            else:\n",
    "                pointer = stack.pop()\n",
    "                if sorted_list and sorted_list[-1] >= pointer.val:\n",
    "                    return False\n",
    "                else:\n",
    "                    sorted_list.append(pointer.val)\n",
    "                pointer = pointer.right\n",
    "        return True"
   ]
  }
 ],
 "metadata": {
  "kernelspec": {
   "display_name": "Python 3 (ipykernel)",
   "language": "python",
   "name": "python3"
  },
  "language_info": {
   "codemirror_mode": {
    "name": "ipython",
    "version": 3
   },
   "file_extension": ".py",
   "mimetype": "text/x-python",
   "name": "python",
   "nbconvert_exporter": "python",
   "pygments_lexer": "ipython3",
   "version": "3.9.12"
  }
 },
 "nbformat": 4,
 "nbformat_minor": 5
}
