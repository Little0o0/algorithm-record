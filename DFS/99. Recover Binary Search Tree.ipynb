{
 "cells": [
  {
   "cell_type": "markdown",
   "id": "74a42185",
   "metadata": {},
   "source": [
    "# 99. Recover Binary Search Tree\n",
    "\n",
    "https://leetcode.com/problems/recover-binary-search-tree/\n",
    "\n",
    "You are given the root of a binary search tree (BST), where the values of exactly two nodes of the tree were swapped by mistake. Recover the tree without changing its structure"
   ]
  },
  {
   "cell_type": "markdown",
   "id": "9eec5859",
   "metadata": {},
   "source": [
    "The basic idea is to visit the tree with in-order traversal and search for two swapped nodes. Then swap them back.\n",
    "\n",
    "The problem is if we found an incorrect pair where prev.val > curr.val, how do we know which node is the incorrect one? \n",
    "\n",
    "If we search the tree in in-order traversal, the number order is almost increasing. Thus in the first incorrect pair, the previous node is incorrect. In the second incorrect pair, the current node is incorrect"
   ]
  },
  {
   "cell_type": "code",
   "execution_count": null,
   "id": "e85add84",
   "metadata": {},
   "outputs": [],
   "source": [
    "# Definition for a binary tree node.\n",
    "# class TreeNode:\n",
    "#     def __init__(self, val=0, left=None, right=None):\n",
    "#         self.val = val\n",
    "#         self.left = left\n",
    "#         self.right = right\n",
    "class Solution:\n",
    "    def recoverTree(self, root: Optional[TreeNode]) -> None:\n",
    "        \"\"\"\n",
    "        Do not return anything, modify root in-place instead.\n",
    "        \"\"\"\n",
    "        # My solution\n",
    "        stack = []\n",
    "        current_node = root; prev_node = None\n",
    "        first_node = None; second_node = None\n",
    "        \n",
    "\n",
    "        while stack or current_node:\n",
    "            if current_node:\n",
    "                stack.append(current_node)\n",
    "                current_node = current_node.left\n",
    "                # We do not need to shift the prev_node here, \n",
    "                # because in this condition, we just need to push node into stack\n",
    "            else:\n",
    "                current_node = stack.pop()\n",
    "                if prev_node and current_node.val < prev_node.val:\n",
    "                    if first_node is None:\n",
    "                        first_node = prev_node  \n",
    "                    # Attention! this is not else condition, because when 1234 to 1324, only one uncorrect pair!\n",
    "                    second_node = current_node \n",
    "                prev_node = current_node\n",
    "                current_node  = current_node.right\n",
    "\n",
    "        first_node.val, second_node.val = second_node.val, first_node.val"
   ]
  },
  {
   "cell_type": "code",
   "execution_count": null,
   "id": "3b7f2660",
   "metadata": {},
   "outputs": [],
   "source": [
    "# Morris-traversal "
   ]
  }
 ],
 "metadata": {
  "kernelspec": {
   "display_name": "Python 3 (ipykernel)",
   "language": "python",
   "name": "python3"
  },
  "language_info": {
   "codemirror_mode": {
    "name": "ipython",
    "version": 3
   },
   "file_extension": ".py",
   "mimetype": "text/x-python",
   "name": "python",
   "nbconvert_exporter": "python",
   "pygments_lexer": "ipython3",
   "version": "3.9.12"
  }
 },
 "nbformat": 4,
 "nbformat_minor": 5
}
