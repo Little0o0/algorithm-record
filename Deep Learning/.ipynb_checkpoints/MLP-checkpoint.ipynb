{
 "cells": [
  {
   "cell_type": "code",
   "execution_count": 45,
   "id": "bc79bff8",
   "metadata": {},
   "outputs": [],
   "source": [
    "import torch\n",
    "import torch.nn as nn\n",
    "\n",
    "class FCN(nn.Module):\n",
    "    def __init__(self, input_dim = 10, output_dim = 2):\n",
    "        super(FCN, self).__init__()\n",
    "        \n",
    "        self.fc1 = nn.Linear(input_dim, 128)\n",
    "        self.relu = nn.ReLU() # not Relu!!!!\n",
    "        self.fc2 = nn.Linear(128, output_dim)\n",
    "        self.softmax = nn.Softmax()\n",
    "        \n",
    "    def forward(self, x):\n",
    "        x = self.fc1(x)\n",
    "        x = self.relu(x)\n",
    "        x = self.fc2(x)\n",
    "        x = self.softmax(x)\n",
    "        return x"
   ]
  },
  {
   "cell_type": "code",
   "execution_count": 46,
   "id": "3d16a520",
   "metadata": {},
   "outputs": [],
   "source": [
    "x = torch.rand((30,10))"
   ]
  },
  {
   "cell_type": "code",
   "execution_count": 47,
   "id": "ecd241b1",
   "metadata": {},
   "outputs": [
    {
     "name": "stderr",
     "output_type": "stream",
     "text": [
      "/tmp/ipykernel_29841/67339178.py:17: UserWarning: Implicit dimension choice for softmax has been deprecated. Change the call to include dim=X as an argument.\n",
      "  x = self.softmax(x)\n"
     ]
    },
    {
     "data": {
      "text/plain": [
       "tensor([[0.5766, 0.4234],\n",
       "        [0.5802, 0.4198],\n",
       "        [0.5707, 0.4293],\n",
       "        [0.5456, 0.4544],\n",
       "        [0.5891, 0.4109],\n",
       "        [0.5440, 0.4560],\n",
       "        [0.5390, 0.4610],\n",
       "        [0.5677, 0.4323],\n",
       "        [0.5725, 0.4275],\n",
       "        [0.5684, 0.4316],\n",
       "        [0.5434, 0.4566],\n",
       "        [0.5574, 0.4426],\n",
       "        [0.5433, 0.4567],\n",
       "        [0.5519, 0.4481],\n",
       "        [0.5618, 0.4382],\n",
       "        [0.5701, 0.4299],\n",
       "        [0.5636, 0.4364],\n",
       "        [0.5561, 0.4439],\n",
       "        [0.5454, 0.4546],\n",
       "        [0.5403, 0.4597],\n",
       "        [0.5643, 0.4357],\n",
       "        [0.5774, 0.4226],\n",
       "        [0.5696, 0.4304],\n",
       "        [0.5732, 0.4268],\n",
       "        [0.5524, 0.4476],\n",
       "        [0.5411, 0.4589],\n",
       "        [0.5562, 0.4438],\n",
       "        [0.5674, 0.4326],\n",
       "        [0.5605, 0.4395],\n",
       "        [0.5554, 0.4446]], grad_fn=<SoftmaxBackward>)"
      ]
     },
     "execution_count": 47,
     "metadata": {},
     "output_type": "execute_result"
    }
   ],
   "source": [
    "model = FCN()\n",
    "model(x)"
   ]
  },
  {
   "cell_type": "code",
   "execution_count": null,
   "id": "49416ef6",
   "metadata": {},
   "outputs": [],
   "source": []
  }
 ],
 "metadata": {
  "kernelspec": {
   "display_name": "Python 3 (ipykernel)",
   "language": "python",
   "name": "python3"
  },
  "language_info": {
   "codemirror_mode": {
    "name": "ipython",
    "version": 3
   },
   "file_extension": ".py",
   "mimetype": "text/x-python",
   "name": "python",
   "nbconvert_exporter": "python",
   "pygments_lexer": "ipython3",
   "version": "3.9.12"
  }
 },
 "nbformat": 4,
 "nbformat_minor": 5
}
