{
 "cells": [
  {
   "cell_type": "markdown",
   "id": "cc28ee2f",
   "metadata": {},
   "source": [
    "# 1143. Longest Common Subsequence\n",
    "Given two strings text1 and text2, return the length of their longest common subsequence. If there is no common subsequence, return 0.\n",
    "\n",
    "A subsequence of a string is a new string generated from the original string with some characters (can be none) deleted without changing the relative order of the remaining characters.\n",
    "\n",
    "For example, \"ace\" is a subsequence of \"abcde\".\n",
    "A common subsequence of two strings is a subsequence that is common to both strings."
   ]
  },
  {
   "cell_type": "raw",
   "id": "bb55fa24",
   "metadata": {},
   "source": [
    "本题和动态规划：718. 最长重复子数组区别在于这里不要求是连续的了，但要有相对顺序，即：\"ace\" 是 \"abcde\" 的子序列，但 \"aec\" 不是 \"abcde\" 的子序列。\n",
    "\n",
    "继续动规五部曲分析如下：\n",
    "\n",
    "确定dp数组（dp table）以及下标的含义\n",
    "dp[i][j]：长度为[0, i - 1]的字符串text1与长度为[0, j - 1]的字符串text2的最长公共子序列为dp[i][j]\n",
    "\n",
    "有同学会问：为什么要定义长度为[0, i - 1]的字符串text1，定义为长度为[0, i]的字符串text1不香么？\n",
    "\n",
    "这样定义是为了后面代码实现方便，如果非要定义为长度为[0, i]的字符串text1也可以，我在 动态规划：718. 最长重复子数组 中的「拓展」里 详细讲解了区别所在，其实就是简化了dp数组第一行和第一列的初始化逻辑。\n",
    "\n",
    "确定递推公式\n",
    "主要就是两大情况： text1[i - 1] 与 text2[j - 1]相同，text1[i - 1] 与 text2[j - 1]不相同\n",
    "\n",
    "如果text1[i - 1] 与 text2[j - 1]相同，那么找到了一个公共元素，所以dp[i][j] = dp[i - 1][j - 1] + 1;\n",
    "\n",
    "如果text1[i - 1] 与 text2[j - 1]不相同，那就看看text1[0, i - 2]与text2[0, j - 1]的最长公共子序列 和 text1[0, i - 1]与text2[0, j - 2]的最长公共子序列，取最大的。\n",
    "\n",
    "即：dp[i][j] = max(dp[i - 1][j], dp[i][j - 1]);"
   ]
  },
  {
   "cell_type": "code",
   "execution_count": null,
   "id": "acd65b3a",
   "metadata": {},
   "outputs": [],
   "source": [
    "class Solution:\n",
    "    def longestCommonSubsequence(self, text1: str, text2: str) -> int:\n",
    "        len1, len2 = len(text1)+1, len(text2)+1\n",
    "        dp = [[0 for _ in range(len1)] for _ in range(len2)] # 先对dp数组做初始化操作\n",
    "        for i in range(1, len2):\n",
    "            for j in range(1, len1): # 开始列出状态转移方程\n",
    "                if text1[j-1] == text2[i-1]:\n",
    "                    dp[i][j] = dp[i-1][j-1]+1\n",
    "                else:\n",
    "                    dp[i][j] = max(dp[i-1][j], dp[i][j-1])\n",
    "        return dp[-1][-1]"
   ]
  }
 ],
 "metadata": {
  "kernelspec": {
   "display_name": "Python 3 (ipykernel)",
   "language": "python",
   "name": "python3"
  },
  "language_info": {
   "codemirror_mode": {
    "name": "ipython",
    "version": 3
   },
   "file_extension": ".py",
   "mimetype": "text/x-python",
   "name": "python",
   "nbconvert_exporter": "python",
   "pygments_lexer": "ipython3",
   "version": "3.9.12"
  }
 },
 "nbformat": 4,
 "nbformat_minor": 5
}
