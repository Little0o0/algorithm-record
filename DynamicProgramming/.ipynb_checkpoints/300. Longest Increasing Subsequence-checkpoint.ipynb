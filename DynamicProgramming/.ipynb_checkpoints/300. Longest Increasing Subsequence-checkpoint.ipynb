{
 "cells": [
  {
   "cell_type": "markdown",
   "id": "f2b4dca9",
   "metadata": {},
   "source": [
    "# 300. Longest Increasing Subsequence\n",
    "Given an integer array nums, return the length of the longest strictly increasing \n",
    "subsequence\n",
    "."
   ]
  },
  {
   "cell_type": "markdown",
   "id": "fcb9d60a",
   "metadata": {},
   "source": [
    "https://leetcode.com/problems/longest-increasing-subsequence/"
   ]
  },
  {
   "cell_type": "code",
   "execution_count": null,
   "id": "eeeb9108",
   "metadata": {},
   "outputs": [],
   "source": [
    "class Solution:\n",
    "    def lengthOfLIS(self, nums: List[int]) -> int:\n",
    "        # dp[i] the longest length with last num is nums[i]\n",
    "        # dp[i] = max(dp[j] + 1 if nums[j] < nums[i])\n",
    "        # dp[0] = 1\n",
    "\n",
    "        dp = [1] * len(nums)\n",
    "        for i in range(1, len(nums)):\n",
    "            for j in range(i):\n",
    "                if nums[j] < nums[i]:\n",
    "                    dp[i] = max(dp[i], 1+dp[j])\n",
    "        return max(dp)"
   ]
  }
 ],
 "metadata": {
  "kernelspec": {
   "display_name": "Python 3 (ipykernel)",
   "language": "python",
   "name": "python3"
  },
  "language_info": {
   "codemirror_mode": {
    "name": "ipython",
    "version": 3
   },
   "file_extension": ".py",
   "mimetype": "text/x-python",
   "name": "python",
   "nbconvert_exporter": "python",
   "pygments_lexer": "ipython3",
   "version": "3.9.12"
  }
 },
 "nbformat": 4,
 "nbformat_minor": 5
}
