{
 "cells": [
  {
   "cell_type": "markdown",
   "id": "c8a43c07",
   "metadata": {},
   "source": [
    "# 509. Fibonacci Number\n",
    "\n",
    "The Fibonacci numbers, commonly denoted F(n) form a sequence, called the Fibonacci sequence, such that each number is the sum of the two preceding ones, starting from 0 and 1. That is,\n",
    "```\n",
    "F(0) = 0, F(1) = 1\n",
    "F(n) = F(n - 1) + F(n - 2), for n > 1.\n",
    "```\n",
    "Given n, calculate F(n)."
   ]
  },
  {
   "cell_type": "markdown",
   "id": "507d131a",
   "metadata": {},
   "source": [
    "动态规划\n",
    "动规五部曲：\n",
    "\n",
    "这里我们要用一个一维dp数组来保存递归的结果\n",
    "\n",
    "1. 确定dp数组以及下标的含义\n",
    "\n",
    "dp[i]的定义为：第i个数的斐波那契数值是dp[i]\n",
    "\n",
    "2. 确定递推公式\n",
    "\n",
    "状态转移方程 dp[i] = dp[i - 1] + dp[i - 2];\n",
    "\n",
    "3. dp数组如何初始化\n",
    "\n",
    "题目中把如何初始化也直接给我们了，如下：\n",
    "```\n",
    "dp[0] = 0;\n",
    "dp[1] = 1;\n",
    "```\n",
    "4. 确定遍历顺序\n",
    "\n",
    "从递归公式dp[i] = dp[i - 1] + dp[i - 2];中可以看出，dp[i]是依赖 dp[i - 1] 和 dp[i - 2]，那么遍历的顺序一定是从前到后遍历的\n",
    "\n",
    "5. 例推导dp数组\n",
    "\n",
    "按照这个递推公式dp[i] = dp[i - 1] + dp[i - 2]，我们来推导一下，当N为10的时候，dp数组应该是如下的数列：\n",
    "\n",
    "0 1 1 2 3 5 8 13 21 34 55\n",
    "\n",
    "如果代码写出来，发现结果不对，就把dp数组打印出来看看和我们推导的数列是不是一致的。"
   ]
  },
  {
   "cell_type": "code",
   "execution_count": null,
   "id": "bee0ed8e",
   "metadata": {},
   "outputs": [],
   "source": [
    "class Solution:\n",
    "    def fib(self, n: int) -> int:\n",
    "        if n == 0:\n",
    "            return 0\n",
    "        if n == 1:\n",
    "            return 1\n",
    "        \n",
    "        prev_prev = 0\n",
    "        prev = 1\n",
    "        for i in range(1, n):\n",
    "            val = prev + prev_prev\n",
    "            prev_prev = prev\n",
    "            prev = val\n",
    "        return prev\n",
    "            "
   ]
  }
 ],
 "metadata": {
  "kernelspec": {
   "display_name": "Python 3 (ipykernel)",
   "language": "python",
   "name": "python3"
  },
  "language_info": {
   "codemirror_mode": {
    "name": "ipython",
    "version": 3
   },
   "file_extension": ".py",
   "mimetype": "text/x-python",
   "name": "python",
   "nbconvert_exporter": "python",
   "pygments_lexer": "ipython3",
   "version": "3.9.12"
  }
 },
 "nbformat": 4,
 "nbformat_minor": 5
}
