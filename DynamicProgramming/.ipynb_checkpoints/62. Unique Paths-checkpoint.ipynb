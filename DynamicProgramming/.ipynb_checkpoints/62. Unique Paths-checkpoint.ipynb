{
 "cells": [
  {
   "cell_type": "markdown",
   "id": "967d3e62",
   "metadata": {},
   "source": [
    "# 62. Unique Paths\n",
    "\n",
    "There is a robot on an m x n grid. The robot is initially located at the top-left corner (i.e., grid[0][0]). The robot tries to move to the bottom-right corner (i.e., grid[m - 1][n - 1]). The robot can only move either down or right at any point in time.\n",
    "\n",
    "Given the two integers m and n, return the number of possible unique paths that the robot can take to reach the bottom-right corner.\n",
    "\n",
    "The test cases are generated so that the answer will be less than or equal to 2 * 109."
   ]
  },
  {
   "cell_type": "markdown",
   "id": "6af54af2",
   "metadata": {},
   "source": [
    "1. 确定dp下标意义\n",
    "```\n",
    "dp[i][j] 代表到达i，j 的 the number of possible unique path\n",
    "```\n",
    "\n",
    "2. 确认转移方程\n",
    "```\n",
    "dp[i][j] = dp[i-1][j] + dp[i][j-1]\n",
    "```\n",
    "\n",
    "3. 确认初始化参数\n",
    "```\n",
    "dp[0][0] = 1\n",
    "for (int i = 0; i < m; i++) dp[i][0] = 1;\n",
    "for (int j = 0; j < n; j++) dp[0][j] = 1;\n",
    "```\n",
    "\n",
    "4. 确定遍历顺序\n",
    "```\n",
    "从左到右 从上到下\n",
    "```\n",
    "\n",
    "5. 确定示例\n",
    "```\n",
    "1 1 1 1\n",
    "1 2 3 4\n",
    "1 3 6 10\n",
    "```"
   ]
  },
  {
   "cell_type": "code",
   "execution_count": null,
   "id": "3a5e2912",
   "metadata": {},
   "outputs": [],
   "source": [
    "class Solution:\n",
    "    def uniquePaths(self, m: int, n: int) -> int:\n",
    "        dp = [[0]*n for _ in range(m)]\n",
    "        if m + n - 2 == 0:\n",
    "            return 1\n",
    "        \n",
    "        for i in range(m):\n",
    "            dp[i][0] = 1\n",
    "        \n",
    "        for j in range(n):\n",
    "            dp[0][j] = 1\n",
    "\n",
    "        for i in range(1, m):\n",
    "            for j in range(1, n):\n",
    "                dp[i][j] = dp[i-1][j] + dp[i][j-1] \n",
    "                \n",
    "        return dp[m-1][n-1]"
   ]
  },
  {
   "cell_type": "code",
   "execution_count": 1,
   "id": "5b5d0e82",
   "metadata": {},
   "outputs": [
    {
     "ename": "SyntaxError",
     "evalue": "invalid syntax (646144952.py, line 3)",
     "output_type": "error",
     "traceback": [
      "\u001b[1;36m  Input \u001b[1;32mIn [1]\u001b[1;36m\u001b[0m\n\u001b[1;33m    class Solution {\u001b[0m\n\u001b[1;37m                   ^\u001b[0m\n\u001b[1;31mSyntaxError\u001b[0m\u001b[1;31m:\u001b[0m invalid syntax\n"
     ]
    }
   ],
   "source": [
    "# 组合数 C(m-1)(m+n-2)\n",
    "\n",
    "class Solution {\n",
    "public:\n",
    "    int uniquePaths(int m, int n) {\n",
    "        long long numerator = 1; // 分子\n",
    "        int denominator = m - 1; // 分母\n",
    "        int count = m - 1;\n",
    "        int t = m + n - 2;\n",
    "        while (count--) {\n",
    "            numerator *= (t--);\n",
    "            while (denominator != 0 && numerator % denominator == 0) {\n",
    "                numerator /= denominator;\n",
    "                denominator--;\n",
    "            }\n",
    "        }\n",
    "        return numerator;\n",
    "    }\n",
    "};"
   ]
  },
  {
   "cell_type": "code",
   "execution_count": null,
   "id": "f6a4eda7",
   "metadata": {},
   "outputs": [],
   "source": []
  }
 ],
 "metadata": {
  "kernelspec": {
   "display_name": "Python 3 (ipykernel)",
   "language": "python",
   "name": "python3"
  },
  "language_info": {
   "codemirror_mode": {
    "name": "ipython",
    "version": 3
   },
   "file_extension": ".py",
   "mimetype": "text/x-python",
   "name": "python",
   "nbconvert_exporter": "python",
   "pygments_lexer": "ipython3",
   "version": "3.9.12"
  }
 },
 "nbformat": 4,
 "nbformat_minor": 5
}
