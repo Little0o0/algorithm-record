{
 "cells": [
  {
   "cell_type": "markdown",
   "id": "728b5c44",
   "metadata": {},
   "source": [
    "# 70. Climbing Stairs\n",
    "\n",
    "You are climbing a staircase. It takes n steps to reach the top.\n",
    "\n",
    "Each time you can either climb 1 or 2 steps. In how many distinct ways can you climb to the top?\n",
    "\n",
    "```\n",
    "Input: n = 2\n",
    "Output: 2\n",
    "Explanation: There are two ways to climb to the top.\n",
    "1. 1 step + 1 step\n",
    "2. 2 steps\n",
    "```"
   ]
  },
  {
   "cell_type": "markdown",
   "id": "7829ed07",
   "metadata": {},
   "source": [
    "1. 确定dp数组以及下标的含义\n",
    "\n",
    "dp[i]的定义为：爬上i级台阶有dp[i]种方法\n",
    "\n",
    "2. 确定递推公式\n",
    "\n",
    "dp[i] = dp[i-1] + dp[i-2]\n",
    "\n",
    "3. dp数组如何初始化\n",
    "\n",
    "dp[1] = 1\n",
    "dp[2] = 2\n",
    "\n",
    "4. 确定遍历顺序\n",
    "\n",
    "从递归公式dp[i] = dp[i - 1] + dp[i - 2];中可以看出，dp[i]是依赖 dp[i - 1] 和 dp[i - 2]，那么遍历的顺序一定是从前到后遍历的\n",
    "\n",
    "5. 举例推导dp数组\n",
    "\n",
    "N为5的时候, 1, 2, 3, 5, 8\n"
   ]
  },
  {
   "cell_type": "code",
   "execution_count": null,
   "id": "87ac375a",
   "metadata": {},
   "outputs": [],
   "source": [
    "class Solution:\n",
    "    def climbStairs(self, n: int) -> int:\n",
    "        if n == 1:\n",
    "            return 1\n",
    "        if n == 2:\n",
    "            return 2\n",
    "        \n",
    "        prev_prev = 1\n",
    "        prev = 2\n",
    "        for i in range(3, n+1):\n",
    "            val = prev + prev_prev\n",
    "            prev, prev_prev = val, prev\n",
    "        return val"
   ]
  }
 ],
 "metadata": {
  "kernelspec": {
   "display_name": "Python 3 (ipykernel)",
   "language": "python",
   "name": "python3"
  },
  "language_info": {
   "codemirror_mode": {
    "name": "ipython",
    "version": 3
   },
   "file_extension": ".py",
   "mimetype": "text/x-python",
   "name": "python",
   "nbconvert_exporter": "python",
   "pygments_lexer": "ipython3",
   "version": "3.9.12"
  }
 },
 "nbformat": 4,
 "nbformat_minor": 5
}
