{
 "cells": [
  {
   "cell_type": "markdown",
   "id": "d59e4da8",
   "metadata": {},
   "source": [
    "# 718. Maximum Length of Repeated Subarray\n",
    "Given two integer arrays nums1 and nums2, return the maximum length of a subarray that appears in both arrays.\n",
    "https://leetcode.com/problems/maximum-length-of-repeated-subarray/"
   ]
  },
  {
   "cell_type": "code",
   "execution_count": null,
   "id": "89a23375",
   "metadata": {},
   "outputs": [],
   "source": []
  },
  {
   "cell_type": "markdown",
   "id": "15e237ea",
   "metadata": {},
   "source": [
    "注意题目中说的子数组，其实就是连续子序列。\n",
    "\n",
    "要求两个数组中最长重复子数组，如果是暴力的解法 只需要先两层for循环确定两个数组起始位置，然后再来一个循环可以是for或者while，来从两个起始位置开始比较，取得重复子数组的长度。\n",
    "\n",
    "本题其实是动规解决的经典题目，我们只要想到 用二维数组可以记录两个字符串的所有比较情况，这样就比较好推 递推公式了。 动规五部曲分析如下：\n",
    "\n",
    "确定dp数组（dp table）以及下标的含义\n",
    "dp[i][j] ：以下标i - 1为结尾的A，和以下标j - 1为结尾的B，最长重复子数组长度为dp[i][j]。 （特别注意： “以下标i - 1为结尾的A” 标明一定是 以A[i-1]为结尾的字符串 ）\n",
    "\n",
    "此时细心的同学应该发现，那dp[0][0]是什么含义呢？总不能是以下标-1为结尾的A数组吧。\n",
    "\n",
    "其实dp[i][j]的定义也就决定着，我们在遍历dp[i][j]的时候i 和 j都要从1开始。\n",
    "\n",
    "那有同学问了，我就定义dp[i][j]为 以下标i为结尾的A，和以下标j 为结尾的B，最长重复子数组长度。不行么？\n",
    "\n",
    "行倒是行！ 但实现起来就麻烦一点，需要单独处理初始化部分，在本题解下面的拓展内容里，我给出了 第二种 dp数组的定义方式所对应的代码和讲解，大家比较一下就了解了。\n",
    "\n",
    "确定递推公式\n",
    "根据dp[i][j]的定义，dp[i][j]的状态只能由dp[i - 1][j - 1]推导出来。\n",
    "\n",
    "即当A[i - 1] 和B[j - 1]相等的时候，dp[i][j] = dp[i - 1][j - 1] + 1;\n",
    "\n",
    "根据递推公式可以看出，遍历i 和 j 要从1开始！\n",
    "\n",
    "dp数组如何初始化\n",
    "根据dp[i][j]的定义，dp[i][0] 和dp[0][j]其实都是没有意义的！\n",
    "\n",
    "但dp[i][0] 和dp[0][j]要初始值，因为 为了方便递归公式dp[i][j] = dp[i - 1][j - 1] + 1;\n",
    "\n",
    "所以dp[i][0] 和dp[0][j]初始化为0。\n",
    "\n",
    "举个例子A[0]如果和B[0]相同的话，dp[1][1] = dp[0][0] + 1，只有dp[0][0]初始为0，正好符合递推公式逐步累加起来。\n",
    "\n",
    "确定遍历顺序\n",
    "外层for循环遍历A，内层for循环遍历B。\n",
    "\n",
    "那又有同学问了，外层for循环遍历B，内层for循环遍历A。不行么？\n",
    "\n",
    "也行，一样的，我这里就用外层for循环遍历A，内层for循环遍历B了。\n",
    "\n",
    "同时题目要求长度最长的子数组的长度。所以在遍历的时候顺便把dp[i][j]的最大值记录下来。"
   ]
  },
  {
   "cell_type": "code",
   "execution_count": null,
   "id": "d1d6aa2a",
   "metadata": {},
   "outputs": [],
   "source": [
    "class Solution:\n",
    "    def findLength(self, A: List[int], B: List[int]) -> int:\n",
    "        dp = [[0] * (len(B)+1) for _ in range(len(A)+1)]\n",
    "        result = 0\n",
    "        for i in range(1, len(A)+1):\n",
    "            for j in range(1, len(B)+1):\n",
    "                if A[i-1] == B[j-1]:\n",
    "                    dp[i][j] = dp[i-1][j-1] + 1\n",
    "                result = max(result, dp[i][j])\n",
    "        return result"
   ]
  }
 ],
 "metadata": {
  "kernelspec": {
   "display_name": "Python 3 (ipykernel)",
   "language": "python",
   "name": "python3"
  },
  "language_info": {
   "codemirror_mode": {
    "name": "ipython",
    "version": 3
   },
   "file_extension": ".py",
   "mimetype": "text/x-python",
   "name": "python",
   "nbconvert_exporter": "python",
   "pygments_lexer": "ipython3",
   "version": "3.9.12"
  }
 },
 "nbformat": 4,
 "nbformat_minor": 5
}
