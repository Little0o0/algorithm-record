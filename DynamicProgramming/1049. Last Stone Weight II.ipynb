{
 "cells": [
  {
   "cell_type": "markdown",
   "id": "51bc597a",
   "metadata": {},
   "source": [
    "# 1049. Last Stone Weight II\n",
    "\n",
    "https://leetcode.com/problems/last-stone-weight-ii/"
   ]
  },
  {
   "cell_type": "code",
   "execution_count": null,
   "id": "a169afbd",
   "metadata": {},
   "outputs": [],
   "source": [
    "class Solution:\n",
    "    def lastStoneWeightII(self, stones: List[int]) -> int:\n",
    "        # dp[i], if there is a bag with i volume, it can contain dp[i] wei\n",
    "        # result min(dp[sum_ - i] - dp[i], ... )\n",
    "        # dp[0] = 0\n",
    "        # dp[i] = max(dp[i - stones[j]] + stones[j])\n",
    "        sum_ = sum(stones)\n",
    "        dp = [0] * (sum_ // 2 + 1)\n",
    "        for stone in stones:\n",
    "            for i in range(len(dp)-1, stone - 1, -1):\n",
    "                dp[i] = max(dp[i], dp[i - stone] + stone)\n",
    "        return abs(2 * dp[-1] - sum_)"
   ]
  }
 ],
 "metadata": {
  "kernelspec": {
   "display_name": "Python 3 (ipykernel)",
   "language": "python",
   "name": "python3"
  },
  "language_info": {
   "codemirror_mode": {
    "name": "ipython",
    "version": 3
   },
   "file_extension": ".py",
   "mimetype": "text/x-python",
   "name": "python",
   "nbconvert_exporter": "python",
   "pygments_lexer": "ipython3",
   "version": "3.9.12"
  }
 },
 "nbformat": 4,
 "nbformat_minor": 5
}
