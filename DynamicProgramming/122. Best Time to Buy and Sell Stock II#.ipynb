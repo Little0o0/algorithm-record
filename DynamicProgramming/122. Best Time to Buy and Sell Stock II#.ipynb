{
 "cells": [
  {
   "cell_type": "markdown",
   "id": "20da3aee",
   "metadata": {},
   "source": [
    "# 122. Best Time to Buy and Sell Stock II\n",
    "You are given an integer array prices where prices[i] is the price of a given stock on the ith day.\n",
    "\n",
    "On each day, you may decide to buy and/or sell the stock. You can only hold at most one share of the stock at any time. However, you can buy it then immediately sell it on the same day.\n",
    "\n",
    "Find and return the maximum profit you can achieve."
   ]
  },
  {
   "cell_type": "markdown",
   "id": "41b65a85",
   "metadata": {},
   "source": [
    "https://leetcode.com/problems/best-time-to-buy-and-sell-stock-ii/"
   ]
  },
  {
   "cell_type": "code",
   "execution_count": null,
   "id": "25f26941",
   "metadata": {},
   "outputs": [],
   "source": [
    "class Solution:\n",
    "    def maxProfit(self, prices: List[int]) -> int:\n",
    "        # dp[i][0] if we hold the stock, the cash\n",
    "        # dp[i][1] if we do not have the stock, the cash\n",
    "        # dp[i][0] = max(dp[i-1][1]-prices[i], dp[i-1][0])\n",
    "        # dp[i][1] = max(dp[i-1][0] + prices[i], dp[i-1][1])\n",
    "        # dp[0][0] , dp[0][1] = -prices[0], 0\n",
    "\n",
    "        dp = [[0,0] for _ in range(len(prices))]\n",
    "        dp[0][0] , dp[0][1] = -prices[0], 0\n",
    "        for i in range(1, len(prices)):\n",
    "            dp[i][0] = max(dp[i-1][1]-prices[i], dp[i-1][0])\n",
    "            dp[i][1] = max(dp[i-1][0] + prices[i], dp[i-1][1])\n",
    "        return max(dp[-1])"
   ]
  }
 ],
 "metadata": {
  "kernelspec": {
   "display_name": "Python 3 (ipykernel)",
   "language": "python",
   "name": "python3"
  },
  "language_info": {
   "codemirror_mode": {
    "name": "ipython",
    "version": 3
   },
   "file_extension": ".py",
   "mimetype": "text/x-python",
   "name": "python",
   "nbconvert_exporter": "python",
   "pygments_lexer": "ipython3",
   "version": "3.9.12"
  }
 },
 "nbformat": 4,
 "nbformat_minor": 5
}
