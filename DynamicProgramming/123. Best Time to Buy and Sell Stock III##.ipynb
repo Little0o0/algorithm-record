{
 "cells": [
  {
   "cell_type": "markdown",
   "id": "925cca6b",
   "metadata": {},
   "source": [
    "# 123. Best Time to Buy and Sell Stock III\n",
    "\n",
    "You are given an array prices where prices[i] is the price of a given stock on the ith day.\n",
    "\n",
    "Find the maximum profit you can achieve. You may complete at most two transactions.\n",
    "\n",
    "Note: You may not engage in multiple transactions simultaneously (i.e., you must sell the stock before you buy again).\n",
    "\n",
    "https://leetcode.com/problems/best-time-to-buy-and-sell-stock-iii/"
   ]
  },
  {
   "cell_type": "markdown",
   "id": "5fb5be41",
   "metadata": {},
   "source": [
    "确定dp数组以及下标的含义\n",
    "一天一共就有五个状态，\n",
    "\n",
    "1. 没有操作 （其实我们也可以不设置这个状态）\n",
    "2. 第一次持有股票\n",
    "3. 第一次不持有股票\n",
    "4. 第二次持有股票\n",
    "5. 第二次不持有股票\n",
    "dp[i][j]中 i表示第i天，j为 [0 - 4] 五个状态，dp[i][j]表示第i天状态j所剩最大现金。\n",
    "\n",
    "需要注意：dp[i][1]，表示的是第i天，买入股票的状态，并不是说一定要第i天买入股票，这是很多同学容易陷入的误区。\n",
    "\n",
    "例如 dp[i][1] ，并不是说 第i天一定买入股票，有可能 第 i-1天 就买入了，那么 dp[i][1] 延续买入股票的这个状态。\n",
    "\n",
    "确定递推公式\n",
    "达到dp[i][1]状态，有两个具体操作：\n",
    "\n",
    "操作一：第i天买入股票了，那么dp[i][1] = dp[i-1][0] - prices[i]\n",
    "操作二：第i天没有操作，而是沿用前一天买入的状态，即：dp[i][1] = dp[i - 1][1]\n",
    "那么dp[i][1]究竟选 dp[i-1][0] - prices[i]，还是dp[i - 1][1]呢？\n",
    "\n",
    "一定是选最大的，所以 dp[i][1] = max(dp[i-1][0] - prices[i], dp[i - 1][1]);\n",
    "\n",
    "同理dp[i][2]也有两个操作：\n",
    "\n",
    "操作一：第i天卖出股票了，那么dp[i][2] = dp[i - 1][1] + prices[i]\n",
    "操作二：第i天没有操作，沿用前一天卖出股票的状态，即：dp[i][2] = dp[i - 1][2]\n",
    "所以dp[i][2] = max(dp[i - 1][1] + prices[i], dp[i - 1][2])\n",
    "\n",
    "同理可推出剩下状态部分：\n",
    "\n",
    "dp[i][3] = max(dp[i - 1][3], dp[i - 1][2] - prices[i]);\n",
    "\n",
    "dp[i][4] = max(dp[i - 1][4], dp[i - 1][3] + prices[i]);\n",
    "\n",
    "dp数组如何初始化\n",
    "第0天没有操作，这个最容易想到，就是0，即：dp[0][0] = 0;\n",
    "\n",
    "第0天做第一次买入的操作，dp[0][1] = -prices[0];\n",
    "\n",
    "第0天做第一次卖出的操作，这个初始值应该是多少呢？\n",
    "\n",
    "此时还没有买入，怎么就卖出呢？ 其实大家可以理解当天买入，当天卖出，所以dp[0][2] = 0;\n",
    "\n",
    "第0天第二次买入操作，初始值应该是多少呢？应该不少同学疑惑，第一次还没买入呢，怎么初始化第二次买入呢？\n",
    "\n",
    "第二次买入依赖于第一次卖出的状态，其实相当于第0天第一次买入了，第一次卖出了，然后再买入一次（第二次买入），那么现在手头上没有现金，只要买入，现金就做相应的减少。\n",
    "\n",
    "所以第二次买入操作，初始化为：dp[0][3] = -prices[0];\n",
    "\n",
    "同理第二次卖出初始化dp[0][4] = 0;\n",
    "\n",
    "确定遍历顺序\n",
    "从递归公式其实已经可以看出，一定是从前向后遍历，因为dp[i]，依靠dp[i - 1]的数值。"
   ]
  },
  {
   "cell_type": "code",
   "execution_count": null,
   "id": "55e1692b",
   "metadata": {},
   "outputs": [],
   "source": [
    "class Solution:\n",
    "    def maxProfit(self, prices: List[int]) -> int:\n",
    "        if len(prices) == 0:\n",
    "            return 0\n",
    "        dp = [[0] * 5 for _ in range(len(prices))]\n",
    "        dp[0][1] = -prices[0]\n",
    "        dp[0][3] = -prices[0]\n",
    "        for i in range(1, len(prices)):\n",
    "            dp[i][0] = dp[i-1][0]\n",
    "            dp[i][1] = max(dp[i-1][1], dp[i-1][0] - prices[i])\n",
    "            dp[i][2] = max(dp[i-1][2], dp[i-1][1] + prices[i])\n",
    "            dp[i][3] = max(dp[i-1][3], dp[i-1][2] - prices[i])\n",
    "            dp[i][4] = max(dp[i-1][4], dp[i-1][3] + prices[i])\n",
    "        return dp[-1][4]"
   ]
  }
 ],
 "metadata": {
  "kernelspec": {
   "display_name": "Python 3 (ipykernel)",
   "language": "python",
   "name": "python3"
  },
  "language_info": {
   "codemirror_mode": {
    "name": "ipython",
    "version": 3
   },
   "file_extension": ".py",
   "mimetype": "text/x-python",
   "name": "python",
   "nbconvert_exporter": "python",
   "pygments_lexer": "ipython3",
   "version": "3.9.12"
  }
 },
 "nbformat": 4,
 "nbformat_minor": 5
}
