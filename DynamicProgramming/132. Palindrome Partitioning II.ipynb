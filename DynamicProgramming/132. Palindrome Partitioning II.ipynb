{
 "cells": [
  {
   "cell_type": "markdown",
   "id": "839a212b",
   "metadata": {},
   "source": [
    "# 132. Palindrome Partitioning II\n",
    "Given a string s, partition s such that every \n",
    "substring of the partition is a  palindrome.\n",
    "\n",
    "Return the minimum cuts needed for a palindrome partitioning of s.\n",
    "\n"
   ]
  },
  {
   "cell_type": "code",
   "execution_count": null,
   "id": "f81d1b34",
   "metadata": {},
   "outputs": [],
   "source": [
    "class Solution:\n",
    "    def minCut(self, s: str) -> int:\n",
    "        if not s : return 0\n",
    "        \n",
    "        dp = [[True] * len(s) for i in range(len(s))]        # DP Matrix of booleans -> dp[i][j] - TRUE if 's[i: j + 1]' is palindrome, else FALSE\n",
    "        cuts = [float(\"inf\")] * len(s)                       # DP cuts array -> indicates min cuts require till ith entry\n",
    "        \n",
    "        # We first find all palindromic substrings\n",
    "        for r in range(1, len(s)):\n",
    "            for c in range(len(s) - r):\n",
    "                if not (s[c] == s[c + r] and dp[c + 1][c + r - 1]):\n",
    "                    dp[c][c + r] = False\n",
    "\n",
    "        # For ith column, we check every entry till diagonal element\n",
    "        # If dp[j][i] is true, implies 's[j: i + 1]'' is palindrome and\n",
    "        # we check if we get minimum cuts considering this substring or not  \n",
    "        for i in range(len(s)):\n",
    "            for j in range(i + 1):\n",
    "                if dp[j][i]:\n",
    "                    cuts[i] = min(cuts[i], (cuts[j - 1] + 1) if j - 1 >= 0 else 0)\n",
    "                    \n",
    "        return cuts[-1]"
   ]
  }
 ],
 "metadata": {
  "kernelspec": {
   "display_name": "Python 3 (ipykernel)",
   "language": "python",
   "name": "python3"
  },
  "language_info": {
   "codemirror_mode": {
    "name": "ipython",
    "version": 3
   },
   "file_extension": ".py",
   "mimetype": "text/x-python",
   "name": "python",
   "nbconvert_exporter": "python",
   "pygments_lexer": "ipython3",
   "version": "3.9.12"
  }
 },
 "nbformat": 4,
 "nbformat_minor": 5
}
