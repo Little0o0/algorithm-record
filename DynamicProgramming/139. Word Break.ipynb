{
 "cells": [
  {
   "cell_type": "markdown",
   "id": "d1e97e4e",
   "metadata": {},
   "source": [
    "# 139. Word Break\n"
   ]
  },
  {
   "cell_type": "markdown",
   "id": "526c2022",
   "metadata": {},
   "source": [
    "确定dp数组以及下标的含义\n",
    "dp[i] : 字符串长度为i的话，dp[i]为true，表示可以拆分为一个或多个在字典中出现的单词。\n",
    "\n",
    "确定递推公式\n",
    "如果确定dp[j] 是true，且 [j, i] 这个区间的子串出现在字典里，那么dp[i]一定是true。（j < i ）。\n",
    "\n",
    "所以递推公式是 if([j, i] 这个区间的子串出现在字典里 && dp[j]是true) 那么 dp[i] = true。\n",
    "\n",
    "dp数组如何初始化\n",
    "从递推公式中可以看出，dp[i] 的状态依靠 dp[j]是否为true，那么dp[0]就是递推的根基，dp[0]一定要为true，否则递推下去后面都都是false了。\n",
    "\n",
    "那么dp[0]有没有意义呢？\n",
    "\n",
    "dp[0]表示如果字符串为空的话，说明出现在字典里。\n",
    "\n",
    "但题目中说了“给定一个非空字符串 s” 所以测试数据中不会出现i为0的情况，那么dp[0]初始为true完全就是为了推导公式。\n",
    "\n",
    "下标非0的dp[i]初始化为false，只要没有被覆盖说明都是不可拆分为一个或多个在字典中出现的单词。\n",
    "确定遍历顺序\n",
    "\n",
    "题目中说是拆分为一个或多个在字典中出现的单词，所以这是完全背包。\n",
    "\n",
    "还要讨论两层for循环的前后顺序。\n",
    "\n",
    "如果求组合数就是外层for循环遍历物品，内层for遍历背包。\n",
    "\n",
    "如果求排列数就是外层for遍历背包，内层for循环遍历物品。"
   ]
  },
  {
   "cell_type": "code",
   "execution_count": null,
   "id": "3e2fd441",
   "metadata": {},
   "outputs": [],
   "source": [
    "class Solution:\n",
    "    def wordBreak(self, s: str, wordDict: List[str]) -> bool:\n",
    "        '''排列'''\n",
    "        dp = [False]*(len(s) + 1)\n",
    "        dp[0] = True\n",
    "        # 遍历背包\n",
    "        for j in range(1, len(s) + 1):\n",
    "            # 遍历单词\n",
    "            for word in wordDict:\n",
    "                if j >= len(word):\n",
    "                    dp[j] = dp[j] or (dp[j - len(word)] and word == s[j - len(word):j])\n",
    "        return dp[len(s)]"
   ]
  }
 ],
 "metadata": {
  "kernelspec": {
   "display_name": "Python 3 (ipykernel)",
   "language": "python",
   "name": "python3"
  },
  "language_info": {
   "codemirror_mode": {
    "name": "ipython",
    "version": 3
   },
   "file_extension": ".py",
   "mimetype": "text/x-python",
   "name": "python",
   "nbconvert_exporter": "python",
   "pygments_lexer": "ipython3",
   "version": "3.9.12"
  }
 },
 "nbformat": 4,
 "nbformat_minor": 5
}
