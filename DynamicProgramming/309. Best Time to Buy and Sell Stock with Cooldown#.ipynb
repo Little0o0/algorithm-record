{
 "cells": [
  {
   "cell_type": "markdown",
   "id": "be26edb4",
   "metadata": {},
   "source": [
    "# 309. Best Time to Buy and Sell Stock with Cooldown\n",
    "\n",
    "You are given an array prices where prices[i] is the price of a given stock on the ith day.\n",
    "\n",
    "Find the maximum profit you can achieve. You may complete as many transactions as you like (i.e., buy one and sell one share of the stock multiple times) with the following restrictions:\n",
    "\n",
    "After you sell your stock, you cannot buy stock on the next day (i.e., cooldown one day).\n",
    "Note: You may not engage in multiple transactions simultaneously (i.e., you must sell the stock before you buy again)."
   ]
  },
  {
   "cell_type": "raw",
   "id": "74085b56",
   "metadata": {},
   "source": [
    "确定递推公式\n",
    "达到买入股票状态（状态一）即：dp[i][0]，有两个具体操作：\n",
    "\n",
    "操作一：前一天就是持有股票状态（状态一），dp[i][0] = dp[i - 1][0]\n",
    "操作二：今天买入了，有两种情况\n",
    "前一天是冷冻期（状态四），dp[i - 1][3] - prices[i]\n",
    "前一天是保持卖出股票的状态（状态二），dp[i - 1][1] - prices[i]\n",
    "那么dp[i][0] = max(dp[i - 1][0], dp[i - 1][3] - prices[i], dp[i - 1][1] - prices[i]);\n",
    "\n",
    "达到保持卖出股票状态（状态二）即：dp[i][1]，有两个具体操作：\n",
    "\n",
    "操作一：前一天就是状态二\n",
    "操作二：前一天是冷冻期（状态四）\n",
    "dp[i][1] = max(dp[i - 1][1], dp[i - 1][3]);\n",
    "\n",
    "达到今天就卖出股票状态（状态三），即：dp[i][2] ，只有一个操作：\n",
    "\n",
    "昨天一定是持有股票状态（状态一），今天卖出\n",
    "\n",
    "即：dp[i][2] = dp[i - 1][0] + prices[i];\n",
    "\n",
    "达到冷冻期状态（状态四），即：dp[i][3]，只有一个操作：\n",
    "\n",
    "昨天卖出了股票（状态三）\n",
    "\n",
    "dp[i][3] = dp[i - 1][2];\n",
    "\n",
    "综上分析，递推代码如下：\n",
    "```\n",
    "dp[i][0] = max(dp[i - 1][0], max(dp[i - 1][3], dp[i - 1][1]) - prices[i]);\n",
    "dp[i][1] = max(dp[i - 1][1], dp[i - 1][3]);\n",
    "dp[i][2] = dp[i - 1][0] + prices[i];\n",
    "dp[i][3] = dp[i - 1][2];\n",
    "```\n",
    "dp数组如何初始化\n",
    "\n",
    "这里主要讨论一下第0天如何初始化。\n",
    "\n",
    "如果是持有股票状态（状态一）那么：dp[0][0] = -prices[0]，一定是当天买入股票。\n",
    "\n",
    "保持卖出股票状态（状态二），这里其实从 「状态二」的定义来说 ，很难明确应该初始多少，这种情况我们就看递推公式需要我们给他初始成什么数值。\n",
    "\n",
    "如果i为1，第1天买入股票，那么递归公式中需要计算 dp[i - 1][1] - prices[i] ，即 dp[0][1] - prices[1]，那么大家感受一下 dp[0][1] （即第0天的状态二）应该初始成多少，只能初始为0。想一想如果初始为其他数值，是我们第1天买入股票后 手里还剩的现金数量是不是就不对了。\n",
    "\n",
    "今天卖出了股票（状态三），同上分析，dp[0][2]初始化为0，dp[0][3]也初始为0。"
   ]
  },
  {
   "cell_type": "code",
   "execution_count": null,
   "id": "cffd30fb",
   "metadata": {},
   "outputs": [],
   "source": [
    "class Solution:\n",
    "    def maxProfit(self, prices: List[int]) -> int:\n",
    "        n = len(prices)\n",
    "        if n == 0:\n",
    "            return 0\n",
    "        dp = [[0] * 4 for _ in range(n)]\n",
    "        dp[0][0] = -prices[0] #持股票\n",
    "        for i in range(1, n):\n",
    "            dp[i][0] = max(dp[i-1][0], max(dp[i-1][3], dp[i-1][1]) - prices[i])\n",
    "            dp[i][1] = max(dp[i-1][1], dp[i-1][3])\n",
    "            dp[i][2] = dp[i-1][0] + prices[i]\n",
    "            dp[i][3] = dp[i-1][2]\n",
    "        return max(dp[n-1][3], dp[n-1][1], dp[n-1][2])"
   ]
  }
 ],
 "metadata": {
  "kernelspec": {
   "display_name": "Python 3 (ipykernel)",
   "language": "python",
   "name": "python3"
  },
  "language_info": {
   "codemirror_mode": {
    "name": "ipython",
    "version": 3
   },
   "file_extension": ".py",
   "mimetype": "text/x-python",
   "name": "python",
   "nbconvert_exporter": "python",
   "pygments_lexer": "ipython3",
   "version": "3.9.12"
  }
 },
 "nbformat": 4,
 "nbformat_minor": 5
}
