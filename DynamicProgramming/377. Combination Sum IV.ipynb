{
 "cells": [
  {
   "cell_type": "markdown",
   "id": "087a07c7",
   "metadata": {},
   "source": [
    "# 377. Combination Sum IV\n",
    "\n",
    "Given an array of distinct integers nums and a target integer target, return the number of possible combinations that add up to target.\n",
    "\n",
    "The test cases are generated so that the answer can fit in a 32-bit integer.\n",
    "\n",
    "Note that different sequences are counted as different combinations."
   ]
  },
  {
   "cell_type": "markdown",
   "id": "3cd97c28",
   "metadata": {},
   "source": [
    "确定dp数组以及下标的含义\n",
    "dp[i]: 凑成目标正整数为i的排列个数为dp[i]\n",
    "\n",
    "确定递推公式\n",
    "dp[i]（考虑nums[j]）可以由 dp[i - nums[j]]（不考虑nums[j]） 推导出来。\n",
    "\n",
    "因为只要得到nums[j]，排列个数dp[i - nums[j]]，就是dp[i]的一部分。\n",
    "\n",
    "在动态规划：494.目标和 和 动态规划：518.零钱兑换II中我们已经讲过了，求装满背包有几种方法，递推公式一般都是dp[i] += dp[i - nums[j]];"
   ]
  },
  {
   "cell_type": "code",
   "execution_count": null,
   "id": "80071438",
   "metadata": {},
   "outputs": [],
   "source": [
    "class Solution:\n",
    "    def combinationSum4(self, nums, target):\n",
    "        dp = [0] * (target + 1)\n",
    "        dp[0] = 1\n",
    "\n",
    "        for i in range(1, target+1):\n",
    "            for j in nums:\n",
    "                if i >= j:\n",
    "                    dp[i] += dp[i - j]\n",
    "\n",
    "        return dp[-1]"
   ]
  },
  {
   "cell_type": "code",
   "execution_count": null,
   "id": "5dbac0e1",
   "metadata": {},
   "outputs": [],
   "source": []
  },
  {
   "cell_type": "code",
   "execution_count": null,
   "id": "1726ff78",
   "metadata": {},
   "outputs": [],
   "source": []
  }
 ],
 "metadata": {
  "kernelspec": {
   "display_name": "Python 3 (ipykernel)",
   "language": "python",
   "name": "python3"
  },
  "language_info": {
   "codemirror_mode": {
    "name": "ipython",
    "version": 3
   },
   "file_extension": ".py",
   "mimetype": "text/x-python",
   "name": "python",
   "nbconvert_exporter": "python",
   "pygments_lexer": "ipython3",
   "version": "3.9.12"
  }
 },
 "nbformat": 4,
 "nbformat_minor": 5
}
