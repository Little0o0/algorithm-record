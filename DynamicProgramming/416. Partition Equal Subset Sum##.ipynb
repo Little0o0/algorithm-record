{
 "cells": [
  {
   "cell_type": "markdown",
   "id": "12d52ce8",
   "metadata": {},
   "source": [
    "# 416. Partition Equal Subset Sum\n",
    "Given an integer array nums, return true if you can partition the array into two subsets such that the sum of the elements in both subsets is equal or false otherwise.\n"
   ]
  },
  {
   "cell_type": "code",
   "execution_count": null,
   "id": "be9f0416",
   "metadata": {},
   "outputs": [],
   "source": [
    "class Solution:\n",
    "    def canPartition(self, nums: List[int]) -> bool:\n",
    "        target = sum(nums)\n",
    "        if target % 2 == 1: return False\n",
    "        target //= 2\n",
    "        dp = [0] * 10001\n",
    "        for i in range(len(nums)): # iterate item first\n",
    "            for j in range(target, nums[i] - 1, -1): #then iterate bag, from back order\n",
    "                dp[j] = max(dp[j], dp[j - nums[i]] + nums[i])\n",
    "        return target == dp[target]"
   ]
  }
 ],
 "metadata": {
  "kernelspec": {
   "display_name": "Python 3 (ipykernel)",
   "language": "python",
   "name": "python3"
  },
  "language_info": {
   "codemirror_mode": {
    "name": "ipython",
    "version": 3
   },
   "file_extension": ".py",
   "mimetype": "text/x-python",
   "name": "python",
   "nbconvert_exporter": "python",
   "pygments_lexer": "ipython3",
   "version": "3.9.12"
  }
 },
 "nbformat": 4,
 "nbformat_minor": 5
}
