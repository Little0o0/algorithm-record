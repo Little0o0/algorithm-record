{
 "cells": [
  {
   "cell_type": "markdown",
   "id": "491f48d5",
   "metadata": {},
   "source": [
    "# 474. Ones and Zeroes\n",
    "You are given an array of binary strings strs and two integers m and n.\n",
    "\n",
    "Return the size of the largest subset of strs such that there are at most m 0's and n 1's in the subset.\n",
    "\n",
    "A set x is a subset of a set y if all elements of x are also elements of y.\n",
    "\n",
    "https://leetcode.com/problems/ones-and-zeroes/"
   ]
  },
  {
   "cell_type": "markdown",
   "id": "cf7fe3f9",
   "metadata": {},
   "source": [
    "确定dp数组（dp table）以及下标的含义\n",
    "dp[i][j]：最多有i个0和j个1的strs的最大子集的大小为dp[i][j]。\n",
    "\n",
    "确定递推公式\n",
    "dp[i][j] 可以由前一个strs里的字符串推导出来，strs里的字符串有zeroNum个0，oneNum个1。\n",
    "\n",
    "dp[i][j] 就可以是 dp[i - zeroNum][j - oneNum] + 1。\n",
    "\n",
    "然后我们在遍历的过程中，取dp[i][j]的最大值。\n",
    "\n",
    "所以递推公式：dp[i][j] = max(dp[i][j], dp[i - zeroNum][j - oneNum] + 1);\n",
    "\n",
    "此时大家可以回想一下01背包的递推公式：dp[j] = max(dp[j], dp[j - weight[i]] + value[i]);\n",
    "\n",
    "对比一下就会发现，字符串的zeroNum和oneNum相当于物品的重量（weight[i]），字符串本身的个数相当于物品的价值（value[i]）。\n",
    "\n",
    "这就是一个典型的01背包！ 只不过物品的重量有了两个维度而已。"
   ]
  },
  {
   "cell_type": "code",
   "execution_count": null,
   "id": "bca94ca1",
   "metadata": {},
   "outputs": [],
   "source": []
  },
  {
   "cell_type": "code",
   "execution_count": null,
   "id": "764c9291",
   "metadata": {},
   "outputs": [],
   "source": [
    "class Solution:\n",
    "    def findMaxForm(self, strs: List[str], m: int, n: int) -> int:\n",
    "        dp = [[0] * (n + 1) for _ in range(m + 1)]\t# 默认初始化0\n",
    "        # 遍历物品\n",
    "        for str in strs:\n",
    "            ones = str.count('1')\n",
    "            zeros = str.count('0')\n",
    "            # 遍历背包容量且从后向前遍历！\n",
    "            for i in range(m, zeros - 1, -1):\n",
    "                for j in range(n, ones - 1, -1):\n",
    "                    dp[i][j] = max(dp[i][j], dp[i - zeros][j - ones] + 1)\n",
    "        return dp[m][n]"
   ]
  }
 ],
 "metadata": {
  "kernelspec": {
   "display_name": "Python 3 (ipykernel)",
   "language": "python",
   "name": "python3"
  },
  "language_info": {
   "codemirror_mode": {
    "name": "ipython",
    "version": 3
   },
   "file_extension": ".py",
   "mimetype": "text/x-python",
   "name": "python",
   "nbconvert_exporter": "python",
   "pygments_lexer": "ipython3",
   "version": "3.9.12"
  }
 },
 "nbformat": 4,
 "nbformat_minor": 5
}
