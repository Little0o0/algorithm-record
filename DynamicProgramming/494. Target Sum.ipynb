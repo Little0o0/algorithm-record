{
 "cells": [
  {
   "cell_type": "markdown",
   "id": "f9b1fe84",
   "metadata": {},
   "source": [
    "# 494. Target Sum\n",
    "You are given an integer array nums and an integer target.\n",
    "\n",
    "You want to build an expression out of nums by adding one of the symbols '+' and '-' before each integer in nums and then concatenate all the integers.\n",
    "\n",
    "For example, if nums = [2, 1], you can add a '+' before 2 and a '-' before 1 and concatenate them to build the expression \"+2-1\".\n",
    "Return the number of different expressions that you can build, which evaluates to target.\n",
    "\n",
    "https://leetcode.com/problems/target-sum/\n",
    " "
   ]
  },
  {
   "cell_type": "code",
   "execution_count": null,
   "id": "a42b150f",
   "metadata": {},
   "outputs": [],
   "source": [
    "class Solution:\n",
    "    def findTargetSumWays(self, nums: List[int], target: int) -> int:\n",
    "        self.output = 0\n",
    "        def backtracking(index, current):\n",
    "            if index == len(nums) - 1:\n",
    "                if current - nums[index] == target:\n",
    "                    self.output += 1\n",
    "                if current + nums[index] == target: \n",
    "                    self.output += 1\n",
    "                return\n",
    "            backtracking(index + 1, current - nums[index])\n",
    "            backtracking(index + 1, current + nums[index])\n",
    "\n",
    "        backtracking(0, 0)\n",
    "        return self.output"
   ]
  },
  {
   "cell_type": "markdown",
   "id": "39503952",
   "metadata": {},
   "source": [
    "假设加法的总和为x，那么减法对应的总和就是sum - x。\n",
    "\n",
    "所以我们要求的是 x - (sum - x) = target\n",
    "\n",
    "x = (target + sum) / 2\n",
    "\n",
    "此时问题就转化为，装满容量为x的背包，有几种方法。\n",
    "\n",
    "这里的x，就是bagSize，也就是我们后面要求的背包容量。\n",
    "\n",
    "大家看到(target + sum) / 2 应该担心计算的过程中向下取整有没有影响。\n",
    "\n",
    "这么担心就对了，例如sum 是5，S是2的话其实就是无解的，所以：\n"
   ]
  },
  {
   "cell_type": "markdown",
   "id": "ed8bc955",
   "metadata": {},
   "source": [
    "\n",
    "所以求组合类问题的公式，都是类似这种：\n",
    "\n",
    "dp[j] += dp[j - nums[i]]"
   ]
  },
  {
   "cell_type": "markdown",
   "id": "8ee8cdc4",
   "metadata": {},
   "source": [
    "从递推公式可以看出，在初始化的时候dp[0] 一定要初始化为1，因为dp[0]是在公式中一切递推结果的起源，如果dp[0]是0的话，递推结果将都是0。"
   ]
  },
  {
   "cell_type": "code",
   "execution_count": 1,
   "id": "464332e5",
   "metadata": {},
   "outputs": [
    {
     "ename": "NameError",
     "evalue": "name 'List' is not defined",
     "output_type": "error",
     "traceback": [
      "\u001b[1;31m---------------------------------------------------------------------------\u001b[0m",
      "\u001b[1;31mNameError\u001b[0m                                 Traceback (most recent call last)",
      "Input \u001b[1;32mIn [1]\u001b[0m, in \u001b[0;36m<cell line: 1>\u001b[1;34m()\u001b[0m\n\u001b[1;32m----> 1\u001b[0m \u001b[38;5;28;01mclass\u001b[39;00m \u001b[38;5;21;01mSolution\u001b[39;00m:\n\u001b[0;32m      2\u001b[0m     \u001b[38;5;28;01mdef\u001b[39;00m \u001b[38;5;21mfindTargetSumWays\u001b[39m(\u001b[38;5;28mself\u001b[39m, nums: List[\u001b[38;5;28mint\u001b[39m], target: \u001b[38;5;28mint\u001b[39m) \u001b[38;5;241m-\u001b[39m\u001b[38;5;241m>\u001b[39m \u001b[38;5;28mint\u001b[39m:\n\u001b[0;32m      3\u001b[0m         sumValue \u001b[38;5;241m=\u001b[39m \u001b[38;5;28msum\u001b[39m(nums)\n",
      "Input \u001b[1;32mIn [1]\u001b[0m, in \u001b[0;36mSolution\u001b[1;34m()\u001b[0m\n\u001b[0;32m      1\u001b[0m \u001b[38;5;28;01mclass\u001b[39;00m \u001b[38;5;21;01mSolution\u001b[39;00m:\n\u001b[1;32m----> 2\u001b[0m     \u001b[38;5;28;01mdef\u001b[39;00m \u001b[38;5;21mfindTargetSumWays\u001b[39m(\u001b[38;5;28mself\u001b[39m, nums: \u001b[43mList\u001b[49m[\u001b[38;5;28mint\u001b[39m], target: \u001b[38;5;28mint\u001b[39m) \u001b[38;5;241m-\u001b[39m\u001b[38;5;241m>\u001b[39m \u001b[38;5;28mint\u001b[39m:\n\u001b[0;32m      3\u001b[0m         sumValue \u001b[38;5;241m=\u001b[39m \u001b[38;5;28msum\u001b[39m(nums)\n\u001b[0;32m      4\u001b[0m         \u001b[38;5;66;03m#注意边界条件为 target>sumValue or target<-sumValue or  (sumValue + target) % 2 == 1\u001b[39;00m\n",
      "\u001b[1;31mNameError\u001b[0m: name 'List' is not defined"
     ]
    }
   ],
   "source": [
    "class Solution:\n",
    "    def findTargetSumWays(self, nums: List[int], target: int) -> int:\n",
    "        sumValue = sum(nums)\n",
    "        #注意边界条件为 target>sumValue or target<-sumValue or  (sumValue + target) % 2 == 1\n",
    "        if abs(target) > sumValue or (sumValue + target) % 2 == 1: return 0\n",
    "        bagSize = (sumValue + target) // 2\n",
    "        dp = [0] * (bagSize + 1)\n",
    "        dp[0] = 1\n",
    "        for i in range(len(nums)):\n",
    "            for j in range(bagSize, nums[i] - 1, -1):\n",
    "                dp[j] += dp[j - nums[i]]\n",
    "        return dp[bagSize]"
   ]
  },
  {
   "cell_type": "code",
   "execution_count": null,
   "id": "fcaf8e25",
   "metadata": {},
   "outputs": [],
   "source": []
  }
 ],
 "metadata": {
  "kernelspec": {
   "display_name": "Python 3 (ipykernel)",
   "language": "python",
   "name": "python3"
  },
  "language_info": {
   "codemirror_mode": {
    "name": "ipython",
    "version": 3
   },
   "file_extension": ".py",
   "mimetype": "text/x-python",
   "name": "python",
   "nbconvert_exporter": "python",
   "pygments_lexer": "ipython3",
   "version": "3.9.12"
  }
 },
 "nbformat": 4,
 "nbformat_minor": 5
}
