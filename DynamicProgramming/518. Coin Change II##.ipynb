{
 "cells": [
  {
   "cell_type": "markdown",
   "id": "2b989ba7",
   "metadata": {},
   "source": [
    "# 518. Coin Change II\n",
    "\n",
    "You are given an integer array coins representing coins of different denominations and an integer amount representing a total amount of money.\n",
    "\n",
    "Return the number of combinations that make up that amount. If that amount of money cannot be made up by any combination of the coins, return 0.\n",
    "\n",
    "You may assume that you have an infinite number of each kind of coin.\n",
    "\n",
    "The answer is guaranteed to fit into a signed 32-bit integer."
   ]
  },
  {
   "cell_type": "markdown",
   "id": "4561bf79",
   "metadata": {},
   "source": [
    "确定遍历顺序\n",
    "本题中我们是外层for循环遍历物品（钱币），内层for遍历背包（金钱总额），还是外层for遍历背包（金钱总额），内层for循环遍历物品（钱币）呢？\n",
    "\n",
    "我在动态规划：关于完全背包，你该了解这些！ (opens new window)中讲解了完全背包的两个for循环的先后顺序都是可以的。\n",
    "\n",
    "但本题就不行了！\n",
    "\n",
    "因为纯完全背包求得装满背包的最大价值是多少，和凑成总和的元素有没有顺序没关系，即：有顺序也行，没有顺序也行！\n",
    "\n",
    "而本题要求凑成总和的组合数，元素之间明确要求没有顺序。\n",
    "\n",
    "所以纯完全背包是能凑成总和就行，不用管怎么凑的。\n",
    "\n",
    "如果求组合数就是外层for循环遍历物品，内层for遍历背包。\n",
    "\n",
    "如果求排列数就是外层for遍历背包，内层for循环遍历物品。"
   ]
  },
  {
   "cell_type": "code",
   "execution_count": null,
   "id": "71d22e62",
   "metadata": {},
   "outputs": [],
   "source": [
    "class Solution:\n",
    "    def change(self, amount: int, coins: List[int]) -> int:\n",
    "        # dp[i]: dp[i] way to get i\n",
    "        # dp[i] += dp[i - nums[j]]\n",
    "\n",
    "        dp = [0] *(amount + 1)\n",
    "        dp[0] = 1\n",
    "        for coin in coins:\n",
    "            for i in range(coin, amount + 1):\n",
    "                dp[i] += dp[i-coin]\n",
    "        return dp[-1]"
   ]
  }
 ],
 "metadata": {
  "kernelspec": {
   "display_name": "Python 3 (ipykernel)",
   "language": "python",
   "name": "python3"
  },
  "language_info": {
   "codemirror_mode": {
    "name": "ipython",
    "version": 3
   },
   "file_extension": ".py",
   "mimetype": "text/x-python",
   "name": "python",
   "nbconvert_exporter": "python",
   "pygments_lexer": "ipython3",
   "version": "3.9.12"
  }
 },
 "nbformat": 4,
 "nbformat_minor": 5
}
