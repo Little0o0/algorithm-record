{
 "cells": [
  {
   "cell_type": "markdown",
   "id": "a5cc842b",
   "metadata": {},
   "source": [
    "# 53. Maximum Subarray"
   ]
  },
  {
   "cell_type": "markdown",
   "id": "4f55047a",
   "metadata": {},
   "source": [
    "Given an integer array nums, find the \n",
    "subarray\n",
    " with the largest sum, and return its sum.\n",
    " \n",
    " https://leetcode.com/problems/maximum-subarray/"
   ]
  },
  {
   "cell_type": "raw",
   "id": "70d1096c",
   "metadata": {},
   "source": [
    "动规五部曲如下：\n",
    "\n",
    "确定dp数组（dp table）以及下标的含义\n",
    "dp[i]：包括下标i（以nums[i]为结尾）的最大连续子序列和为dp[i]。\n",
    "\n",
    "确定递推公式\n",
    "dp[i]只有两个方向可以推出来：\n",
    "\n",
    "dp[i - 1] + nums[i]，即：nums[i]加入当前连续子序列和\n",
    "nums[i]，即：从头开始计算当前连续子序列和\n",
    "一定是取最大的，所以dp[i] = max(dp[i - 1] + nums[i], nums[i]);\n",
    "\n",
    "dp数组如何初始化\n",
    "从递推公式可以看出来dp[i]是依赖于dp[i - 1]的状态，dp[0]就是递推公式的基础。\n",
    "\n",
    "dp[0]应该是多少呢?\n",
    "\n",
    "根据dp[i]的定义，很明显dp[0]应为nums[0]即dp[0] = nums[0]。\n",
    "\n",
    "确定遍历顺序\n",
    "递推公式中dp[i]依赖于dp[i - 1]的状态，需要从前向后遍历。"
   ]
  },
  {
   "cell_type": "code",
   "execution_count": null,
   "id": "05dcf369",
   "metadata": {},
   "outputs": [],
   "source": [
    "class Solution:\n",
    "    def maxSubArray(self, nums: List[int]) -> int:\n",
    "        if len(nums) == 0:\n",
    "            return 0\n",
    "        dp = [0] * len(nums)\n",
    "        dp[0] = nums[0]\n",
    "        result = dp[0]\n",
    "        for i in range(1, len(nums)):\n",
    "            dp[i] = max(dp[i-1] + nums[i], nums[i]) #状态转移公式\n",
    "            result = max(result, dp[i]) #result 保存dp[i]的最大值\n",
    "        return result"
   ]
  },
  {
   "cell_type": "code",
   "execution_count": null,
   "id": "a1866433",
   "metadata": {},
   "outputs": [],
   "source": []
  }
 ],
 "metadata": {
  "kernelspec": {
   "display_name": "Python 3 (ipykernel)",
   "language": "python",
   "name": "python3"
  },
  "language_info": {
   "codemirror_mode": {
    "name": "ipython",
    "version": 3
   },
   "file_extension": ".py",
   "mimetype": "text/x-python",
   "name": "python",
   "nbconvert_exporter": "python",
   "pygments_lexer": "ipython3",
   "version": "3.9.12"
  }
 },
 "nbformat": 4,
 "nbformat_minor": 5
}
