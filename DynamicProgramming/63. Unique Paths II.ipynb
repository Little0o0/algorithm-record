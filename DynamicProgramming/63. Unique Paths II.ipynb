{
 "cells": [
  {
   "cell_type": "markdown",
   "id": "e085b564",
   "metadata": {},
   "source": [
    "# 63. Unique Paths II\n",
    "You are given an m x n integer array grid. There is a robot initially located at the top-left corner (i.e., grid[0][0]). The robot tries to move to the bottom-right corner (i.e., grid[m - 1][n - 1]). The robot can only move either down or right at any point in time.\n",
    "\n",
    "An obstacle and space are marked as 1 or 0 respectively in grid. A path that the robot takes cannot include any square that is an obstacle.\n",
    "\n",
    "Return the number of possible unique paths that the robot can take to reach the bottom-right corner.\n",
    "\n",
    "The testcases are generated so that the answer will be less than or equal to 2 * 109."
   ]
  },
  {
   "cell_type": "markdown",
   "id": "04015489",
   "metadata": {},
   "source": [
    "1. 确定dp下标意义\n",
    "```\n",
    "dp[i][j] 代表到达i，j 的 the number of possible unique path\n",
    "```\n",
    "\n",
    "2. 确认转移方程\n",
    "```\n",
    "if obstacleGrid[i][j] == 0:\n",
    "dp[i][j] = dp[i-1][j] + dp[i][j-1]\n",
    "if obstacleGrid[i][j] == 1: dp[i][j] = 0\n",
    "```\n",
    "\n",
    "3. 确认初始化参数\n",
    "```\n",
    "dp[0][0] = 1\n",
    "for (int i = 0; i < m; i++) dp[i][0] = dp[i-1][0];\n",
    "for (int j = 0; j < n; j++) dp[0][j] = dp[0][j-1];\n",
    "if obstacleGrid[i][j] == 1: dp[i][j] = 0;\n",
    "```\n",
    "\n",
    "4. 确定遍历顺序\n",
    "```\n",
    "从左到右 从上到下\n",
    "```\n",
    "\n",
    "5. 确定示例\n",
    "```\n",
    "\n",
    "```"
   ]
  },
  {
   "cell_type": "code",
   "execution_count": null,
   "id": "5d4072ac",
   "metadata": {},
   "outputs": [],
   "source": [
    "class Solution:\n",
    "    def uniquePathsWithObstacles(self, obstacleGrid: List[List[int]]) -> int:\n",
    "        m = len(obstacleGrid) \n",
    "        n = len(obstacleGrid[0])\n",
    "        dp = [[0]*n for _ in range(m)]\n",
    "         \n",
    "        if obstacleGrid[0][0] == 1:\n",
    "            return 0   \n",
    "        else:\n",
    "             dp[0][0] = 1\n",
    "        \n",
    "        for i in range(1, m):\n",
    "            if obstacleGrid[i][0] == 0:\n",
    "                dp[i][0] = dp[i-1][0]\n",
    "\n",
    "        for j in range(1, n):\n",
    "            if obstacleGrid[0][j] == 0:\n",
    "                dp[0][j] = dp[0][j-1]\n",
    "\n",
    "        for i in range(1, m):\n",
    "            for j in range(1, n):\n",
    "                if obstacleGrid[i][j] == 1:\n",
    "                    dp[i][j] = 0\n",
    "                else:\n",
    "                    dp[i][j] = dp[i-1][j] + dp[i][j-1]\n",
    "\n",
    "        return dp[m-1][n-1]"
   ]
  }
 ],
 "metadata": {
  "kernelspec": {
   "display_name": "Python 3 (ipykernel)",
   "language": "python",
   "name": "python3"
  },
  "language_info": {
   "codemirror_mode": {
    "name": "ipython",
    "version": 3
   },
   "file_extension": ".py",
   "mimetype": "text/x-python",
   "name": "python",
   "nbconvert_exporter": "python",
   "pygments_lexer": "ipython3",
   "version": "3.9.12"
  }
 },
 "nbformat": 4,
 "nbformat_minor": 5
}
