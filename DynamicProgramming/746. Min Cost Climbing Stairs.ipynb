{
 "cells": [
  {
   "cell_type": "markdown",
   "id": "4cf0a978",
   "metadata": {},
   "source": [
    "# 746. Min Cost Climbing Stairs\n",
    "\n",
    "You are given an integer array cost where cost[i] is the cost of ith step on a staircase. Once you pay the cost, you can either climb one or two steps.\n",
    "\n",
    "You can either start from the step with index 0, or the step with index 1.\n",
    "\n",
    "Return the minimum cost to reach the top of the floor.\n",
    "\n",
    "Example 1:\n",
    "```\n",
    "Input: cost = [10,15,20]\n",
    "Output: 15\n",
    "Explanation: You will start at index 1.\n",
    "- Pay 15 and climb two steps to reach the top.\n",
    "The total cost is 15.\n",
    "```\n",
    "Example 2:\n",
    "```\n",
    "Input: cost = [1,100,1,1,1,100,1,1,100,1]\n",
    "Output: 6\n",
    "Explanation: You will start at index 0.\n",
    "- Pay 1 and climb two steps to reach index 2.\n",
    "- Pay 1 and climb two steps to reach index 4.\n",
    "- Pay 1 and climb two steps to reach index 6.\n",
    "- Pay 1 and climb one step to reach index 7.\n",
    "- Pay 1 and climb two steps to reach index 9.\n",
    "- Pay 1 and climb one step to reach the top.\n",
    "The total cost is 6.\n",
    "```"
   ]
  },
  {
   "cell_type": "markdown",
   "id": "70172c06",
   "metadata": {},
   "source": [
    "1. 确定dp数组以及下标的含义\n",
    "\n",
    "dp[i] 代表爬到第i+1级台阶需要的最小cost\n",
    "\n",
    "2. 确定递归方程\n",
    "dp[i] = min(dp[i-1]+cost[i], dp[i-2]+cost[i-1])\n",
    "注意！ 不是 dp[i] = min(dp[i-1]+cost[i-1], dp[i-2]+cost[i-2])，因为是要跳到i+1级台阶！！！！\n",
    "\n",
    "3. 确定初始化\n",
    "\n",
    "dp[1] = min(cost[0], cost[1]) #因为 len(costs) >= 2\n",
    "dp[2] = min(cost[0] + cost[2], cost[1])\n",
    "\n",
    "4. 确定递归方向\n",
    "\n",
    "从前往后\n",
    "\n",
    "5. 示例\n",
    "\n",
    "省略"
   ]
  },
  {
   "cell_type": "code",
   "execution_count": null,
   "id": "7104ba08",
   "metadata": {},
   "outputs": [],
   "source": [
    "class Solution:\n",
    "    def minCostClimbingStairs(self, cost: List[int]) -> int:\n",
    "        if len(cost) == 2:\n",
    "            return min(cost[0], cost[1])\n",
    "        if len(cost) == 3:\n",
    "            return min(cost[1], cost[0] + cost[2])\n",
    "        \n",
    "        \n",
    "        prev_prev = min(cost[0], cost[1])\n",
    "        prev =  min(cost[1], cost[0] + cost[2])\n",
    "        for i in range(3, len(cost)):\n",
    "            val = min(prev_prev + cost[i-1], prev + cost[i]) # attention! here is prev_prev + cost[i-1], prev + cost[i] NOT prev_prev + cost[i-2], prev + cost[i - 1] \n",
    "            prev, prev_prev = val, prev\n",
    "        return val"
   ]
  }
 ],
 "metadata": {
  "kernelspec": {
   "display_name": "Python 3 (ipykernel)",
   "language": "python",
   "name": "python3"
  },
  "language_info": {
   "codemirror_mode": {
    "name": "ipython",
    "version": 3
   },
   "file_extension": ".py",
   "mimetype": "text/x-python",
   "name": "python",
   "nbconvert_exporter": "python",
   "pygments_lexer": "ipython3",
   "version": "3.9.12"
  }
 },
 "nbformat": 4,
 "nbformat_minor": 5
}
