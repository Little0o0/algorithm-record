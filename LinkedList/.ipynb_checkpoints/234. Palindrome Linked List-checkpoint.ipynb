{
 "cells": [
  {
   "cell_type": "markdown",
   "id": "e94925a9",
   "metadata": {},
   "source": [
    "# 234. Palindrome Linked List\n",
    "\n",
    "Given the head of a singly linked list, return true if it is a\n",
    "palindrome\n",
    "or false otherwise."
   ]
  },
  {
   "cell_type": "markdown",
   "id": "cc86a799",
   "metadata": {},
   "source": [
    "https://leetcode.com/problems/palindrome-linked-list/"
   ]
  },
  {
   "cell_type": "code",
   "execution_count": null,
   "id": "c28e99db",
   "metadata": {},
   "outputs": [],
   "source": [
    "# my solution\n",
    "class Solution:\n",
    "    def isPalindrome(self, head: Optional[ListNode]) -> bool:\n",
    "        pointer = head\n",
    "        output = \"\"\n",
    "        while pointer:\n",
    "            output += str(pointer.val)\n",
    "            pointer = pointer.next\n",
    "        \n",
    "        return output == output[::-1]"
   ]
  },
  {
   "cell_type": "code",
   "execution_count": null,
   "id": "93e5c42b",
   "metadata": {},
   "outputs": [],
   "source": [
    "#数组模拟\n",
    "class Solution:\n",
    "    def isPalindrome(self, head: Optional[ListNode]) -> bool:\n",
    "        list=[]\n",
    "        while head: \n",
    "            list.append(head.val)\n",
    "            head=head.next\n",
    "        l,r=0, len(list)-1\n",
    "        while l<=r: \n",
    "            if list[l]!=list[r]:\n",
    "                return False\n",
    "            l+=1\n",
    "            r-=1\n",
    "        return True   \n",
    "      \n",
    "#反转后半部分链表\n",
    "class Solution:\n",
    "    def isPalindrome(self, head: Optional[ListNode]) -> bool:\n",
    "        fast = slow = head\n",
    "\n",
    "        # find mid point which including (first) mid point into the first half linked list\n",
    "        while fast and fast.next:\n",
    "            fast = fast.next.next\n",
    "            slow = slow.next\n",
    "        node = None\n",
    "\n",
    "        # reverse second half linked list\n",
    "        while slow:\n",
    "            slow.next, slow, node = node, slow.next, slow\n",
    "\n",
    "        # compare reversed and original half; must maintain reversed linked list is shorter than 1st half\n",
    "        while node:\n",
    "            if node.val != head.val:\n",
    "                return False\n",
    "            node = node.next\n",
    "            head = head.next\n",
    "        return True"
   ]
  }
 ],
 "metadata": {
  "kernelspec": {
   "display_name": "Python 3 (ipykernel)",
   "language": "python",
   "name": "python3"
  },
  "language_info": {
   "codemirror_mode": {
    "name": "ipython",
    "version": 3
   },
   "file_extension": ".py",
   "mimetype": "text/x-python",
   "name": "python",
   "nbconvert_exporter": "python",
   "pygments_lexer": "ipython3",
   "version": "3.9.12"
  }
 },
 "nbformat": 4,
 "nbformat_minor": 5
}
