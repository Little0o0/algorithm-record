{
 "cells": [
  {
   "cell_type": "markdown",
   "id": "35d06393",
   "metadata": {},
   "source": [
    "# 41. First Missing Positive\n",
    "https://leetcode.com/problems/first-missing-positive/description/\n",
    "\n",
    "\n",
    "Given an unsorted integer array nums, return the smallest missing positive integer.\n",
    "\n",
    "You must implement an algorithm that runs in O(n) time and uses constant extra space.\n",
    "\n",
    "## Example:\n",
    "\n",
    "Input: nums = [3,4,-1,1]\n",
    "\n",
    "Output: 2\n",
    "\n",
    "Explanation: 1 is in the array but 2 is missing."
   ]
  },
  {
   "cell_type": "code",
   "execution_count": 3,
   "id": "828f86bd",
   "metadata": {},
   "outputs": [],
   "source": [
    "from typing import List"
   ]
  },
  {
   "cell_type": "code",
   "execution_count": 4,
   "id": "98d4ce7e",
   "metadata": {},
   "outputs": [],
   "source": [
    "# my solution O(nlog(n))\n",
    "class Solution:\n",
    "    def firstMissingPositive(self, nums: List[int]) -> int:\n",
    "        nums_sort = sorted(nums)\n",
    "        for idx, value in enumerate(nums_sort):\n",
    "            if value > 1:\n",
    "                if idx == 0:\n",
    "                    return 1\n",
    "                elif value > nums_sort[idx - 1] + 1:\n",
    "                    return max(nums_sort[idx - 1] + 1, 1)\n",
    "        return max(nums_sort[-1] + 1, 1)"
   ]
  },
  {
   "cell_type": "code",
   "execution_count": null,
   "id": "88186f31",
   "metadata": {},
   "outputs": [],
   "source": [
    "# O(n) solution\n",
    "class Solution:\n",
    "    def firstMissingPositive(self, nums: List[int]) -> int:\n",
    "        n = len(nums)\n",
    "        \n",
    "        # the output is >=1 and <= n+1, the value in [, 0] and (n, ] are useless\n",
    "        for i in range(n):\n",
    "            if nums[i] <= 0 or nums[i] > n:\n",
    "                nums[i] = 0\n",
    "        # use the index to label the value existing\n",
    "        for i in range(n):\n",
    "            while nums[i] != i + 1:\n",
    "                if nums[i] == 0:\n",
    "                    break\n",
    "                    \n",
    "                # to avoid same value\n",
    "                if nums[nums[i] - 1] == nums[i]:\n",
    "                    nums[i] = 0\n",
    "                    break\n",
    "\n",
    "                # sway value to make sure nums[nums[i] - 1] = nums[i]\n",
    "                tmp = nums[nums[i] - 1]\n",
    "                nums[nums[i] - 1] = nums[i]\n",
    "                nums[i] = tmp\n",
    "            \n",
    "        print(nums)\n",
    "        for i in range(n):\n",
    "            if nums[i] == 0:\n",
    "                return i + 1\n",
    "        \n",
    "        return n + 1"
   ]
  }
 ],
 "metadata": {
  "kernelspec": {
   "display_name": "Python 3 (ipykernel)",
   "language": "python",
   "name": "python3"
  },
  "language_info": {
   "codemirror_mode": {
    "name": "ipython",
    "version": 3
   },
   "file_extension": ".py",
   "mimetype": "text/x-python",
   "name": "python",
   "nbconvert_exporter": "python",
   "pygments_lexer": "ipython3",
   "version": "3.9.12"
  }
 },
 "nbformat": 4,
 "nbformat_minor": 5
}
