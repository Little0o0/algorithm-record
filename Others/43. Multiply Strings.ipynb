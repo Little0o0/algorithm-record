{
 "cells": [
  {
   "cell_type": "markdown",
   "id": "16b45d34",
   "metadata": {},
   "source": [
    "# 43. Multiply Strings\n",
    "\n",
    "https://leetcode.com/problems/multiply-strings/\n",
    "\n",
    "Given two non-negative integers num1 and num2 represented as strings, return the product of num1 and num2, also represented as a string.\n",
    "\n",
    "Note: You must not use any built-in BigInteger library or convert the inputs to integer directly.\n",
    "\n",
    "## Example: \n",
    "\n",
    "Input: num1 = \"2\", num2 = \"3\"\n",
    "\n",
    "Output: \"6\""
   ]
  },
  {
   "cell_type": "code",
   "execution_count": 1,
   "id": "bd1ec90a",
   "metadata": {},
   "outputs": [],
   "source": [
    "import typing as List"
   ]
  },
  {
   "cell_type": "code",
   "execution_count": 2,
   "id": "ab57cf8c",
   "metadata": {},
   "outputs": [],
   "source": [
    "# my solution\n",
    "class Solution:\n",
    "    def multiply(self, num1: str, num2: str) -> str:\n",
    "        if len(num1) == 1 and len(num2) == 1:\n",
    "            return str((ord(num1)-ord(\"0\"))* (ord(num2)-ord(\"0\")))\n",
    "\n",
    "        out = 0\n",
    "        num1_str = reversed(num1)\n",
    "        for idx, n in enumerate(num1_str):\n",
    "            out += int(self.multiply(num2, n)) * (10**idx)\n",
    "        \n",
    "        return str(out)"
   ]
  },
  {
   "cell_type": "code",
   "execution_count": 5,
   "id": "da4f2c0c",
   "metadata": {},
   "outputs": [],
   "source": [
    "# others\n",
    "class Solution:\n",
    "    def multiply(self, num1: str, num2: str) -> str:\n",
    "        res = [0]* (len(num1) + len(num2))\n",
    "        for i, e1 in enumerate(reversed(num1)):\n",
    "            for j, e2 in enumerate(reversed(num2)):\n",
    "                res[i+j] += int(e1) * int(e2)\n",
    "                res[i+j+1] += res[i+j]/10\n",
    "                res[i+j] %= 10\n",
    "\n",
    "        while len(res) > 1 and res[-1] == 0: res.pop()\n",
    "        return ''.join( map(str,res[::-1]) )"
   ]
  },
  {
   "cell_type": "code",
   "execution_count": null,
   "id": "bf33a12b",
   "metadata": {},
   "outputs": [],
   "source": []
  }
 ],
 "metadata": {
  "kernelspec": {
   "display_name": "Python 3 (ipykernel)",
   "language": "python",
   "name": "python3"
  },
  "language_info": {
   "codemirror_mode": {
    "name": "ipython",
    "version": 3
   },
   "file_extension": ".py",
   "mimetype": "text/x-python",
   "name": "python",
   "nbconvert_exporter": "python",
   "pygments_lexer": "ipython3",
   "version": "3.9.12"
  }
 },
 "nbformat": 4,
 "nbformat_minor": 5
}
